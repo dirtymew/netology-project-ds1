{
 "cells": [
  {
   "cell_type": "markdown",
   "metadata": {},
   "source": [
    "### data set\n",
    "https://www.kaggle.com/retailrocket/ecommerce-dataset"
   ]
  },
  {
   "cell_type": "code",
   "execution_count": 4,
   "metadata": {},
   "outputs": [
    {
     "name": "stdout",
     "output_type": "stream",
     "text": [
      "Populating the interactive namespace from numpy and matplotlib\n"
     ]
    }
   ],
   "source": [
    "import numpy as np\n",
    "import pandas as pd\n",
    "import matplotlib.pyplot as plt\n",
    "import seaborn as sn\n",
    "import sklearn\n",
    "\n",
    "import warnings\n",
    "warnings.simplefilter('ignore')\n",
    "\n",
    "%pylab inline"
   ]
  },
  {
   "cell_type": "markdown",
   "metadata": {},
   "source": [
    "### load data"
   ]
  },
  {
   "cell_type": "code",
   "execution_count": 33,
   "metadata": {
    "collapsed": true
   },
   "outputs": [],
   "source": [
    "events = pd.DataFrame.from_csv('./data/train_events_3.csv')"
   ]
  },
  {
   "cell_type": "code",
   "execution_count": 34,
   "metadata": {
    "collapsed": true
   },
   "outputs": [],
   "source": [
    "#избавимся от NaN"
   ]
  },
  {
   "cell_type": "code",
   "execution_count": 35,
   "metadata": {
    "collapsed": true
   },
   "outputs": [],
   "source": [
    "events.item_cat = events.item_cat.replace({np.nan : -1})"
   ]
  },
  {
   "cell_type": "code",
   "execution_count": 36,
   "metadata": {},
   "outputs": [
    {
     "data": {
      "text/html": [
       "<div>\n",
       "<style>\n",
       "    .dataframe thead tr:only-child th {\n",
       "        text-align: right;\n",
       "    }\n",
       "\n",
       "    .dataframe thead th {\n",
       "        text-align: left;\n",
       "    }\n",
       "\n",
       "    .dataframe tbody tr th {\n",
       "        vertical-align: top;\n",
       "    }\n",
       "</style>\n",
       "<table border=\"1\" class=\"dataframe\">\n",
       "  <thead>\n",
       "    <tr style=\"text-align: right;\">\n",
       "      <th></th>\n",
       "      <th>index</th>\n",
       "      <th>timestamp</th>\n",
       "      <th>visitorid</th>\n",
       "      <th>event</th>\n",
       "      <th>itemid</th>\n",
       "      <th>transactionid</th>\n",
       "      <th>delta</th>\n",
       "      <th>delta1</th>\n",
       "      <th>ssid</th>\n",
       "      <th>session_type</th>\n",
       "      <th>item_cat</th>\n",
       "      <th>item_cat_dist</th>\n",
       "      <th>event_type</th>\n",
       "      <th>session_transation_type</th>\n",
       "    </tr>\n",
       "  </thead>\n",
       "  <tbody>\n",
       "    <tr>\n",
       "      <th>1355818</th>\n",
       "      <td>1796160</td>\n",
       "      <td>1437973995037</td>\n",
       "      <td>1407573</td>\n",
       "      <td>view</td>\n",
       "      <td>57720</td>\n",
       "      <td>-1</td>\n",
       "      <td>3.724917</td>\n",
       "      <td>3.724917</td>\n",
       "      <td>592158</td>\n",
       "      <td>1</td>\n",
       "      <td>1318.0</td>\n",
       "      <td>0.0</td>\n",
       "      <td>0</td>\n",
       "      <td>0</td>\n",
       "    </tr>\n",
       "    <tr>\n",
       "      <th>1355819</th>\n",
       "      <td>1902650</td>\n",
       "      <td>1438402327230</td>\n",
       "      <td>1407573</td>\n",
       "      <td>view</td>\n",
       "      <td>363109</td>\n",
       "      <td>-1</td>\n",
       "      <td>7138.869883</td>\n",
       "      <td>NaN</td>\n",
       "      <td>592159</td>\n",
       "      <td>0</td>\n",
       "      <td>-1.0</td>\n",
       "      <td>0.0</td>\n",
       "      <td>0</td>\n",
       "      <td>0</td>\n",
       "    </tr>\n",
       "    <tr>\n",
       "      <th>1355820</th>\n",
       "      <td>1902661</td>\n",
       "      <td>1438402365311</td>\n",
       "      <td>1407573</td>\n",
       "      <td>view</td>\n",
       "      <td>463766</td>\n",
       "      <td>-1</td>\n",
       "      <td>0.634683</td>\n",
       "      <td>0.634683</td>\n",
       "      <td>592159</td>\n",
       "      <td>0</td>\n",
       "      <td>-1.0</td>\n",
       "      <td>0.0</td>\n",
       "      <td>0</td>\n",
       "      <td>0</td>\n",
       "    </tr>\n",
       "    <tr>\n",
       "      <th>1355821</th>\n",
       "      <td>1951634</td>\n",
       "      <td>1438648367715</td>\n",
       "      <td>1407573</td>\n",
       "      <td>view</td>\n",
       "      <td>82278</td>\n",
       "      <td>-1</td>\n",
       "      <td>4100.040067</td>\n",
       "      <td>NaN</td>\n",
       "      <td>592160</td>\n",
       "      <td>1</td>\n",
       "      <td>1659.0</td>\n",
       "      <td>0.0</td>\n",
       "      <td>0</td>\n",
       "      <td>0</td>\n",
       "    </tr>\n",
       "    <tr>\n",
       "      <th>1355822</th>\n",
       "      <td>1951674</td>\n",
       "      <td>1438648495146</td>\n",
       "      <td>1407573</td>\n",
       "      <td>view</td>\n",
       "      <td>82278</td>\n",
       "      <td>-1</td>\n",
       "      <td>2.123850</td>\n",
       "      <td>2.123850</td>\n",
       "      <td>592160</td>\n",
       "      <td>1</td>\n",
       "      <td>1659.0</td>\n",
       "      <td>0.0</td>\n",
       "      <td>0</td>\n",
       "      <td>0</td>\n",
       "    </tr>\n",
       "  </tbody>\n",
       "</table>\n",
       "</div>"
      ],
      "text/plain": [
       "           index      timestamp  visitorid event  itemid  transactionid  \\\n",
       "1355818  1796160  1437973995037    1407573  view   57720             -1   \n",
       "1355819  1902650  1438402327230    1407573  view  363109             -1   \n",
       "1355820  1902661  1438402365311    1407573  view  463766             -1   \n",
       "1355821  1951634  1438648367715    1407573  view   82278             -1   \n",
       "1355822  1951674  1438648495146    1407573  view   82278             -1   \n",
       "\n",
       "               delta    delta1    ssid  session_type  item_cat  item_cat_dist  \\\n",
       "1355818     3.724917  3.724917  592158             1    1318.0            0.0   \n",
       "1355819  7138.869883       NaN  592159             0      -1.0            0.0   \n",
       "1355820     0.634683  0.634683  592159             0      -1.0            0.0   \n",
       "1355821  4100.040067       NaN  592160             1    1659.0            0.0   \n",
       "1355822     2.123850  2.123850  592160             1    1659.0            0.0   \n",
       "\n",
       "         event_type  session_transation_type  \n",
       "1355818           0                        0  \n",
       "1355819           0                        0  \n",
       "1355820           0                        0  \n",
       "1355821           0                        0  \n",
       "1355822           0                        0  "
      ]
     },
     "execution_count": 36,
     "metadata": {},
     "output_type": "execute_result"
    }
   ],
   "source": [
    "events.tail(5)"
   ]
  },
  {
   "cell_type": "code",
   "execution_count": 37,
   "metadata": {},
   "outputs": [
    {
     "data": {
      "text/plain": [
       "0    1292348\n",
       "1      63475\n",
       "Name: session_transation_type, dtype: int64"
      ]
     },
     "execution_count": 37,
     "metadata": {},
     "output_type": "execute_result"
    }
   ],
   "source": [
    "events.session_transation_type.value_counts()"
   ]
  },
  {
   "cell_type": "code",
   "execution_count": null,
   "metadata": {
    "collapsed": true
   },
   "outputs": [],
   "source": []
  },
  {
   "cell_type": "code",
   "execution_count": 18,
   "metadata": {},
   "outputs": [
    {
     "data": {
      "text/plain": [
       "1355822"
      ]
     },
     "execution_count": 18,
     "metadata": {},
     "output_type": "execute_result"
    }
   ],
   "source": [
    "events.last_valid_index()"
   ]
  },
  {
   "cell_type": "code",
   "execution_count": 15,
   "metadata": {
    "collapsed": true
   },
   "outputs": [],
   "source": [
    "ssids = events.ssid.unique()"
   ]
  },
  {
   "cell_type": "code",
   "execution_count": 16,
   "metadata": {},
   "outputs": [
    {
     "data": {
      "text/plain": [
       "592160"
      ]
     },
     "execution_count": 16,
     "metadata": {},
     "output_type": "execute_result"
    }
   ],
   "source": [
    "ssids.shape[0]"
   ]
  },
  {
   "cell_type": "code",
   "execution_count": 22,
   "metadata": {},
   "outputs": [
    {
     "name": "stdout",
     "output_type": "stream",
     "text": [
      "CPU times: user 23min 36s, sys: 10.5 s, total: 23min 46s\n",
      "Wall time: 23min 57s\n"
     ]
    }
   ],
   "source": [
    "%%time\n",
    "drop_list = []\n",
    "for i in ssids:\n",
    "    event = events.loc[events.ssid == i]\n",
    "    drop_list.append(event.last_valid_index())"
   ]
  },
  {
   "cell_type": "code",
   "execution_count": 38,
   "metadata": {},
   "outputs": [
    {
     "data": {
      "text/plain": [
       "592160"
      ]
     },
     "execution_count": 38,
     "metadata": {},
     "output_type": "execute_result"
    }
   ],
   "source": [
    "len(drop_list)"
   ]
  },
  {
   "cell_type": "code",
   "execution_count": 43,
   "metadata": {
    "collapsed": true
   },
   "outputs": [],
   "source": [
    "events.reset_index(inplace=True)"
   ]
  },
  {
   "cell_type": "code",
   "execution_count": 44,
   "metadata": {},
   "outputs": [
    {
     "data": {
      "text/html": [
       "<div>\n",
       "<style>\n",
       "    .dataframe thead tr:only-child th {\n",
       "        text-align: right;\n",
       "    }\n",
       "\n",
       "    .dataframe thead th {\n",
       "        text-align: left;\n",
       "    }\n",
       "\n",
       "    .dataframe tbody tr th {\n",
       "        vertical-align: top;\n",
       "    }\n",
       "</style>\n",
       "<table border=\"1\" class=\"dataframe\">\n",
       "  <thead>\n",
       "    <tr style=\"text-align: right;\">\n",
       "      <th></th>\n",
       "      <th>level_0</th>\n",
       "      <th>index</th>\n",
       "      <th>timestamp</th>\n",
       "      <th>visitorid</th>\n",
       "      <th>event</th>\n",
       "      <th>itemid</th>\n",
       "      <th>transactionid</th>\n",
       "      <th>delta</th>\n",
       "      <th>delta1</th>\n",
       "      <th>ssid</th>\n",
       "      <th>session_type</th>\n",
       "      <th>item_cat</th>\n",
       "      <th>item_cat_dist</th>\n",
       "      <th>event_type</th>\n",
       "      <th>session_transation_type</th>\n",
       "    </tr>\n",
       "  </thead>\n",
       "  <tbody>\n",
       "    <tr>\n",
       "      <th>0</th>\n",
       "      <td>0</td>\n",
       "      <td>2024720</td>\n",
       "      <td>1438969904567</td>\n",
       "      <td>2</td>\n",
       "      <td>view</td>\n",
       "      <td>325215</td>\n",
       "      <td>-1</td>\n",
       "      <td>NaN</td>\n",
       "      <td>NaN</td>\n",
       "      <td>1</td>\n",
       "      <td>2</td>\n",
       "      <td>299.0</td>\n",
       "      <td>0.0</td>\n",
       "      <td>0</td>\n",
       "      <td>0</td>\n",
       "    </tr>\n",
       "    <tr>\n",
       "      <th>1</th>\n",
       "      <td>1</td>\n",
       "      <td>2024760</td>\n",
       "      <td>1438970013790</td>\n",
       "      <td>2</td>\n",
       "      <td>view</td>\n",
       "      <td>325215</td>\n",
       "      <td>-1</td>\n",
       "      <td>1.820383</td>\n",
       "      <td>1.820383</td>\n",
       "      <td>1</td>\n",
       "      <td>2</td>\n",
       "      <td>299.0</td>\n",
       "      <td>0.0</td>\n",
       "      <td>0</td>\n",
       "      <td>0</td>\n",
       "    </tr>\n",
       "    <tr>\n",
       "      <th>2</th>\n",
       "      <td>2</td>\n",
       "      <td>2024834</td>\n",
       "      <td>1438970212664</td>\n",
       "      <td>2</td>\n",
       "      <td>view</td>\n",
       "      <td>259884</td>\n",
       "      <td>-1</td>\n",
       "      <td>3.314567</td>\n",
       "      <td>3.314567</td>\n",
       "      <td>1</td>\n",
       "      <td>2</td>\n",
       "      <td>299.0</td>\n",
       "      <td>0.0</td>\n",
       "      <td>0</td>\n",
       "      <td>0</td>\n",
       "    </tr>\n",
       "    <tr>\n",
       "      <th>3</th>\n",
       "      <td>3</td>\n",
       "      <td>2024945</td>\n",
       "      <td>1438970468920</td>\n",
       "      <td>2</td>\n",
       "      <td>view</td>\n",
       "      <td>216305</td>\n",
       "      <td>-1</td>\n",
       "      <td>4.270933</td>\n",
       "      <td>4.270933</td>\n",
       "      <td>1</td>\n",
       "      <td>2</td>\n",
       "      <td>299.0</td>\n",
       "      <td>0.0</td>\n",
       "      <td>0</td>\n",
       "      <td>0</td>\n",
       "    </tr>\n",
       "    <tr>\n",
       "      <th>4</th>\n",
       "      <td>4</td>\n",
       "      <td>2025140</td>\n",
       "      <td>1438970905669</td>\n",
       "      <td>2</td>\n",
       "      <td>view</td>\n",
       "      <td>342816</td>\n",
       "      <td>-1</td>\n",
       "      <td>7.279150</td>\n",
       "      <td>7.279150</td>\n",
       "      <td>1</td>\n",
       "      <td>2</td>\n",
       "      <td>444.0</td>\n",
       "      <td>10.0</td>\n",
       "      <td>0</td>\n",
       "      <td>0</td>\n",
       "    </tr>\n",
       "  </tbody>\n",
       "</table>\n",
       "</div>"
      ],
      "text/plain": [
       "   level_0    index      timestamp  visitorid event  itemid  transactionid  \\\n",
       "0        0  2024720  1438969904567          2  view  325215             -1   \n",
       "1        1  2024760  1438970013790          2  view  325215             -1   \n",
       "2        2  2024834  1438970212664          2  view  259884             -1   \n",
       "3        3  2024945  1438970468920          2  view  216305             -1   \n",
       "4        4  2025140  1438970905669          2  view  342816             -1   \n",
       "\n",
       "      delta    delta1  ssid  session_type  item_cat  item_cat_dist  \\\n",
       "0       NaN       NaN     1             2     299.0            0.0   \n",
       "1  1.820383  1.820383     1             2     299.0            0.0   \n",
       "2  3.314567  3.314567     1             2     299.0            0.0   \n",
       "3  4.270933  4.270933     1             2     299.0            0.0   \n",
       "4  7.279150  7.279150     1             2     444.0           10.0   \n",
       "\n",
       "   event_type  session_transation_type  \n",
       "0           0                        0  \n",
       "1           0                        0  \n",
       "2           0                        0  \n",
       "3           0                        0  \n",
       "4           0                        0  "
      ]
     },
     "execution_count": 44,
     "metadata": {},
     "output_type": "execute_result"
    }
   ],
   "source": [
    "events.head()"
   ]
  },
  {
   "cell_type": "code",
   "execution_count": null,
   "metadata": {
    "collapsed": true
   },
   "outputs": [],
   "source": []
  },
  {
   "cell_type": "code",
   "execution_count": 46,
   "metadata": {
    "collapsed": true
   },
   "outputs": [],
   "source": [
    "e = events.loc[events.index.isin(drop_list)]"
   ]
  },
  {
   "cell_type": "code",
   "execution_count": 47,
   "metadata": {
    "scrolled": true
   },
   "outputs": [
    {
     "data": {
      "text/plain": [
       "(592160, 15)"
      ]
     },
     "execution_count": 47,
     "metadata": {},
     "output_type": "execute_result"
    }
   ],
   "source": [
    "e.shape"
   ]
  },
  {
   "cell_type": "code",
   "execution_count": 48,
   "metadata": {},
   "outputs": [
    {
     "data": {
      "text/plain": [
       "763663"
      ]
     },
     "execution_count": 48,
     "metadata": {},
     "output_type": "execute_result"
    }
   ],
   "source": [
    "events.shape[0] - e.shape[0]"
   ]
  },
  {
   "cell_type": "code",
   "execution_count": 49,
   "metadata": {
    "collapsed": true
   },
   "outputs": [],
   "source": [
    "events_ = events.drop(e.index,axis=0)"
   ]
  },
  {
   "cell_type": "code",
   "execution_count": 51,
   "metadata": {},
   "outputs": [
    {
     "data": {
      "text/plain": [
       "763663"
      ]
     },
     "execution_count": 51,
     "metadata": {},
     "output_type": "execute_result"
    }
   ],
   "source": [
    "events_.shape[0]"
   ]
  },
  {
   "cell_type": "code",
   "execution_count": 55,
   "metadata": {
    "collapsed": true
   },
   "outputs": [],
   "source": [
    "events_ = events.drop('level_0',axis=1)"
   ]
  },
  {
   "cell_type": "code",
   "execution_count": null,
   "metadata": {
    "collapsed": true
   },
   "outputs": [],
   "source": [
    "#сгруппируем сессии"
   ]
  },
  {
   "cell_type": "code",
   "execution_count": 56,
   "metadata": {},
   "outputs": [
    {
     "name": "stdout",
     "output_type": "stream",
     "text": [
      "CPU times: user 1.77 s, sys: 339 ms, total: 2.1 s\n",
      "Wall time: 2.14 s\n"
     ]
    }
   ],
   "source": [
    "%%time\n",
    "sessions_ =  events_[['ssid',\n",
    "                     'delta1',\n",
    "                     'itemid',\n",
    "                     'session_type',\n",
    "                     'item_cat',\n",
    "                     'event_type',\n",
    "                     'item_cat_dist',\n",
    "                     'session_transation_type'\n",
    "                     ]].groupby('ssid').agg(['mean','count','sum','max','nunique'])"
   ]
  },
  {
   "cell_type": "code",
   "execution_count": 83,
   "metadata": {
    "collapsed": true
   },
   "outputs": [],
   "source": [
    "sessions = sessions_"
   ]
  },
  {
   "cell_type": "code",
   "execution_count": 84,
   "metadata": {},
   "outputs": [
    {
     "data": {
      "text/html": [
       "<div>\n",
       "<style>\n",
       "    .dataframe thead tr:only-child th {\n",
       "        text-align: right;\n",
       "    }\n",
       "\n",
       "    .dataframe thead th {\n",
       "        text-align: left;\n",
       "    }\n",
       "\n",
       "    .dataframe tbody tr th {\n",
       "        vertical-align: top;\n",
       "    }\n",
       "</style>\n",
       "<table border=\"1\" class=\"dataframe\">\n",
       "  <thead>\n",
       "    <tr>\n",
       "      <th></th>\n",
       "      <th colspan=\"5\" halign=\"left\">delta1</th>\n",
       "      <th colspan=\"5\" halign=\"left\">itemid</th>\n",
       "      <th>...</th>\n",
       "      <th colspan=\"5\" halign=\"left\">item_cat_dist</th>\n",
       "      <th colspan=\"5\" halign=\"left\">session_transation_type</th>\n",
       "    </tr>\n",
       "    <tr>\n",
       "      <th></th>\n",
       "      <th>mean</th>\n",
       "      <th>count</th>\n",
       "      <th>sum</th>\n",
       "      <th>max</th>\n",
       "      <th>nunique</th>\n",
       "      <th>mean</th>\n",
       "      <th>count</th>\n",
       "      <th>sum</th>\n",
       "      <th>max</th>\n",
       "      <th>nunique</th>\n",
       "      <th>...</th>\n",
       "      <th>mean</th>\n",
       "      <th>count</th>\n",
       "      <th>sum</th>\n",
       "      <th>max</th>\n",
       "      <th>nunique</th>\n",
       "      <th>mean</th>\n",
       "      <th>count</th>\n",
       "      <th>sum</th>\n",
       "      <th>max</th>\n",
       "      <th>nunique</th>\n",
       "    </tr>\n",
       "    <tr>\n",
       "      <th>ssid</th>\n",
       "      <th></th>\n",
       "      <th></th>\n",
       "      <th></th>\n",
       "      <th></th>\n",
       "      <th></th>\n",
       "      <th></th>\n",
       "      <th></th>\n",
       "      <th></th>\n",
       "      <th></th>\n",
       "      <th></th>\n",
       "      <th></th>\n",
       "      <th></th>\n",
       "      <th></th>\n",
       "      <th></th>\n",
       "      <th></th>\n",
       "      <th></th>\n",
       "      <th></th>\n",
       "      <th></th>\n",
       "      <th></th>\n",
       "      <th></th>\n",
       "      <th></th>\n",
       "    </tr>\n",
       "  </thead>\n",
       "  <tbody>\n",
       "    <tr>\n",
       "      <th>1</th>\n",
       "      <td>4.174471</td>\n",
       "      <td>7</td>\n",
       "      <td>29.221300</td>\n",
       "      <td>8.978433</td>\n",
       "      <td>7</td>\n",
       "      <td>294221.375</td>\n",
       "      <td>8</td>\n",
       "      <td>2353771</td>\n",
       "      <td>342816</td>\n",
       "      <td>4</td>\n",
       "      <td>...</td>\n",
       "      <td>2.5</td>\n",
       "      <td>8</td>\n",
       "      <td>20.0</td>\n",
       "      <td>10.0</td>\n",
       "      <td>2</td>\n",
       "      <td>0</td>\n",
       "      <td>8</td>\n",
       "      <td>0</td>\n",
       "      <td>0</td>\n",
       "      <td>1</td>\n",
       "    </tr>\n",
       "    <tr>\n",
       "      <th>2</th>\n",
       "      <td>3.101067</td>\n",
       "      <td>1</td>\n",
       "      <td>3.101067</td>\n",
       "      <td>3.101067</td>\n",
       "      <td>1</td>\n",
       "      <td>152167.500</td>\n",
       "      <td>2</td>\n",
       "      <td>304335</td>\n",
       "      <td>164941</td>\n",
       "      <td>2</td>\n",
       "      <td>...</td>\n",
       "      <td>2.0</td>\n",
       "      <td>2</td>\n",
       "      <td>4.0</td>\n",
       "      <td>4.0</td>\n",
       "      <td>2</td>\n",
       "      <td>0</td>\n",
       "      <td>2</td>\n",
       "      <td>0</td>\n",
       "      <td>0</td>\n",
       "      <td>1</td>\n",
       "    </tr>\n",
       "    <tr>\n",
       "      <th>3</th>\n",
       "      <td>NaN</td>\n",
       "      <td>0</td>\n",
       "      <td>NaN</td>\n",
       "      <td>NaN</td>\n",
       "      <td>0</td>\n",
       "      <td>226353.000</td>\n",
       "      <td>1</td>\n",
       "      <td>226353</td>\n",
       "      <td>226353</td>\n",
       "      <td>1</td>\n",
       "      <td>...</td>\n",
       "      <td>0.0</td>\n",
       "      <td>1</td>\n",
       "      <td>0.0</td>\n",
       "      <td>0.0</td>\n",
       "      <td>1</td>\n",
       "      <td>0</td>\n",
       "      <td>1</td>\n",
       "      <td>0</td>\n",
       "      <td>0</td>\n",
       "      <td>1</td>\n",
       "    </tr>\n",
       "    <tr>\n",
       "      <th>4</th>\n",
       "      <td>0.883883</td>\n",
       "      <td>1</td>\n",
       "      <td>0.883883</td>\n",
       "      <td>0.883883</td>\n",
       "      <td>1</td>\n",
       "      <td>299639.000</td>\n",
       "      <td>2</td>\n",
       "      <td>599278</td>\n",
       "      <td>320589</td>\n",
       "      <td>2</td>\n",
       "      <td>...</td>\n",
       "      <td>2.5</td>\n",
       "      <td>2</td>\n",
       "      <td>5.0</td>\n",
       "      <td>5.0</td>\n",
       "      <td>2</td>\n",
       "      <td>0</td>\n",
       "      <td>2</td>\n",
       "      <td>0</td>\n",
       "      <td>0</td>\n",
       "      <td>1</td>\n",
       "    </tr>\n",
       "    <tr>\n",
       "      <th>5</th>\n",
       "      <td>0.393533</td>\n",
       "      <td>1</td>\n",
       "      <td>0.393533</td>\n",
       "      <td>0.393533</td>\n",
       "      <td>1</td>\n",
       "      <td>86411.000</td>\n",
       "      <td>2</td>\n",
       "      <td>172822</td>\n",
       "      <td>86411</td>\n",
       "      <td>1</td>\n",
       "      <td>...</td>\n",
       "      <td>0.0</td>\n",
       "      <td>2</td>\n",
       "      <td>0.0</td>\n",
       "      <td>0.0</td>\n",
       "      <td>1</td>\n",
       "      <td>0</td>\n",
       "      <td>2</td>\n",
       "      <td>0</td>\n",
       "      <td>0</td>\n",
       "      <td>1</td>\n",
       "    </tr>\n",
       "  </tbody>\n",
       "</table>\n",
       "<p>5 rows × 35 columns</p>\n",
       "</div>"
      ],
      "text/plain": [
       "        delta1                                         itemid                 \\\n",
       "          mean count        sum       max nunique        mean count      sum   \n",
       "ssid                                                                           \n",
       "1     4.174471     7  29.221300  8.978433       7  294221.375     8  2353771   \n",
       "2     3.101067     1   3.101067  3.101067       1  152167.500     2   304335   \n",
       "3          NaN     0        NaN       NaN       0  226353.000     1   226353   \n",
       "4     0.883883     1   0.883883  0.883883       1  299639.000     2   599278   \n",
       "5     0.393533     1   0.393533  0.393533       1   86411.000     2   172822   \n",
       "\n",
       "                       ...   item_cat_dist                            \\\n",
       "         max nunique   ...            mean count   sum   max nunique   \n",
       "ssid                   ...                                             \n",
       "1     342816       4   ...             2.5     8  20.0  10.0       2   \n",
       "2     164941       2   ...             2.0     2   4.0   4.0       2   \n",
       "3     226353       1   ...             0.0     1   0.0   0.0       1   \n",
       "4     320589       2   ...             2.5     2   5.0   5.0       2   \n",
       "5      86411       1   ...             0.0     2   0.0   0.0       1   \n",
       "\n",
       "     session_transation_type                        \n",
       "                        mean count sum max nunique  \n",
       "ssid                                                \n",
       "1                          0     8   0   0       1  \n",
       "2                          0     2   0   0       1  \n",
       "3                          0     1   0   0       1  \n",
       "4                          0     2   0   0       1  \n",
       "5                          0     2   0   0       1  \n",
       "\n",
       "[5 rows x 35 columns]"
      ]
     },
     "execution_count": 84,
     "metadata": {},
     "output_type": "execute_result"
    }
   ],
   "source": [
    "sessions_.head()"
   ]
  },
  {
   "cell_type": "code",
   "execution_count": 85,
   "metadata": {},
   "outputs": [
    {
     "data": {
      "text/html": [
       "<div>\n",
       "<style>\n",
       "    .dataframe thead tr:only-child th {\n",
       "        text-align: right;\n",
       "    }\n",
       "\n",
       "    .dataframe thead th {\n",
       "        text-align: left;\n",
       "    }\n",
       "\n",
       "    .dataframe tbody tr th {\n",
       "        vertical-align: top;\n",
       "    }\n",
       "</style>\n",
       "<table border=\"1\" class=\"dataframe\">\n",
       "  <thead>\n",
       "    <tr>\n",
       "      <th></th>\n",
       "      <th colspan=\"5\" halign=\"left\">delta1</th>\n",
       "      <th colspan=\"5\" halign=\"left\">itemid</th>\n",
       "      <th>...</th>\n",
       "      <th colspan=\"5\" halign=\"left\">item_cat_dist</th>\n",
       "      <th colspan=\"5\" halign=\"left\">session_transation_type</th>\n",
       "    </tr>\n",
       "    <tr>\n",
       "      <th></th>\n",
       "      <th>mean</th>\n",
       "      <th>count</th>\n",
       "      <th>sum</th>\n",
       "      <th>max</th>\n",
       "      <th>nunique</th>\n",
       "      <th>mean</th>\n",
       "      <th>count</th>\n",
       "      <th>sum</th>\n",
       "      <th>max</th>\n",
       "      <th>nunique</th>\n",
       "      <th>...</th>\n",
       "      <th>mean</th>\n",
       "      <th>count</th>\n",
       "      <th>sum</th>\n",
       "      <th>max</th>\n",
       "      <th>nunique</th>\n",
       "      <th>mean</th>\n",
       "      <th>count</th>\n",
       "      <th>sum</th>\n",
       "      <th>max</th>\n",
       "      <th>nunique</th>\n",
       "    </tr>\n",
       "    <tr>\n",
       "      <th>ssid</th>\n",
       "      <th></th>\n",
       "      <th></th>\n",
       "      <th></th>\n",
       "      <th></th>\n",
       "      <th></th>\n",
       "      <th></th>\n",
       "      <th></th>\n",
       "      <th></th>\n",
       "      <th></th>\n",
       "      <th></th>\n",
       "      <th></th>\n",
       "      <th></th>\n",
       "      <th></th>\n",
       "      <th></th>\n",
       "      <th></th>\n",
       "      <th></th>\n",
       "      <th></th>\n",
       "      <th></th>\n",
       "      <th></th>\n",
       "      <th></th>\n",
       "      <th></th>\n",
       "    </tr>\n",
       "  </thead>\n",
       "  <tbody>\n",
       "    <tr>\n",
       "      <th>1</th>\n",
       "      <td>4.174471</td>\n",
       "      <td>7</td>\n",
       "      <td>29.221300</td>\n",
       "      <td>8.978433</td>\n",
       "      <td>7</td>\n",
       "      <td>294221.375</td>\n",
       "      <td>8</td>\n",
       "      <td>2353771</td>\n",
       "      <td>342816</td>\n",
       "      <td>4</td>\n",
       "      <td>...</td>\n",
       "      <td>2.5</td>\n",
       "      <td>8</td>\n",
       "      <td>20.0</td>\n",
       "      <td>10.0</td>\n",
       "      <td>2</td>\n",
       "      <td>0</td>\n",
       "      <td>8</td>\n",
       "      <td>0</td>\n",
       "      <td>0</td>\n",
       "      <td>1</td>\n",
       "    </tr>\n",
       "    <tr>\n",
       "      <th>2</th>\n",
       "      <td>3.101067</td>\n",
       "      <td>1</td>\n",
       "      <td>3.101067</td>\n",
       "      <td>3.101067</td>\n",
       "      <td>1</td>\n",
       "      <td>152167.500</td>\n",
       "      <td>2</td>\n",
       "      <td>304335</td>\n",
       "      <td>164941</td>\n",
       "      <td>2</td>\n",
       "      <td>...</td>\n",
       "      <td>2.0</td>\n",
       "      <td>2</td>\n",
       "      <td>4.0</td>\n",
       "      <td>4.0</td>\n",
       "      <td>2</td>\n",
       "      <td>0</td>\n",
       "      <td>2</td>\n",
       "      <td>0</td>\n",
       "      <td>0</td>\n",
       "      <td>1</td>\n",
       "    </tr>\n",
       "    <tr>\n",
       "      <th>3</th>\n",
       "      <td>NaN</td>\n",
       "      <td>0</td>\n",
       "      <td>NaN</td>\n",
       "      <td>NaN</td>\n",
       "      <td>0</td>\n",
       "      <td>226353.000</td>\n",
       "      <td>1</td>\n",
       "      <td>226353</td>\n",
       "      <td>226353</td>\n",
       "      <td>1</td>\n",
       "      <td>...</td>\n",
       "      <td>0.0</td>\n",
       "      <td>1</td>\n",
       "      <td>0.0</td>\n",
       "      <td>0.0</td>\n",
       "      <td>1</td>\n",
       "      <td>0</td>\n",
       "      <td>1</td>\n",
       "      <td>0</td>\n",
       "      <td>0</td>\n",
       "      <td>1</td>\n",
       "    </tr>\n",
       "    <tr>\n",
       "      <th>4</th>\n",
       "      <td>0.883883</td>\n",
       "      <td>1</td>\n",
       "      <td>0.883883</td>\n",
       "      <td>0.883883</td>\n",
       "      <td>1</td>\n",
       "      <td>299639.000</td>\n",
       "      <td>2</td>\n",
       "      <td>599278</td>\n",
       "      <td>320589</td>\n",
       "      <td>2</td>\n",
       "      <td>...</td>\n",
       "      <td>2.5</td>\n",
       "      <td>2</td>\n",
       "      <td>5.0</td>\n",
       "      <td>5.0</td>\n",
       "      <td>2</td>\n",
       "      <td>0</td>\n",
       "      <td>2</td>\n",
       "      <td>0</td>\n",
       "      <td>0</td>\n",
       "      <td>1</td>\n",
       "    </tr>\n",
       "    <tr>\n",
       "      <th>5</th>\n",
       "      <td>0.393533</td>\n",
       "      <td>1</td>\n",
       "      <td>0.393533</td>\n",
       "      <td>0.393533</td>\n",
       "      <td>1</td>\n",
       "      <td>86411.000</td>\n",
       "      <td>2</td>\n",
       "      <td>172822</td>\n",
       "      <td>86411</td>\n",
       "      <td>1</td>\n",
       "      <td>...</td>\n",
       "      <td>0.0</td>\n",
       "      <td>2</td>\n",
       "      <td>0.0</td>\n",
       "      <td>0.0</td>\n",
       "      <td>1</td>\n",
       "      <td>0</td>\n",
       "      <td>2</td>\n",
       "      <td>0</td>\n",
       "      <td>0</td>\n",
       "      <td>1</td>\n",
       "    </tr>\n",
       "  </tbody>\n",
       "</table>\n",
       "<p>5 rows × 35 columns</p>\n",
       "</div>"
      ],
      "text/plain": [
       "        delta1                                         itemid                 \\\n",
       "          mean count        sum       max nunique        mean count      sum   \n",
       "ssid                                                                           \n",
       "1     4.174471     7  29.221300  8.978433       7  294221.375     8  2353771   \n",
       "2     3.101067     1   3.101067  3.101067       1  152167.500     2   304335   \n",
       "3          NaN     0        NaN       NaN       0  226353.000     1   226353   \n",
       "4     0.883883     1   0.883883  0.883883       1  299639.000     2   599278   \n",
       "5     0.393533     1   0.393533  0.393533       1   86411.000     2   172822   \n",
       "\n",
       "                       ...   item_cat_dist                            \\\n",
       "         max nunique   ...            mean count   sum   max nunique   \n",
       "ssid                   ...                                             \n",
       "1     342816       4   ...             2.5     8  20.0  10.0       2   \n",
       "2     164941       2   ...             2.0     2   4.0   4.0       2   \n",
       "3     226353       1   ...             0.0     1   0.0   0.0       1   \n",
       "4     320589       2   ...             2.5     2   5.0   5.0       2   \n",
       "5      86411       1   ...             0.0     2   0.0   0.0       1   \n",
       "\n",
       "     session_transation_type                        \n",
       "                        mean count sum max nunique  \n",
       "ssid                                                \n",
       "1                          0     8   0   0       1  \n",
       "2                          0     2   0   0       1  \n",
       "3                          0     1   0   0       1  \n",
       "4                          0     2   0   0       1  \n",
       "5                          0     2   0   0       1  \n",
       "\n",
       "[5 rows x 35 columns]"
      ]
     },
     "execution_count": 85,
     "metadata": {},
     "output_type": "execute_result"
    }
   ],
   "source": [
    "sessions.head(5)"
   ]
  },
  {
   "cell_type": "code",
   "execution_count": 86,
   "metadata": {},
   "outputs": [
    {
     "data": {
      "text/plain": [
       "1    559605\n",
       "2     24004\n",
       "3      8551\n",
       "Name: nunique, dtype: int64"
      ]
     },
     "execution_count": 86,
     "metadata": {},
     "output_type": "execute_result"
    }
   ],
   "source": [
    "sessions_['event_type']['nunique'].value_counts()"
   ]
  },
  {
   "cell_type": "code",
   "execution_count": 87,
   "metadata": {
    "collapsed": true
   },
   "outputs": [],
   "source": [
    "sessions = sessions.reset_index()"
   ]
  },
  {
   "cell_type": "code",
   "execution_count": 88,
   "metadata": {
    "collapsed": true
   },
   "outputs": [],
   "source": [
    "sessions['count'] = sessions['itemid']['count']"
   ]
  },
  {
   "cell_type": "code",
   "execution_count": 89,
   "metadata": {
    "collapsed": true
   },
   "outputs": [],
   "source": [
    "sessions['items_unique'] = sessions['itemid']['nunique']"
   ]
  },
  {
   "cell_type": "code",
   "execution_count": 90,
   "metadata": {
    "collapsed": true
   },
   "outputs": [],
   "source": [
    "sessions = sessions.drop(['itemid'],axis=1)"
   ]
  },
  {
   "cell_type": "code",
   "execution_count": 91,
   "metadata": {
    "collapsed": true
   },
   "outputs": [],
   "source": [
    "sessions['ssid_type'] = sessions['session_type']['max']"
   ]
  },
  {
   "cell_type": "code",
   "execution_count": 92,
   "metadata": {
    "collapsed": true
   },
   "outputs": [],
   "source": [
    "sessions = sessions.drop(['session_type'],axis=1)"
   ]
  },
  {
   "cell_type": "code",
   "execution_count": 93,
   "metadata": {
    "collapsed": true
   },
   "outputs": [],
   "source": [
    "sessions['sessions_len'] = sessions['delta1']['sum']\n",
    "sessions['delta_mean'] = sessions['delta1']['mean']"
   ]
  },
  {
   "cell_type": "code",
   "execution_count": 94,
   "metadata": {
    "collapsed": true
   },
   "outputs": [],
   "source": [
    "sessions = sessions.drop(['delta1'],axis=1)"
   ]
  },
  {
   "cell_type": "code",
   "execution_count": 95,
   "metadata": {
    "collapsed": true
   },
   "outputs": [],
   "source": [
    "sessions['categories'] = sessions['item_cat']['nunique']\n",
    "sessions = sessions.drop(['item_cat'],axis=1)"
   ]
  },
  {
   "cell_type": "code",
   "execution_count": 96,
   "metadata": {
    "collapsed": true
   },
   "outputs": [],
   "source": [
    "sessions['event_type_nu'] = sessions['event_type']['nunique']\n",
    "sessions = sessions.drop(['event_type'],axis=1)"
   ]
  },
  {
   "cell_type": "code",
   "execution_count": 97,
   "metadata": {
    "collapsed": true
   },
   "outputs": [],
   "source": [
    "sessions['dist1_mean'] = sessions['item_cat_dist']['mean']\n",
    "sessions['dist1_max'] = sessions['item_cat_dist']['max']\n",
    "sessions['dist1_sum'] = sessions['item_cat_dist']['sum']\n",
    "sessions = sessions.drop(['item_cat_dist'],axis=1)"
   ]
  },
  {
   "cell_type": "code",
   "execution_count": 98,
   "metadata": {
    "collapsed": true
   },
   "outputs": [],
   "source": [
    "sessions['target'] = sessions['session_transation_type']['max']"
   ]
  },
  {
   "cell_type": "code",
   "execution_count": 99,
   "metadata": {
    "collapsed": true
   },
   "outputs": [],
   "source": [
    "sessions = sessions.drop(['session_transation_type'],axis=1)"
   ]
  },
  {
   "cell_type": "code",
   "execution_count": 100,
   "metadata": {
    "collapsed": true
   },
   "outputs": [],
   "source": [
    "#!!\n",
    "sessions['event_type_nu'] = sessions['event_type_nu'].replace({1: 0, 2: 1, 3: 1})"
   ]
  },
  {
   "cell_type": "code",
   "execution_count": 101,
   "metadata": {},
   "outputs": [
    {
     "data": {
      "text/plain": [
       "0    580960\n",
       "1     11200\n",
       "Name: target, dtype: int64"
      ]
     },
     "execution_count": 101,
     "metadata": {},
     "output_type": "execute_result"
    }
   ],
   "source": [
    "sessions['target'].value_counts()"
   ]
  },
  {
   "cell_type": "code",
   "execution_count": 102,
   "metadata": {},
   "outputs": [
    {
     "data": {
      "text/plain": [
       "592160"
      ]
     },
     "execution_count": 102,
     "metadata": {},
     "output_type": "execute_result"
    }
   ],
   "source": [
    "sessions.shape[0]"
   ]
  },
  {
   "cell_type": "code",
   "execution_count": 103,
   "metadata": {},
   "outputs": [
    {
     "data": {
      "text/plain": [
       "11200"
      ]
     },
     "execution_count": 103,
     "metadata": {},
     "output_type": "execute_result"
    }
   ],
   "source": [
    "sessions.loc[sessions.target > 0].shape[0]"
   ]
  },
  {
   "cell_type": "code",
   "execution_count": 118,
   "metadata": {},
   "outputs": [
    {
     "data": {
      "text/html": [
       "<div>\n",
       "<style>\n",
       "    .dataframe thead tr:only-child th {\n",
       "        text-align: right;\n",
       "    }\n",
       "\n",
       "    .dataframe thead th {\n",
       "        text-align: left;\n",
       "    }\n",
       "\n",
       "    .dataframe tbody tr th {\n",
       "        vertical-align: top;\n",
       "    }\n",
       "</style>\n",
       "<table border=\"1\" class=\"dataframe\">\n",
       "  <thead>\n",
       "    <tr>\n",
       "      <th></th>\n",
       "      <th>ssid</th>\n",
       "      <th>count</th>\n",
       "      <th>items_unique</th>\n",
       "      <th>ssid_type</th>\n",
       "      <th>sessions_len</th>\n",
       "      <th>delta_mean</th>\n",
       "      <th>categories</th>\n",
       "      <th>event_type_nu</th>\n",
       "      <th>dist1_mean</th>\n",
       "      <th>dist1_max</th>\n",
       "      <th>dist1_sum</th>\n",
       "      <th>target</th>\n",
       "    </tr>\n",
       "    <tr>\n",
       "      <th></th>\n",
       "      <th></th>\n",
       "      <th></th>\n",
       "      <th></th>\n",
       "      <th></th>\n",
       "      <th></th>\n",
       "      <th></th>\n",
       "      <th></th>\n",
       "      <th></th>\n",
       "      <th></th>\n",
       "      <th></th>\n",
       "      <th></th>\n",
       "      <th></th>\n",
       "    </tr>\n",
       "  </thead>\n",
       "  <tbody>\n",
       "    <tr>\n",
       "      <th>0</th>\n",
       "      <td>1</td>\n",
       "      <td>8</td>\n",
       "      <td>4</td>\n",
       "      <td>2</td>\n",
       "      <td>29.221300</td>\n",
       "      <td>4.174471</td>\n",
       "      <td>2</td>\n",
       "      <td>0</td>\n",
       "      <td>2.5</td>\n",
       "      <td>10.0</td>\n",
       "      <td>20.0</td>\n",
       "      <td>0</td>\n",
       "    </tr>\n",
       "    <tr>\n",
       "      <th>1</th>\n",
       "      <td>2</td>\n",
       "      <td>2</td>\n",
       "      <td>2</td>\n",
       "      <td>1</td>\n",
       "      <td>3.101067</td>\n",
       "      <td>3.101067</td>\n",
       "      <td>2</td>\n",
       "      <td>0</td>\n",
       "      <td>2.0</td>\n",
       "      <td>4.0</td>\n",
       "      <td>4.0</td>\n",
       "      <td>0</td>\n",
       "    </tr>\n",
       "    <tr>\n",
       "      <th>2</th>\n",
       "      <td>3</td>\n",
       "      <td>1</td>\n",
       "      <td>1</td>\n",
       "      <td>-1</td>\n",
       "      <td>NaN</td>\n",
       "      <td>NaN</td>\n",
       "      <td>1</td>\n",
       "      <td>0</td>\n",
       "      <td>0.0</td>\n",
       "      <td>0.0</td>\n",
       "      <td>0.0</td>\n",
       "      <td>0</td>\n",
       "    </tr>\n",
       "    <tr>\n",
       "      <th>3</th>\n",
       "      <td>4</td>\n",
       "      <td>2</td>\n",
       "      <td>2</td>\n",
       "      <td>0</td>\n",
       "      <td>0.883883</td>\n",
       "      <td>0.883883</td>\n",
       "      <td>2</td>\n",
       "      <td>0</td>\n",
       "      <td>2.5</td>\n",
       "      <td>5.0</td>\n",
       "      <td>5.0</td>\n",
       "      <td>0</td>\n",
       "    </tr>\n",
       "    <tr>\n",
       "      <th>4</th>\n",
       "      <td>5</td>\n",
       "      <td>2</td>\n",
       "      <td>1</td>\n",
       "      <td>0</td>\n",
       "      <td>0.393533</td>\n",
       "      <td>0.393533</td>\n",
       "      <td>1</td>\n",
       "      <td>0</td>\n",
       "      <td>0.0</td>\n",
       "      <td>0.0</td>\n",
       "      <td>0.0</td>\n",
       "      <td>0</td>\n",
       "    </tr>\n",
       "  </tbody>\n",
       "</table>\n",
       "</div>"
      ],
      "text/plain": [
       "  ssid count items_unique ssid_type sessions_len delta_mean categories  \\\n",
       "                                                                         \n",
       "0    1     8            4         2    29.221300   4.174471          2   \n",
       "1    2     2            2         1     3.101067   3.101067          2   \n",
       "2    3     1            1        -1          NaN        NaN          1   \n",
       "3    4     2            2         0     0.883883   0.883883          2   \n",
       "4    5     2            1         0     0.393533   0.393533          1   \n",
       "\n",
       "  event_type_nu dist1_mean dist1_max dist1_sum target  \n",
       "                                                       \n",
       "0             0        2.5      10.0      20.0      0  \n",
       "1             0        2.0       4.0       4.0      0  \n",
       "2             0        0.0       0.0       0.0      0  \n",
       "3             0        2.5       5.0       5.0      0  \n",
       "4             0        0.0       0.0       0.0      0  "
      ]
     },
     "execution_count": 118,
     "metadata": {},
     "output_type": "execute_result"
    }
   ],
   "source": [
    "sessions.head()"
   ]
  },
  {
   "cell_type": "code",
   "execution_count": null,
   "metadata": {
    "collapsed": true
   },
   "outputs": [],
   "source": []
  },
  {
   "cell_type": "code",
   "execution_count": 120,
   "metadata": {
    "collapsed": true
   },
   "outputs": [],
   "source": [
    "sessions_ = sessions.loc[sessions['count'] > 1]\n",
    "# выкинем единичные сессии"
   ]
  },
  {
   "cell_type": "code",
   "execution_count": 122,
   "metadata": {},
   "outputs": [
    {
     "data": {
      "text/plain": [
       "306474"
      ]
     },
     "execution_count": 122,
     "metadata": {},
     "output_type": "execute_result"
    }
   ],
   "source": [
    "sessions_.shape[0]"
   ]
  },
  {
   "cell_type": "code",
   "execution_count": 123,
   "metadata": {
    "collapsed": true
   },
   "outputs": [],
   "source": [
    "data = sessions_.drop(['ssid'], axis=1)"
   ]
  },
  {
   "cell_type": "code",
   "execution_count": 124,
   "metadata": {},
   "outputs": [
    {
     "data": {
      "text/html": [
       "<div>\n",
       "<style>\n",
       "    .dataframe thead tr:only-child th {\n",
       "        text-align: right;\n",
       "    }\n",
       "\n",
       "    .dataframe thead th {\n",
       "        text-align: left;\n",
       "    }\n",
       "\n",
       "    .dataframe tbody tr th {\n",
       "        vertical-align: top;\n",
       "    }\n",
       "</style>\n",
       "<table border=\"1\" class=\"dataframe\">\n",
       "  <thead>\n",
       "    <tr>\n",
       "      <th></th>\n",
       "      <th></th>\n",
       "      <th>count</th>\n",
       "      <th>items_unique</th>\n",
       "      <th>ssid_type</th>\n",
       "      <th>sessions_len</th>\n",
       "      <th>delta_mean</th>\n",
       "      <th>categories</th>\n",
       "      <th>event_type_nu</th>\n",
       "      <th>dist1_mean</th>\n",
       "      <th>dist1_max</th>\n",
       "      <th>dist1_sum</th>\n",
       "      <th>target</th>\n",
       "    </tr>\n",
       "    <tr>\n",
       "      <th></th>\n",
       "      <th></th>\n",
       "      <th></th>\n",
       "      <th></th>\n",
       "      <th></th>\n",
       "      <th></th>\n",
       "      <th></th>\n",
       "      <th></th>\n",
       "      <th></th>\n",
       "      <th></th>\n",
       "      <th></th>\n",
       "      <th></th>\n",
       "      <th></th>\n",
       "    </tr>\n",
       "  </thead>\n",
       "  <tbody>\n",
       "    <tr>\n",
       "      <th>count</th>\n",
       "      <th></th>\n",
       "      <td>1.000000</td>\n",
       "      <td>0.907016</td>\n",
       "      <td>0.304642</td>\n",
       "      <td>0.618112</td>\n",
       "      <td>-0.067843</td>\n",
       "      <td>0.616987</td>\n",
       "      <td>0.176565</td>\n",
       "      <td>0.202911</td>\n",
       "      <td>0.298216</td>\n",
       "      <td>0.726412</td>\n",
       "      <td>0.116114</td>\n",
       "    </tr>\n",
       "    <tr>\n",
       "      <th>items_unique</th>\n",
       "      <th></th>\n",
       "      <td>0.907016</td>\n",
       "      <td>1.000000</td>\n",
       "      <td>0.240353</td>\n",
       "      <td>0.549305</td>\n",
       "      <td>-0.075916</td>\n",
       "      <td>0.669930</td>\n",
       "      <td>0.045520</td>\n",
       "      <td>0.272854</td>\n",
       "      <td>0.354335</td>\n",
       "      <td>0.726962</td>\n",
       "      <td>0.023562</td>\n",
       "    </tr>\n",
       "    <tr>\n",
       "      <th>ssid_type</th>\n",
       "      <th></th>\n",
       "      <td>0.304642</td>\n",
       "      <td>0.240353</td>\n",
       "      <td>1.000000</td>\n",
       "      <td>0.616996</td>\n",
       "      <td>0.615273</td>\n",
       "      <td>0.190641</td>\n",
       "      <td>0.126794</td>\n",
       "      <td>0.147244</td>\n",
       "      <td>0.203903</td>\n",
       "      <td>0.193097</td>\n",
       "      <td>0.155039</td>\n",
       "    </tr>\n",
       "    <tr>\n",
       "      <th>sessions_len</th>\n",
       "      <th></th>\n",
       "      <td>0.618112</td>\n",
       "      <td>0.549305</td>\n",
       "      <td>0.616996</td>\n",
       "      <td>1.000000</td>\n",
       "      <td>0.507215</td>\n",
       "      <td>0.510612</td>\n",
       "      <td>0.131490</td>\n",
       "      <td>0.189821</td>\n",
       "      <td>0.252554</td>\n",
       "      <td>0.527383</td>\n",
       "      <td>0.130055</td>\n",
       "    </tr>\n",
       "    <tr>\n",
       "      <th>delta_mean</th>\n",
       "      <th></th>\n",
       "      <td>-0.067843</td>\n",
       "      <td>-0.075916</td>\n",
       "      <td>0.615273</td>\n",
       "      <td>0.507215</td>\n",
       "      <td>1.000000</td>\n",
       "      <td>-0.011818</td>\n",
       "      <td>-0.047601</td>\n",
       "      <td>0.006272</td>\n",
       "      <td>-0.003467</td>\n",
       "      <td>-0.024738</td>\n",
       "      <td>0.006737</td>\n",
       "    </tr>\n",
       "    <tr>\n",
       "      <th>categories</th>\n",
       "      <th></th>\n",
       "      <td>0.616987</td>\n",
       "      <td>0.669930</td>\n",
       "      <td>0.190641</td>\n",
       "      <td>0.510612</td>\n",
       "      <td>-0.011818</td>\n",
       "      <td>1.000000</td>\n",
       "      <td>0.071763</td>\n",
       "      <td>0.589272</td>\n",
       "      <td>0.598700</td>\n",
       "      <td>0.911939</td>\n",
       "      <td>0.061353</td>\n",
       "    </tr>\n",
       "    <tr>\n",
       "      <th>event_type_nu</th>\n",
       "      <th></th>\n",
       "      <td>0.176565</td>\n",
       "      <td>0.045520</td>\n",
       "      <td>0.126794</td>\n",
       "      <td>0.131490</td>\n",
       "      <td>-0.047601</td>\n",
       "      <td>0.071763</td>\n",
       "      <td>1.000000</td>\n",
       "      <td>-0.009676</td>\n",
       "      <td>0.041042</td>\n",
       "      <td>0.088860</td>\n",
       "      <td>0.547318</td>\n",
       "    </tr>\n",
       "    <tr>\n",
       "      <th>dist1_mean</th>\n",
       "      <th></th>\n",
       "      <td>0.202911</td>\n",
       "      <td>0.272854</td>\n",
       "      <td>0.147244</td>\n",
       "      <td>0.189821</td>\n",
       "      <td>0.006272</td>\n",
       "      <td>0.589272</td>\n",
       "      <td>-0.009676</td>\n",
       "      <td>1.000000</td>\n",
       "      <td>0.926459</td>\n",
       "      <td>0.523309</td>\n",
       "      <td>-0.005227</td>\n",
       "    </tr>\n",
       "    <tr>\n",
       "      <th>dist1_max</th>\n",
       "      <th></th>\n",
       "      <td>0.298216</td>\n",
       "      <td>0.354335</td>\n",
       "      <td>0.203903</td>\n",
       "      <td>0.252554</td>\n",
       "      <td>-0.003467</td>\n",
       "      <td>0.598700</td>\n",
       "      <td>0.041042</td>\n",
       "      <td>0.926459</td>\n",
       "      <td>1.000000</td>\n",
       "      <td>0.516843</td>\n",
       "      <td>0.018814</td>\n",
       "    </tr>\n",
       "    <tr>\n",
       "      <th>dist1_sum</th>\n",
       "      <th></th>\n",
       "      <td>0.726412</td>\n",
       "      <td>0.726962</td>\n",
       "      <td>0.193097</td>\n",
       "      <td>0.527383</td>\n",
       "      <td>-0.024738</td>\n",
       "      <td>0.911939</td>\n",
       "      <td>0.088860</td>\n",
       "      <td>0.523309</td>\n",
       "      <td>0.516843</td>\n",
       "      <td>1.000000</td>\n",
       "      <td>0.068458</td>\n",
       "    </tr>\n",
       "    <tr>\n",
       "      <th>target</th>\n",
       "      <th></th>\n",
       "      <td>0.116114</td>\n",
       "      <td>0.023562</td>\n",
       "      <td>0.155039</td>\n",
       "      <td>0.130055</td>\n",
       "      <td>0.006737</td>\n",
       "      <td>0.061353</td>\n",
       "      <td>0.547318</td>\n",
       "      <td>-0.005227</td>\n",
       "      <td>0.018814</td>\n",
       "      <td>0.068458</td>\n",
       "      <td>1.000000</td>\n",
       "    </tr>\n",
       "  </tbody>\n",
       "</table>\n",
       "</div>"
      ],
      "text/plain": [
       "                   count items_unique ssid_type sessions_len delta_mean  \\\n",
       "                                                                          \n",
       "count           1.000000     0.907016  0.304642     0.618112  -0.067843   \n",
       "items_unique    0.907016     1.000000  0.240353     0.549305  -0.075916   \n",
       "ssid_type       0.304642     0.240353  1.000000     0.616996   0.615273   \n",
       "sessions_len    0.618112     0.549305  0.616996     1.000000   0.507215   \n",
       "delta_mean     -0.067843    -0.075916  0.615273     0.507215   1.000000   \n",
       "categories      0.616987     0.669930  0.190641     0.510612  -0.011818   \n",
       "event_type_nu   0.176565     0.045520  0.126794     0.131490  -0.047601   \n",
       "dist1_mean      0.202911     0.272854  0.147244     0.189821   0.006272   \n",
       "dist1_max       0.298216     0.354335  0.203903     0.252554  -0.003467   \n",
       "dist1_sum       0.726412     0.726962  0.193097     0.527383  -0.024738   \n",
       "target          0.116114     0.023562  0.155039     0.130055   0.006737   \n",
       "\n",
       "               categories event_type_nu dist1_mean dist1_max dist1_sum  \\\n",
       "                                                                         \n",
       "count            0.616987      0.176565   0.202911  0.298216  0.726412   \n",
       "items_unique     0.669930      0.045520   0.272854  0.354335  0.726962   \n",
       "ssid_type        0.190641      0.126794   0.147244  0.203903  0.193097   \n",
       "sessions_len     0.510612      0.131490   0.189821  0.252554  0.527383   \n",
       "delta_mean      -0.011818     -0.047601   0.006272 -0.003467 -0.024738   \n",
       "categories       1.000000      0.071763   0.589272  0.598700  0.911939   \n",
       "event_type_nu    0.071763      1.000000  -0.009676  0.041042  0.088860   \n",
       "dist1_mean       0.589272     -0.009676   1.000000  0.926459  0.523309   \n",
       "dist1_max        0.598700      0.041042   0.926459  1.000000  0.516843   \n",
       "dist1_sum        0.911939      0.088860   0.523309  0.516843  1.000000   \n",
       "target           0.061353      0.547318  -0.005227  0.018814  0.068458   \n",
       "\n",
       "                  target  \n",
       "                          \n",
       "count           0.116114  \n",
       "items_unique    0.023562  \n",
       "ssid_type       0.155039  \n",
       "sessions_len    0.130055  \n",
       "delta_mean      0.006737  \n",
       "categories      0.061353  \n",
       "event_type_nu   0.547318  \n",
       "dist1_mean     -0.005227  \n",
       "dist1_max       0.018814  \n",
       "dist1_sum       0.068458  \n",
       "target          1.000000  "
      ]
     },
     "execution_count": 124,
     "metadata": {},
     "output_type": "execute_result"
    }
   ],
   "source": [
    "#матрица корреляциЙ между признаками\n",
    "data.corr()"
   ]
  },
  {
   "cell_type": "code",
   "execution_count": null,
   "metadata": {
    "collapsed": true
   },
   "outputs": [],
   "source": []
  },
  {
   "cell_type": "code",
   "execution_count": 125,
   "metadata": {
    "collapsed": true
   },
   "outputs": [],
   "source": [
    "data = sessions_.drop(['ssid','target'], axis=1)\n",
    "target = sessions_.target"
   ]
  },
  {
   "cell_type": "code",
   "execution_count": null,
   "metadata": {
    "collapsed": true
   },
   "outputs": [],
   "source": []
  },
  {
   "cell_type": "code",
   "execution_count": 126,
   "metadata": {
    "scrolled": true
   },
   "outputs": [
    {
     "data": {
      "text/plain": [
       "<matplotlib.axes._subplots.AxesSubplot at 0x12444ac50>"
      ]
     },
     "execution_count": 126,
     "metadata": {},
     "output_type": "execute_result"
    },
    {
     "data": {
      "image/png": "[encoded data removed]",
      "text/plain": [
       "<matplotlib.figure.Figure at 0x12443a198>"
      ]
     },
     "metadata": {},
     "output_type": "display_data"
    }
   ],
   "source": [
    "target.hist()"
   ]
  },
  {
   "cell_type": "code",
   "execution_count": 127,
   "metadata": {
    "collapsed": true
   },
   "outputs": [],
   "source": [
    "from sklearn.model_selection import train_test_split\n",
    "from sklearn import preprocessing"
   ]
  },
  {
   "cell_type": "code",
   "execution_count": 128,
   "metadata": {
    "collapsed": true
   },
   "outputs": [],
   "source": [
    "X_train, X_test, y_train, y_test = train_test_split(data, target, test_size=0.2, random_state=42, stratify=target)"
   ]
  },
  {
   "cell_type": "code",
   "execution_count": 129,
   "metadata": {},
   "outputs": [
    {
     "data": {
      "text/plain": [
       "245179"
      ]
     },
     "execution_count": 129,
     "metadata": {},
     "output_type": "execute_result"
    }
   ],
   "source": [
    "X_train.shape[0]"
   ]
  },
  {
   "cell_type": "code",
   "execution_count": 130,
   "metadata": {},
   "outputs": [
    {
     "data": {
      "text/plain": [
       "61295"
      ]
     },
     "execution_count": 130,
     "metadata": {},
     "output_type": "execute_result"
    }
   ],
   "source": [
    "X_test.shape[0]"
   ]
  },
  {
   "cell_type": "code",
   "execution_count": 131,
   "metadata": {},
   "outputs": [
    {
     "data": {
      "text/plain": [
       "0    236750\n",
       "1      8429\n",
       "Name: target, dtype: int64"
      ]
     },
     "execution_count": 131,
     "metadata": {},
     "output_type": "execute_result"
    }
   ],
   "source": [
    "y_train.value_counts()"
   ]
  },
  {
   "cell_type": "code",
   "execution_count": 132,
   "metadata": {},
   "outputs": [
    {
     "data": {
      "text/plain": [
       "0    59188\n",
       "1     2107\n",
       "Name: target, dtype: int64"
      ]
     },
     "execution_count": 132,
     "metadata": {},
     "output_type": "execute_result"
    }
   ],
   "source": [
    "y_test.value_counts()\n",
    "#баланс классов в трейн/тест сохранили"
   ]
  },
  {
   "cell_type": "code",
   "execution_count": 133,
   "metadata": {
    "collapsed": true
   },
   "outputs": [],
   "source": [
    "#сбалансируем тренинг выборку"
   ]
  },
  {
   "cell_type": "code",
   "execution_count": 134,
   "metadata": {
    "collapsed": true
   },
   "outputs": [],
   "source": [
    "from imblearn.over_sampling import RandomOverSampler\n",
    "ros = RandomOverSampler(random_state=42)\n",
    "X_resampled, y_resampled = ros.fit_sample(X_train, y_train)"
   ]
  },
  {
   "cell_type": "code",
   "execution_count": 135,
   "metadata": {},
   "outputs": [
    {
     "data": {
      "text/plain": [
       "473500"
      ]
     },
     "execution_count": 135,
     "metadata": {},
     "output_type": "execute_result"
    }
   ],
   "source": [
    "#Обучающая выборка\n",
    "X_resampled.shape[0]"
   ]
  },
  {
   "cell_type": "code",
   "execution_count": 136,
   "metadata": {},
   "outputs": [
    {
     "data": {
      "text/plain": [
       "473500"
      ]
     },
     "execution_count": 136,
     "metadata": {},
     "output_type": "execute_result"
    }
   ],
   "source": [
    "y_resampled.shape[0]"
   ]
  },
  {
   "cell_type": "code",
   "execution_count": 137,
   "metadata": {},
   "outputs": [
    {
     "data": {
      "text/plain": [
       "array([0, 0, 0, ..., 1, 1, 1])"
      ]
     },
     "execution_count": 137,
     "metadata": {},
     "output_type": "execute_result"
    }
   ],
   "source": [
    "y_resampled"
   ]
  },
  {
   "cell_type": "code",
   "execution_count": 138,
   "metadata": {},
   "outputs": [
    {
     "name": "stdout",
     "output_type": "stream",
     "text": [
      "[[     0 236750]\n",
      " [     1 236750]]\n"
     ]
    }
   ],
   "source": [
    "unique, counts = np.unique(y_resampled, return_counts=True)\n",
    "print(np.asarray((unique, counts)).T)\n",
    "#теперь классы сбалансированы"
   ]
  },
  {
   "cell_type": "code",
   "execution_count": null,
   "metadata": {
    "collapsed": true
   },
   "outputs": [],
   "source": []
  },
  {
   "cell_type": "code",
   "execution_count": 405,
   "metadata": {
    "collapsed": true
   },
   "outputs": [],
   "source": [
    "#Оценка качества методом кроссвалидации\n",
    "from sklearn.tree import DecisionTreeClassifier\n",
    "from sklearn.ensemble import RandomForestClassifier\n",
    "from sklearn import cross_validation\n",
    "from sklearn.model_selection import GridSearchCV\n",
    "from sklearn.model_selection import  StratifiedShuffleSplit\n",
    "from sklearn.model_selection import StratifiedKFold"
   ]
  },
  {
   "cell_type": "code",
   "execution_count": 406,
   "metadata": {
    "collapsed": true
   },
   "outputs": [],
   "source": [
    "#cv = StratifiedShuffleSplit(n_splits=5, test_size=0.3, random_state=0)\n",
    "cv = StratifiedKFold(n_splits=5, random_state=None, shuffle=True)"
   ]
  },
  {
   "cell_type": "code",
   "execution_count": 416,
   "metadata": {
    "collapsed": true
   },
   "outputs": [],
   "source": [
    "model = RandomForestClassifier(n_jobs=-1,oob_score=True,random_state = 42, verbose=0)"
   ]
  },
  {
   "cell_type": "code",
   "execution_count": null,
   "metadata": {
    "collapsed": true
   },
   "outputs": [],
   "source": []
  },
  {
   "cell_type": "code",
   "execution_count": 418,
   "metadata": {
    "collapsed": true
   },
   "outputs": [],
   "source": [
    "param_grid = {\n",
    "                 'n_estimators': [ 20, 50, 150, 500],\n",
    "                 'max_features': [ 3, 5, 7, 10]\n",
    "             }"
   ]
  },
  {
   "cell_type": "code",
   "execution_count": 419,
   "metadata": {},
   "outputs": [
    {
     "name": "stdout",
     "output_type": "stream",
     "text": [
      "CPU times: user 4h 33min 35s, sys: 4min 10s, total: 4h 37min 46s\n",
      "Wall time: 46min 52s\n"
     ]
    }
   ],
   "source": [
    "%%time\n",
    "from sklearn.model_selection import GridSearchCV\n",
    "grid_clf = GridSearchCV(model, param_grid, cv=cv,scoring = 'f1')\n",
    "grid_clf.fit(X_resampled,y_resampled)"
   ]
  },
  {
   "cell_type": "code",
   "execution_count": 420,
   "metadata": {
    "collapsed": true
   },
   "outputs": [],
   "source": [
    "y_pred = grid_clf.best_estimator_.predict(X_test)"
   ]
  },
  {
   "cell_type": "code",
   "execution_count": 421,
   "metadata": {},
   "outputs": [
    {
     "data": {
      "text/plain": [
       "RandomForestClassifier(bootstrap=True, class_weight=None, criterion='gini',\n",
       "            max_depth=None, max_features=3, max_leaf_nodes=None,\n",
       "            min_impurity_decrease=0.0, min_impurity_split=None,\n",
       "            min_samples_leaf=1, min_samples_split=2,\n",
       "            min_weight_fraction_leaf=0.0, n_estimators=150, n_jobs=-1,\n",
       "            oob_score=True, random_state=42, verbose=0, warm_start=False)"
      ]
     },
     "execution_count": 421,
     "metadata": {},
     "output_type": "execute_result"
    }
   ],
   "source": [
    "grid_clf.best_estimator_"
   ]
  },
  {
   "cell_type": "code",
   "execution_count": 422,
   "metadata": {
    "collapsed": true
   },
   "outputs": [],
   "source": [
    "from sklearn.metrics import accuracy_score, confusion_matrix, classification_report"
   ]
  },
  {
   "cell_type": "code",
   "execution_count": 423,
   "metadata": {},
   "outputs": [
    {
     "data": {
      "text/plain": [
       "0.96702830573456233"
      ]
     },
     "execution_count": 423,
     "metadata": {},
     "output_type": "execute_result"
    }
   ],
   "source": [
    "accuracy_score(y_test, y_pred)"
   ]
  },
  {
   "cell_type": "code",
   "execution_count": 424,
   "metadata": {},
   "outputs": [
    {
     "data": {
      "text/plain": [
       "array([[58135,  1053],\n",
       "       [  968,  1139]])"
      ]
     },
     "execution_count": 424,
     "metadata": {},
     "output_type": "execute_result"
    }
   ],
   "source": [
    "confusion_matrix(y_test, y_pred)"
   ]
  },
  {
   "cell_type": "code",
   "execution_count": 425,
   "metadata": {},
   "outputs": [
    {
     "name": "stdout",
     "output_type": "stream",
     "text": [
      "             precision    recall  f1-score   support\n",
      "\n",
      "    class 0       0.98      0.98      0.98     59188\n",
      "    class 1       0.52      0.54      0.53      2107\n",
      "\n",
      "avg / total       0.97      0.97      0.97     61295\n",
      "\n"
     ]
    }
   ],
   "source": [
    "target_names = ['class 0', 'class 1']\n",
    "print(classification_report( y_test,y_pred, target_names=target_names))"
   ]
  },
  {
   "cell_type": "code",
   "execution_count": null,
   "metadata": {
    "collapsed": true
   },
   "outputs": [],
   "source": []
  },
  {
   "cell_type": "code",
   "execution_count": 426,
   "metadata": {},
   "outputs": [
    {
     "data": {
      "text/plain": [
       "RandomForestClassifier(bootstrap=True, class_weight=None, criterion='gini',\n",
       "            max_depth=None, max_features=3, max_leaf_nodes=None,\n",
       "            min_impurity_decrease=0.0, min_impurity_split=None,\n",
       "            min_samples_leaf=1, min_samples_split=2,\n",
       "            min_weight_fraction_leaf=0.0, n_estimators=150, n_jobs=-1,\n",
       "            oob_score=True, random_state=42, verbose=0, warm_start=False)"
      ]
     },
     "execution_count": 426,
     "metadata": {},
     "output_type": "execute_result"
    }
   ],
   "source": [
    "grid_clf.best_estimator_"
   ]
  },
  {
   "cell_type": "code",
   "execution_count": 427,
   "metadata": {},
   "outputs": [
    {
     "name": "stdout",
     "output_type": "stream",
     "text": [
      "0.990030715623\n",
      "{'max_features': 3, 'n_estimators': 150}\n"
     ]
    }
   ],
   "source": [
    "print(grid_clf.best_score_)\n",
    "print(grid_clf.best_params_)"
   ]
  },
  {
   "cell_type": "code",
   "execution_count": 428,
   "metadata": {
    "collapsed": true
   },
   "outputs": [],
   "source": [
    "# важность фич"
   ]
  },
  {
   "cell_type": "code",
   "execution_count": 429,
   "metadata": {},
   "outputs": [
    {
     "data": {
      "text/plain": [
       "([<matplotlib.axis.YTick at 0x1935ba5c0>,\n",
       "  <matplotlib.axis.YTick at 0x1935ba518>,\n",
       "  <matplotlib.axis.YTick at 0x1935abfd0>,\n",
       "  <matplotlib.axis.YTick at 0x19d892a58>,\n",
       "  <matplotlib.axis.YTick at 0x19d898550>,\n",
       "  <matplotlib.axis.YTick at 0x19d89b048>,\n",
       "  <matplotlib.axis.YTick at 0x19d89bb00>,\n",
       "  <matplotlib.axis.YTick at 0x19d8a35f8>,\n",
       "  <matplotlib.axis.YTick at 0x19d8a70f0>,\n",
       "  <matplotlib.axis.YTick at 0x19d8a7ba8>],\n",
       " <a list of 10 Text yticklabel objects>)"
      ]
     },
     "execution_count": 429,
     "metadata": {},
     "output_type": "execute_result"
    },
    {
     "data": {
      "image/png": "[encoded data removed]",
      "text/plain": [
       "<matplotlib.figure.Figure at 0x12e2b9eb8>"
      ]
     },
     "metadata": {},
     "output_type": "display_data"
    }
   ],
   "source": [
    "plt.barh(np.arange(len(grid_clf.best_estimator_.feature_importances_)), grid_clf.best_estimator_.feature_importances_)\n",
    "plt.yticks(np.arange(len(data.columns)),data.columns)"
   ]
  },
  {
   "cell_type": "code",
   "execution_count": 430,
   "metadata": {
    "collapsed": true
   },
   "outputs": [],
   "source": [
    "from sklearn.metrics import precision_recall_curve, roc_curve ,auc, roc_auc_score"
   ]
  },
  {
   "cell_type": "code",
   "execution_count": 431,
   "metadata": {
    "collapsed": true
   },
   "outputs": [],
   "source": [
    "model = grid_clf.best_estimator_\n",
    "model.fit(X_resampled,y_resampled)\n",
    "predictions = model.predict_proba(X_test)"
   ]
  },
  {
   "cell_type": "code",
   "execution_count": 452,
   "metadata": {},
   "outputs": [
    {
     "data": {
      "text/plain": [
       "[<matplotlib.lines.Line2D at 0x1b13a5048>]"
      ]
     },
     "execution_count": 452,
     "metadata": {},
     "output_type": "execute_result"
    },
    {
     "data": {
      "image/png": "[encoded data removed]",
      "text/plain": [
       "<matplotlib.figure.Figure at 0x1b1781b00>"
      ]
     },
     "metadata": {},
     "output_type": "display_data"
    }
   ],
   "source": [
    "pr, re, thres = precision_recall_curve(y_test, predictions[:, 1] )\n",
    "plt.plot( re, pr )\n",
    "# построим precision - recall кривую"
   ]
  },
  {
   "cell_type": "code",
   "execution_count": null,
   "metadata": {
    "collapsed": true
   },
   "outputs": [],
   "source": []
  },
  {
   "cell_type": "code",
   "execution_count": 450,
   "metadata": {},
   "outputs": [
    {
     "data": {
      "text/plain": [
       "[<matplotlib.lines.Line2D at 0x1b15c5c88>]"
      ]
     },
     "execution_count": 450,
     "metadata": {},
     "output_type": "execute_result"
    },
    {
     "data": {
      "image/png": "[encoded data removed]",
      "text/plain": [
       "<matplotlib.figure.Figure at 0x19e964320>"
      ]
     },
     "metadata": {},
     "output_type": "display_data"
    }
   ],
   "source": [
    "fpr, tpr, thres = roc_curve(y_test, predictions[:, 1] )\n",
    "plt.plot( fpr, tpr )\n",
    "# построим ROC-кривую (Receiver Operating Characteristic)"
   ]
  },
  {
   "cell_type": "code",
   "execution_count": 434,
   "metadata": {},
   "outputs": [
    {
     "data": {
      "text/plain": [
       "0.96527631548603066"
      ]
     },
     "execution_count": 434,
     "metadata": {},
     "output_type": "execute_result"
    }
   ],
   "source": [
    "roc_auc_score( y_test, predictions[:, 1] )"
   ]
  },
  {
   "cell_type": "code",
   "execution_count": 435,
   "metadata": {},
   "outputs": [
    {
     "data": {
      "text/plain": [
       "0.96527631548603066"
      ]
     },
     "execution_count": 435,
     "metadata": {},
     "output_type": "execute_result"
    }
   ],
   "source": [
    "auc( fpr, tpr )"
   ]
  },
  {
   "cell_type": "code",
   "execution_count": 438,
   "metadata": {
    "scrolled": true
   },
   "outputs": [
    {
     "data": {
      "text/plain": [
       "<matplotlib.axes._subplots.AxesSubplot at 0x1ad4a95f8>"
      ]
     },
     "execution_count": 438,
     "metadata": {},
     "output_type": "execute_result"
    },
    {
     "data": {
      "image/png": "[encoded data removed]",
      "text/plain": [
       "<matplotlib.figure.Figure at 0x1ad600b70>"
      ]
     },
     "metadata": {},
     "output_type": "display_data"
    }
   ],
   "source": [
    "plt.figure(figsize = (10,7))\n",
    "sn.set(font_scale=1)#for label size\n",
    "sn.heatmap(confusion_matrix(y_test, y_pred), annot=True,annot_kws={\"size\": 16} ,fmt=\"d\")# font size"
   ]
  },
  {
   "cell_type": "code",
   "execution_count": null,
   "metadata": {
    "collapsed": true
   },
   "outputs": [],
   "source": []
  },
  {
   "cell_type": "code",
   "execution_count": 444,
   "metadata": {
    "collapsed": true
   },
   "outputs": [],
   "source": [
    "from sklearn.externals import joblib"
   ]
  },
  {
   "cell_type": "code",
   "execution_count": 445,
   "metadata": {
    "collapsed": true
   },
   "outputs": [],
   "source": [
    "filename = 'rf.joblib.pkl'"
   ]
  },
  {
   "cell_type": "code",
   "execution_count": 446,
   "metadata": {
    "collapsed": true
   },
   "outputs": [],
   "source": [
    "_ = joblib.dump(clf, filename, compress=9)"
   ]
  },
  {
   "cell_type": "code",
   "execution_count": 447,
   "metadata": {
    "collapsed": true
   },
   "outputs": [],
   "source": [
    "rf = joblib.load(filename)"
   ]
  },
  {
   "cell_type": "code",
   "execution_count": null,
   "metadata": {
    "collapsed": true
   },
   "outputs": [],
   "source": []
  },
  {
   "cell_type": "code",
   "execution_count": null,
   "metadata": {
    "collapsed": true
   },
   "outputs": [],
   "source": []
  }
 ],
 "metadata": {
  "kernelspec": {
   "display_name": "Python 3",
   "language": "python",
   "name": "python3"
  },
  "language_info": {
   "codemirror_mode": {
    "name": "ipython",
    "version": 3
   },
   "file_extension": ".py",
   "mimetype": "text/x-python",
   "name": "python",
   "nbconvert_exporter": "python",
   "pygments_lexer": "ipython3",
   "version": "3.6.1"
  }
 },
 "nbformat": 4,
 "nbformat_minor": 2
}
