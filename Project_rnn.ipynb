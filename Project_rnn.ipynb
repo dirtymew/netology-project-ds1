{
 "cells": [
  {
   "cell_type": "markdown",
   "metadata": {
    "collapsed": true
   },
   "source": [
    "## готовим данные для rnn"
   ]
  },
  {
   "cell_type": "markdown",
   "metadata": {},
   "source": [
    "### data set\n",
    "https://www.kaggle.com/retailrocket/ecommerce-dataset"
   ]
  },
  {
   "cell_type": "code",
   "execution_count": 1,
   "metadata": {},
   "outputs": [
    {
     "name": "stdout",
     "output_type": "stream",
     "text": [
      "Populating the interactive namespace from numpy and matplotlib\n"
     ]
    }
   ],
   "source": [
    "\n",
    "import numpy as np\n",
    "import pandas as pd\n",
    "import matplotlib.pyplot as plt\n",
    "import warnings\n",
    "warnings.simplefilter('ignore')\n",
    "import sklearn\n",
    "\n",
    "%pylab inline"
   ]
  },
  {
   "cell_type": "code",
   "execution_count": null,
   "metadata": {
    "collapsed": true
   },
   "outputs": [],
   "source": []
  },
  {
   "cell_type": "code",
   "execution_count": 2,
   "metadata": {},
   "outputs": [
    {
     "name": "stderr",
     "output_type": "stream",
     "text": [
      "Using TensorFlow backend.\n"
     ]
    }
   ],
   "source": [
    "import keras\n",
    "import tensorflow"
   ]
  },
  {
   "cell_type": "code",
   "execution_count": 3,
   "metadata": {},
   "outputs": [
    {
     "data": {
      "text/plain": [
       "'2.0.8'"
      ]
     },
     "execution_count": 3,
     "metadata": {},
     "output_type": "execute_result"
    }
   ],
   "source": [
    "keras.__version__"
   ]
  },
  {
   "cell_type": "code",
   "execution_count": 4,
   "metadata": {},
   "outputs": [
    {
     "data": {
      "text/plain": [
       "'1.3.0'"
      ]
     },
     "execution_count": 4,
     "metadata": {},
     "output_type": "execute_result"
    }
   ],
   "source": [
    "tensorflow.__version__"
   ]
  },
  {
   "cell_type": "code",
   "execution_count": 5,
   "metadata": {
    "collapsed": true
   },
   "outputs": [],
   "source": [
    "### load data - загрузим данные из предыдущих анализов\n",
    "events = pd.DataFrame.from_csv('./data/train_events_3.csv')"
   ]
  },
  {
   "cell_type": "code",
   "execution_count": 6,
   "metadata": {},
   "outputs": [
    {
     "data": {
      "text/plain": [
       "1355823"
      ]
     },
     "execution_count": 6,
     "metadata": {},
     "output_type": "execute_result"
    }
   ],
   "source": [
    "events.shape[0]"
   ]
  },
  {
   "cell_type": "code",
   "execution_count": 7,
   "metadata": {},
   "outputs": [
    {
     "data": {
      "text/html": [
       "<div>\n",
       "<style>\n",
       "    .dataframe thead tr:only-child th {\n",
       "        text-align: right;\n",
       "    }\n",
       "\n",
       "    .dataframe thead th {\n",
       "        text-align: left;\n",
       "    }\n",
       "\n",
       "    .dataframe tbody tr th {\n",
       "        vertical-align: top;\n",
       "    }\n",
       "</style>\n",
       "<table border=\"1\" class=\"dataframe\">\n",
       "  <thead>\n",
       "    <tr style=\"text-align: right;\">\n",
       "      <th></th>\n",
       "      <th>index</th>\n",
       "      <th>timestamp</th>\n",
       "      <th>visitorid</th>\n",
       "      <th>event</th>\n",
       "      <th>itemid</th>\n",
       "      <th>transactionid</th>\n",
       "      <th>delta</th>\n",
       "      <th>delta1</th>\n",
       "      <th>ssid</th>\n",
       "      <th>session_type</th>\n",
       "      <th>item_cat</th>\n",
       "      <th>item_cat_dist</th>\n",
       "      <th>event_type</th>\n",
       "      <th>session_transation_type</th>\n",
       "    </tr>\n",
       "  </thead>\n",
       "  <tbody>\n",
       "    <tr>\n",
       "      <th>0</th>\n",
       "      <td>2024720</td>\n",
       "      <td>1438969904567</td>\n",
       "      <td>2</td>\n",
       "      <td>view</td>\n",
       "      <td>325215</td>\n",
       "      <td>-1</td>\n",
       "      <td>NaN</td>\n",
       "      <td>NaN</td>\n",
       "      <td>1</td>\n",
       "      <td>2</td>\n",
       "      <td>299.0</td>\n",
       "      <td>0.0</td>\n",
       "      <td>0</td>\n",
       "      <td>0</td>\n",
       "    </tr>\n",
       "    <tr>\n",
       "      <th>1</th>\n",
       "      <td>2024760</td>\n",
       "      <td>1438970013790</td>\n",
       "      <td>2</td>\n",
       "      <td>view</td>\n",
       "      <td>325215</td>\n",
       "      <td>-1</td>\n",
       "      <td>1.820383</td>\n",
       "      <td>1.820383</td>\n",
       "      <td>1</td>\n",
       "      <td>2</td>\n",
       "      <td>299.0</td>\n",
       "      <td>0.0</td>\n",
       "      <td>0</td>\n",
       "      <td>0</td>\n",
       "    </tr>\n",
       "    <tr>\n",
       "      <th>2</th>\n",
       "      <td>2024834</td>\n",
       "      <td>1438970212664</td>\n",
       "      <td>2</td>\n",
       "      <td>view</td>\n",
       "      <td>259884</td>\n",
       "      <td>-1</td>\n",
       "      <td>3.314567</td>\n",
       "      <td>3.314567</td>\n",
       "      <td>1</td>\n",
       "      <td>2</td>\n",
       "      <td>299.0</td>\n",
       "      <td>0.0</td>\n",
       "      <td>0</td>\n",
       "      <td>0</td>\n",
       "    </tr>\n",
       "    <tr>\n",
       "      <th>3</th>\n",
       "      <td>2024945</td>\n",
       "      <td>1438970468920</td>\n",
       "      <td>2</td>\n",
       "      <td>view</td>\n",
       "      <td>216305</td>\n",
       "      <td>-1</td>\n",
       "      <td>4.270933</td>\n",
       "      <td>4.270933</td>\n",
       "      <td>1</td>\n",
       "      <td>2</td>\n",
       "      <td>299.0</td>\n",
       "      <td>0.0</td>\n",
       "      <td>0</td>\n",
       "      <td>0</td>\n",
       "    </tr>\n",
       "    <tr>\n",
       "      <th>4</th>\n",
       "      <td>2025140</td>\n",
       "      <td>1438970905669</td>\n",
       "      <td>2</td>\n",
       "      <td>view</td>\n",
       "      <td>342816</td>\n",
       "      <td>-1</td>\n",
       "      <td>7.279150</td>\n",
       "      <td>7.279150</td>\n",
       "      <td>1</td>\n",
       "      <td>2</td>\n",
       "      <td>444.0</td>\n",
       "      <td>10.0</td>\n",
       "      <td>0</td>\n",
       "      <td>0</td>\n",
       "    </tr>\n",
       "  </tbody>\n",
       "</table>\n",
       "</div>"
      ],
      "text/plain": [
       "     index      timestamp  visitorid event  itemid  transactionid     delta  \\\n",
       "0  2024720  1438969904567          2  view  325215             -1       NaN   \n",
       "1  2024760  1438970013790          2  view  325215             -1  1.820383   \n",
       "2  2024834  1438970212664          2  view  259884             -1  3.314567   \n",
       "3  2024945  1438970468920          2  view  216305             -1  4.270933   \n",
       "4  2025140  1438970905669          2  view  342816             -1  7.279150   \n",
       "\n",
       "     delta1  ssid  session_type  item_cat  item_cat_dist  event_type  \\\n",
       "0       NaN     1             2     299.0            0.0           0   \n",
       "1  1.820383     1             2     299.0            0.0           0   \n",
       "2  3.314567     1             2     299.0            0.0           0   \n",
       "3  4.270933     1             2     299.0            0.0           0   \n",
       "4  7.279150     1             2     444.0           10.0           0   \n",
       "\n",
       "   session_transation_type  \n",
       "0                        0  \n",
       "1                        0  \n",
       "2                        0  \n",
       "3                        0  \n",
       "4                        0  "
      ]
     },
     "execution_count": 7,
     "metadata": {},
     "output_type": "execute_result"
    }
   ],
   "source": [
    "events.head()"
   ]
  },
  {
   "cell_type": "code",
   "execution_count": 8,
   "metadata": {},
   "outputs": [
    {
     "data": {
      "text/plain": [
       "147182"
      ]
     },
     "execution_count": 8,
     "metadata": {},
     "output_type": "execute_result"
    }
   ],
   "source": [
    "events.itemid.unique().shape[0]"
   ]
  },
  {
   "cell_type": "code",
   "execution_count": 9,
   "metadata": {
    "collapsed": true
   },
   "outputs": [],
   "source": [
    "##уберем лишние данные"
   ]
  },
  {
   "cell_type": "code",
   "execution_count": 10,
   "metadata": {
    "collapsed": true
   },
   "outputs": [],
   "source": [
    "events_ = events.drop(['transactionid','delta','delta1', 'session_type','item_cat','item_cat_dist','event_type','session_transation_type'],axis=1)"
   ]
  },
  {
   "cell_type": "code",
   "execution_count": 11,
   "metadata": {
    "collapsed": true
   },
   "outputs": [],
   "source": [
    "##причешем датачет"
   ]
  },
  {
   "cell_type": "code",
   "execution_count": 12,
   "metadata": {
    "collapsed": true
   },
   "outputs": [],
   "source": [
    "events_['event_type'] = events.event.copy()"
   ]
  },
  {
   "cell_type": "code",
   "execution_count": 13,
   "metadata": {
    "collapsed": true
   },
   "outputs": [],
   "source": [
    "events_.event_type = events_.event_type.replace({'view': 0, 'addtocart': 1, 'transaction': 2})"
   ]
  },
  {
   "cell_type": "code",
   "execution_count": 14,
   "metadata": {
    "collapsed": true
   },
   "outputs": [],
   "source": [
    "events_['event_type'] = events_['event_type'].astype(int)"
   ]
  },
  {
   "cell_type": "code",
   "execution_count": 15,
   "metadata": {
    "collapsed": true
   },
   "outputs": [],
   "source": [
    "events_['ssid'] = events_['ssid'].astype(int)"
   ]
  },
  {
   "cell_type": "code",
   "execution_count": 16,
   "metadata": {},
   "outputs": [
    {
     "data": {
      "text/html": [
       "<div>\n",
       "<style>\n",
       "    .dataframe thead tr:only-child th {\n",
       "        text-align: right;\n",
       "    }\n",
       "\n",
       "    .dataframe thead th {\n",
       "        text-align: left;\n",
       "    }\n",
       "\n",
       "    .dataframe tbody tr th {\n",
       "        vertical-align: top;\n",
       "    }\n",
       "</style>\n",
       "<table border=\"1\" class=\"dataframe\">\n",
       "  <thead>\n",
       "    <tr style=\"text-align: right;\">\n",
       "      <th></th>\n",
       "      <th>index</th>\n",
       "      <th>timestamp</th>\n",
       "      <th>visitorid</th>\n",
       "      <th>event</th>\n",
       "      <th>itemid</th>\n",
       "      <th>ssid</th>\n",
       "      <th>event_type</th>\n",
       "    </tr>\n",
       "  </thead>\n",
       "  <tbody>\n",
       "    <tr>\n",
       "      <th>0</th>\n",
       "      <td>2024720</td>\n",
       "      <td>1438969904567</td>\n",
       "      <td>2</td>\n",
       "      <td>view</td>\n",
       "      <td>325215</td>\n",
       "      <td>1</td>\n",
       "      <td>0</td>\n",
       "    </tr>\n",
       "    <tr>\n",
       "      <th>1</th>\n",
       "      <td>2024760</td>\n",
       "      <td>1438970013790</td>\n",
       "      <td>2</td>\n",
       "      <td>view</td>\n",
       "      <td>325215</td>\n",
       "      <td>1</td>\n",
       "      <td>0</td>\n",
       "    </tr>\n",
       "    <tr>\n",
       "      <th>2</th>\n",
       "      <td>2024834</td>\n",
       "      <td>1438970212664</td>\n",
       "      <td>2</td>\n",
       "      <td>view</td>\n",
       "      <td>259884</td>\n",
       "      <td>1</td>\n",
       "      <td>0</td>\n",
       "    </tr>\n",
       "    <tr>\n",
       "      <th>3</th>\n",
       "      <td>2024945</td>\n",
       "      <td>1438970468920</td>\n",
       "      <td>2</td>\n",
       "      <td>view</td>\n",
       "      <td>216305</td>\n",
       "      <td>1</td>\n",
       "      <td>0</td>\n",
       "    </tr>\n",
       "    <tr>\n",
       "      <th>4</th>\n",
       "      <td>2025140</td>\n",
       "      <td>1438970905669</td>\n",
       "      <td>2</td>\n",
       "      <td>view</td>\n",
       "      <td>342816</td>\n",
       "      <td>1</td>\n",
       "      <td>0</td>\n",
       "    </tr>\n",
       "  </tbody>\n",
       "</table>\n",
       "</div>"
      ],
      "text/plain": [
       "     index      timestamp  visitorid event  itemid  ssid  event_type\n",
       "0  2024720  1438969904567          2  view  325215     1           0\n",
       "1  2024760  1438970013790          2  view  325215     1           0\n",
       "2  2024834  1438970212664          2  view  259884     1           0\n",
       "3  2024945  1438970468920          2  view  216305     1           0\n",
       "4  2025140  1438970905669          2  view  342816     1           0"
      ]
     },
     "execution_count": 16,
     "metadata": {},
     "output_type": "execute_result"
    }
   ],
   "source": [
    "events_.head()"
   ]
  },
  {
   "cell_type": "code",
   "execution_count": null,
   "metadata": {
    "collapsed": true
   },
   "outputs": [],
   "source": []
  },
  {
   "cell_type": "code",
   "execution_count": 17,
   "metadata": {
    "collapsed": true
   },
   "outputs": [],
   "source": [
    "events_ = events_.sort_values(['ssid', 'timestamp'], ascending=[True, True])"
   ]
  },
  {
   "cell_type": "code",
   "execution_count": 18,
   "metadata": {},
   "outputs": [
    {
     "name": "stdout",
     "output_type": "stream",
     "text": [
      "Wall time: 10 ms\n"
     ]
    }
   ],
   "source": [
    "%%time\n",
    "sessions_ =  events_[['ssid',\n",
    "                     'event_type',\n",
    "                     'itemid',\n",
    "                     ]].groupby('ssid')"
   ]
  },
  {
   "cell_type": "code",
   "execution_count": 19,
   "metadata": {
    "collapsed": true
   },
   "outputs": [],
   "source": [
    "seq = pd.DataFrame()"
   ]
  },
  {
   "cell_type": "code",
   "execution_count": 20,
   "metadata": {},
   "outputs": [
    {
     "name": "stdout",
     "output_type": "stream",
     "text": [
      "Wall time: 2min 27s\n"
     ]
    }
   ],
   "source": [
    "%%time\n",
    "seq['actions'] = sessions_['event_type'].apply(list)\n",
    "seq['items'] = sessions_['itemid'].apply(list)\n",
    "seq['max_action'] = sessions_['event_type'].apply(max)"
   ]
  },
  {
   "cell_type": "code",
   "execution_count": 21,
   "metadata": {
    "collapsed": true
   },
   "outputs": [],
   "source": [
    "seq.reset_index(inplace=True)"
   ]
  },
  {
   "cell_type": "code",
   "execution_count": 22,
   "metadata": {},
   "outputs": [
    {
     "data": {
      "text/html": [
       "<div>\n",
       "<style>\n",
       "    .dataframe thead tr:only-child th {\n",
       "        text-align: right;\n",
       "    }\n",
       "\n",
       "    .dataframe thead th {\n",
       "        text-align: left;\n",
       "    }\n",
       "\n",
       "    .dataframe tbody tr th {\n",
       "        vertical-align: top;\n",
       "    }\n",
       "</style>\n",
       "<table border=\"1\" class=\"dataframe\">\n",
       "  <thead>\n",
       "    <tr style=\"text-align: right;\">\n",
       "      <th></th>\n",
       "      <th>ssid</th>\n",
       "      <th>actions</th>\n",
       "      <th>items</th>\n",
       "      <th>max_action</th>\n",
       "    </tr>\n",
       "  </thead>\n",
       "  <tbody>\n",
       "    <tr>\n",
       "      <th>0</th>\n",
       "      <td>1</td>\n",
       "      <td>[0, 0, 0, 0, 0, 0, 0, 0]</td>\n",
       "      <td>[325215, 325215, 259884, 216305, 342816, 34281...</td>\n",
       "      <td>0</td>\n",
       "    </tr>\n",
       "    <tr>\n",
       "      <th>1</th>\n",
       "      <td>2</td>\n",
       "      <td>[0, 0]</td>\n",
       "      <td>[139394, 164941]</td>\n",
       "      <td>0</td>\n",
       "    </tr>\n",
       "    <tr>\n",
       "      <th>2</th>\n",
       "      <td>3</td>\n",
       "      <td>[0]</td>\n",
       "      <td>[226353]</td>\n",
       "      <td>0</td>\n",
       "    </tr>\n",
       "    <tr>\n",
       "      <th>3</th>\n",
       "      <td>4</td>\n",
       "      <td>[0, 0]</td>\n",
       "      <td>[320589, 278689]</td>\n",
       "      <td>0</td>\n",
       "    </tr>\n",
       "    <tr>\n",
       "      <th>4</th>\n",
       "      <td>5</td>\n",
       "      <td>[0, 0]</td>\n",
       "      <td>[86411, 86411]</td>\n",
       "      <td>0</td>\n",
       "    </tr>\n",
       "  </tbody>\n",
       "</table>\n",
       "</div>"
      ],
      "text/plain": [
       "   ssid                   actions  \\\n",
       "0     1  [0, 0, 0, 0, 0, 0, 0, 0]   \n",
       "1     2                    [0, 0]   \n",
       "2     3                       [0]   \n",
       "3     4                    [0, 0]   \n",
       "4     5                    [0, 0]   \n",
       "\n",
       "                                               items  max_action  \n",
       "0  [325215, 325215, 259884, 216305, 342816, 34281...           0  \n",
       "1                                   [139394, 164941]           0  \n",
       "2                                           [226353]           0  \n",
       "3                                   [320589, 278689]           0  \n",
       "4                                     [86411, 86411]           0  "
      ]
     },
     "execution_count": 22,
     "metadata": {},
     "output_type": "execute_result"
    }
   ],
   "source": [
    "seq.head()"
   ]
  },
  {
   "cell_type": "code",
   "execution_count": 23,
   "metadata": {
    "collapsed": true
   },
   "outputs": [],
   "source": [
    "seq['len'] = seq.actions.apply(len)"
   ]
  },
  {
   "cell_type": "code",
   "execution_count": 24,
   "metadata": {},
   "outputs": [
    {
     "data": {
      "text/plain": [
       "<matplotlib.axes._subplots.AxesSubplot at 0x2225b449b70>"
      ]
     },
     "execution_count": 24,
     "metadata": {},
     "output_type": "execute_result"
    },
    {
     "data": {
      "image/png": "[encoded data removed]",
      "text/plain": [
       "<matplotlib.figure.Figure at 0x2223d3fca58>"
      ]
     },
     "metadata": {},
     "output_type": "display_data"
    }
   ],
   "source": [
    "seq['len'].hist(bins=30)"
   ]
  },
  {
   "cell_type": "code",
   "execution_count": 25,
   "metadata": {},
   "outputs": [
    {
     "data": {
      "text/plain": [
       "0.99    36.0\n",
       "Name: len, dtype: float64"
      ]
     },
     "execution_count": 25,
     "metadata": {},
     "output_type": "execute_result"
    }
   ],
   "source": [
    "seq['len'].loc[seq.max_action == 2].quantile([.99])"
   ]
  },
  {
   "cell_type": "code",
   "execution_count": 26,
   "metadata": {},
   "outputs": [
    {
     "data": {
      "text/plain": [
       "<matplotlib.axes._subplots.AxesSubplot at 0x222461a25f8>"
      ]
     },
     "execution_count": 26,
     "metadata": {},
     "output_type": "execute_result"
    },
    {
     "data": {
      "image/png": "[encoded data removed]",
      "text/plain": [
       "<matplotlib.figure.Figure at 0x222462565f8>"
      ]
     },
     "metadata": {},
     "output_type": "display_data"
    }
   ],
   "source": [
    "seq['len'].loc[seq['len'] <= 36].hist(bins=30)"
   ]
  },
  {
   "cell_type": "code",
   "execution_count": null,
   "metadata": {
    "collapsed": true
   },
   "outputs": [],
   "source": []
  },
  {
   "cell_type": "code",
   "execution_count": 27,
   "metadata": {
    "collapsed": true
   },
   "outputs": [],
   "source": [
    "def last_i(list):\n",
    "    return list[-1]\n",
    "\n",
    "#функция \n",
    "def train_seq(list):\n",
    "    if len(list) > 36:\n",
    "        return list[-36:]\n",
    "    return list[:-1]"
   ]
  },
  {
   "cell_type": "code",
   "execution_count": 28,
   "metadata": {},
   "outputs": [
    {
     "data": {
      "text/plain": [
       "(592160, 5)"
      ]
     },
     "execution_count": 28,
     "metadata": {},
     "output_type": "execute_result"
    }
   ],
   "source": [
    "seq.shape"
   ]
  },
  {
   "cell_type": "code",
   "execution_count": 29,
   "metadata": {},
   "outputs": [
    {
     "name": "stdout",
     "output_type": "stream",
     "text": [
      "Wall time: 1.9 s\n"
     ]
    }
   ],
   "source": [
    "%%time\n",
    "seq['action_last'] = seq.actions.apply(last_i)\n",
    "seq['items__last'] = seq['items'].apply(last_i)\n",
    "seq['action_train'] = seq.actions.apply(train_seq)\n",
    "seq['items__train'] = seq['items'].apply(train_seq)"
   ]
  },
  {
   "cell_type": "code",
   "execution_count": null,
   "metadata": {
    "collapsed": true
   },
   "outputs": [],
   "source": []
  },
  {
   "cell_type": "code",
   "execution_count": 30,
   "metadata": {
    "collapsed": true
   },
   "outputs": [],
   "source": [
    "#seq.head()"
   ]
  },
  {
   "cell_type": "code",
   "execution_count": 31,
   "metadata": {},
   "outputs": [
    {
     "data": {
      "text/plain": [
       "(592160, 9)"
      ]
     },
     "execution_count": 31,
     "metadata": {},
     "output_type": "execute_result"
    }
   ],
   "source": [
    "seq.shape"
   ]
  },
  {
   "cell_type": "code",
   "execution_count": null,
   "metadata": {
    "collapsed": true
   },
   "outputs": [],
   "source": []
  },
  {
   "cell_type": "code",
   "execution_count": 32,
   "metadata": {
    "collapsed": true
   },
   "outputs": [],
   "source": [
    "seq_ = seq.loc[seq.len > 1]"
   ]
  },
  {
   "cell_type": "code",
   "execution_count": 33,
   "metadata": {
    "collapsed": true
   },
   "outputs": [],
   "source": [
    "#seq_ = seq.loc[seq.len > 2]"
   ]
  },
  {
   "cell_type": "code",
   "execution_count": 34,
   "metadata": {},
   "outputs": [
    {
     "data": {
      "text/plain": [
       "(306474, 9)"
      ]
     },
     "execution_count": 34,
     "metadata": {},
     "output_type": "execute_result"
    }
   ],
   "source": [
    "seq_.shape"
   ]
  },
  {
   "cell_type": "code",
   "execution_count": 35,
   "metadata": {},
   "outputs": [
    {
     "data": {
      "text/html": [
       "<div>\n",
       "<style>\n",
       "    .dataframe thead tr:only-child th {\n",
       "        text-align: right;\n",
       "    }\n",
       "\n",
       "    .dataframe thead th {\n",
       "        text-align: left;\n",
       "    }\n",
       "\n",
       "    .dataframe tbody tr th {\n",
       "        vertical-align: top;\n",
       "    }\n",
       "</style>\n",
       "<table border=\"1\" class=\"dataframe\">\n",
       "  <thead>\n",
       "    <tr style=\"text-align: right;\">\n",
       "      <th></th>\n",
       "      <th>ssid</th>\n",
       "      <th>actions</th>\n",
       "      <th>items</th>\n",
       "      <th>max_action</th>\n",
       "      <th>len</th>\n",
       "      <th>action_last</th>\n",
       "      <th>items__last</th>\n",
       "      <th>action_train</th>\n",
       "      <th>items__train</th>\n",
       "    </tr>\n",
       "  </thead>\n",
       "  <tbody>\n",
       "    <tr>\n",
       "      <th>0</th>\n",
       "      <td>1</td>\n",
       "      <td>[0, 0, 0, 0, 0, 0, 0, 0]</td>\n",
       "      <td>[325215, 325215, 259884, 216305, 342816, 34281...</td>\n",
       "      <td>0</td>\n",
       "      <td>8</td>\n",
       "      <td>0</td>\n",
       "      <td>325215</td>\n",
       "      <td>[0, 0, 0, 0, 0, 0, 0]</td>\n",
       "      <td>[325215, 325215, 259884, 216305, 342816, 34281...</td>\n",
       "    </tr>\n",
       "    <tr>\n",
       "      <th>1</th>\n",
       "      <td>2</td>\n",
       "      <td>[0, 0]</td>\n",
       "      <td>[139394, 164941]</td>\n",
       "      <td>0</td>\n",
       "      <td>2</td>\n",
       "      <td>0</td>\n",
       "      <td>164941</td>\n",
       "      <td>[0]</td>\n",
       "      <td>[139394]</td>\n",
       "    </tr>\n",
       "    <tr>\n",
       "      <th>3</th>\n",
       "      <td>4</td>\n",
       "      <td>[0, 0]</td>\n",
       "      <td>[320589, 278689]</td>\n",
       "      <td>0</td>\n",
       "      <td>2</td>\n",
       "      <td>0</td>\n",
       "      <td>278689</td>\n",
       "      <td>[0]</td>\n",
       "      <td>[320589]</td>\n",
       "    </tr>\n",
       "    <tr>\n",
       "      <th>4</th>\n",
       "      <td>5</td>\n",
       "      <td>[0, 0]</td>\n",
       "      <td>[86411, 86411]</td>\n",
       "      <td>0</td>\n",
       "      <td>2</td>\n",
       "      <td>0</td>\n",
       "      <td>86411</td>\n",
       "      <td>[0]</td>\n",
       "      <td>[86411]</td>\n",
       "    </tr>\n",
       "    <tr>\n",
       "      <th>6</th>\n",
       "      <td>7</td>\n",
       "      <td>[0, 0]</td>\n",
       "      <td>[283916, 283916]</td>\n",
       "      <td>0</td>\n",
       "      <td>2</td>\n",
       "      <td>0</td>\n",
       "      <td>283916</td>\n",
       "      <td>[0]</td>\n",
       "      <td>[283916]</td>\n",
       "    </tr>\n",
       "  </tbody>\n",
       "</table>\n",
       "</div>"
      ],
      "text/plain": [
       "   ssid                   actions  \\\n",
       "0     1  [0, 0, 0, 0, 0, 0, 0, 0]   \n",
       "1     2                    [0, 0]   \n",
       "3     4                    [0, 0]   \n",
       "4     5                    [0, 0]   \n",
       "6     7                    [0, 0]   \n",
       "\n",
       "                                               items  max_action  len  \\\n",
       "0  [325215, 325215, 259884, 216305, 342816, 34281...           0    8   \n",
       "1                                   [139394, 164941]           0    2   \n",
       "3                                   [320589, 278689]           0    2   \n",
       "4                                     [86411, 86411]           0    2   \n",
       "6                                   [283916, 283916]           0    2   \n",
       "\n",
       "   action_last  items__last           action_train  \\\n",
       "0            0       325215  [0, 0, 0, 0, 0, 0, 0]   \n",
       "1            0       164941                    [0]   \n",
       "3            0       278689                    [0]   \n",
       "4            0        86411                    [0]   \n",
       "6            0       283916                    [0]   \n",
       "\n",
       "                                        items__train  \n",
       "0  [325215, 325215, 259884, 216305, 342816, 34281...  \n",
       "1                                           [139394]  \n",
       "3                                           [320589]  \n",
       "4                                            [86411]  \n",
       "6                                           [283916]  "
      ]
     },
     "execution_count": 35,
     "metadata": {},
     "output_type": "execute_result"
    }
   ],
   "source": [
    "seq_.head()"
   ]
  },
  {
   "cell_type": "code",
   "execution_count": null,
   "metadata": {
    "collapsed": true
   },
   "outputs": [],
   "source": []
  },
  {
   "cell_type": "code",
   "execution_count": null,
   "metadata": {
    "collapsed": true
   },
   "outputs": [],
   "source": []
  },
  {
   "cell_type": "code",
   "execution_count": 36,
   "metadata": {},
   "outputs": [
    {
     "data": {
      "text/plain": [
       "0    283536\n",
       "1     12402\n",
       "2     10536\n",
       "Name: action_last, dtype: int64"
      ]
     },
     "execution_count": 36,
     "metadata": {},
     "output_type": "execute_result"
    }
   ],
   "source": [
    "seq_.action_last.value_counts()"
   ]
  },
  {
   "cell_type": "code",
   "execution_count": null,
   "metadata": {
    "collapsed": true
   },
   "outputs": [],
   "source": []
  },
  {
   "cell_type": "code",
   "execution_count": null,
   "metadata": {
    "collapsed": true
   },
   "outputs": [],
   "source": []
  },
  {
   "cell_type": "code",
   "execution_count": 37,
   "metadata": {
    "collapsed": true
   },
   "outputs": [],
   "source": [
    "data = seq_.copy()\n",
    "target = seq_['action_last'].copy()"
   ]
  },
  {
   "cell_type": "code",
   "execution_count": 38,
   "metadata": {
    "collapsed": true
   },
   "outputs": [],
   "source": [
    "data['len'] = data['action_train'].apply(len)"
   ]
  },
  {
   "cell_type": "code",
   "execution_count": 39,
   "metadata": {
    "scrolled": true
   },
   "outputs": [
    {
     "data": {
      "text/plain": [
       "36"
      ]
     },
     "execution_count": 39,
     "metadata": {},
     "output_type": "execute_result"
    }
   ],
   "source": [
    "data.len.max()"
   ]
  },
  {
   "cell_type": "code",
   "execution_count": 40,
   "metadata": {
    "collapsed": true
   },
   "outputs": [],
   "source": [
    "target = target.replace({0:0, 1:0, 2:1})"
   ]
  },
  {
   "cell_type": "code",
   "execution_count": 41,
   "metadata": {},
   "outputs": [
    {
     "data": {
      "text/plain": [
       "0    295938\n",
       "1     10536\n",
       "Name: action_last, dtype: int64"
      ]
     },
     "execution_count": 41,
     "metadata": {},
     "output_type": "execute_result"
    }
   ],
   "source": [
    "target.value_counts()"
   ]
  },
  {
   "cell_type": "code",
   "execution_count": 42,
   "metadata": {
    "collapsed": true
   },
   "outputs": [],
   "source": [
    "from sklearn.model_selection import train_test_split\n",
    "from sklearn import preprocessing\n",
    "\n",
    "X_train, X_test, y_train, y_test = train_test_split(data, target, test_size=0.2, random_state=42, stratify=target,shuffle =True)"
   ]
  },
  {
   "cell_type": "code",
   "execution_count": 43,
   "metadata": {},
   "outputs": [
    {
     "data": {
      "text/plain": [
       "(245179, 9)"
      ]
     },
     "execution_count": 43,
     "metadata": {},
     "output_type": "execute_result"
    }
   ],
   "source": [
    "X_train.shape"
   ]
  },
  {
   "cell_type": "code",
   "execution_count": 44,
   "metadata": {},
   "outputs": [
    {
     "data": {
      "text/plain": [
       "(61295, 9)"
      ]
     },
     "execution_count": 44,
     "metadata": {},
     "output_type": "execute_result"
    }
   ],
   "source": [
    "X_test.shape"
   ]
  },
  {
   "cell_type": "code",
   "execution_count": 45,
   "metadata": {},
   "outputs": [
    {
     "data": {
      "text/plain": [
       "0    236750\n",
       "1      8429\n",
       "Name: action_last, dtype: int64"
      ]
     },
     "execution_count": 45,
     "metadata": {},
     "output_type": "execute_result"
    }
   ],
   "source": [
    "y_train.value_counts()"
   ]
  },
  {
   "cell_type": "code",
   "execution_count": 46,
   "metadata": {
    "scrolled": true
   },
   "outputs": [
    {
     "data": {
      "text/plain": [
       "0    59188\n",
       "1     2107\n",
       "Name: action_last, dtype: int64"
      ]
     },
     "execution_count": 46,
     "metadata": {},
     "output_type": "execute_result"
    }
   ],
   "source": [
    "y_test.value_counts()\n",
    "#баланс классов в трейн/тест сохранили"
   ]
  },
  {
   "cell_type": "code",
   "execution_count": 47,
   "metadata": {},
   "outputs": [
    {
     "data": {
      "text/html": [
       "<div>\n",
       "<style>\n",
       "    .dataframe thead tr:only-child th {\n",
       "        text-align: right;\n",
       "    }\n",
       "\n",
       "    .dataframe thead th {\n",
       "        text-align: left;\n",
       "    }\n",
       "\n",
       "    .dataframe tbody tr th {\n",
       "        vertical-align: top;\n",
       "    }\n",
       "</style>\n",
       "<table border=\"1\" class=\"dataframe\">\n",
       "  <thead>\n",
       "    <tr style=\"text-align: right;\">\n",
       "      <th></th>\n",
       "      <th>ssid</th>\n",
       "      <th>actions</th>\n",
       "      <th>items</th>\n",
       "      <th>max_action</th>\n",
       "      <th>len</th>\n",
       "      <th>action_last</th>\n",
       "      <th>items__last</th>\n",
       "      <th>action_train</th>\n",
       "      <th>items__train</th>\n",
       "    </tr>\n",
       "  </thead>\n",
       "  <tbody>\n",
       "    <tr>\n",
       "      <th>497975</th>\n",
       "      <td>497976</td>\n",
       "      <td>[1, 1]</td>\n",
       "      <td>[47526, 47526]</td>\n",
       "      <td>1</td>\n",
       "      <td>1</td>\n",
       "      <td>1</td>\n",
       "      <td>47526</td>\n",
       "      <td>[1]</td>\n",
       "      <td>[47526]</td>\n",
       "    </tr>\n",
       "    <tr>\n",
       "      <th>301321</th>\n",
       "      <td>301322</td>\n",
       "      <td>[0, 0]</td>\n",
       "      <td>[452896, 354759]</td>\n",
       "      <td>0</td>\n",
       "      <td>1</td>\n",
       "      <td>0</td>\n",
       "      <td>354759</td>\n",
       "      <td>[0]</td>\n",
       "      <td>[452896]</td>\n",
       "    </tr>\n",
       "    <tr>\n",
       "      <th>342887</th>\n",
       "      <td>342888</td>\n",
       "      <td>[0, 0, 0]</td>\n",
       "      <td>[72430, 438419, 72430]</td>\n",
       "      <td>0</td>\n",
       "      <td>2</td>\n",
       "      <td>0</td>\n",
       "      <td>72430</td>\n",
       "      <td>[0, 0]</td>\n",
       "      <td>[72430, 438419]</td>\n",
       "    </tr>\n",
       "    <tr>\n",
       "      <th>473731</th>\n",
       "      <td>473732</td>\n",
       "      <td>[0, 0, 0]</td>\n",
       "      <td>[116802, 153118, 153118]</td>\n",
       "      <td>0</td>\n",
       "      <td>2</td>\n",
       "      <td>0</td>\n",
       "      <td>153118</td>\n",
       "      <td>[0, 0]</td>\n",
       "      <td>[116802, 153118]</td>\n",
       "    </tr>\n",
       "    <tr>\n",
       "      <th>523783</th>\n",
       "      <td>523784</td>\n",
       "      <td>[0, 0, 0]</td>\n",
       "      <td>[53754, 53754, 226160]</td>\n",
       "      <td>0</td>\n",
       "      <td>2</td>\n",
       "      <td>0</td>\n",
       "      <td>226160</td>\n",
       "      <td>[0, 0]</td>\n",
       "      <td>[53754, 53754]</td>\n",
       "    </tr>\n",
       "  </tbody>\n",
       "</table>\n",
       "</div>"
      ],
      "text/plain": [
       "          ssid    actions                     items  max_action  len  \\\n",
       "497975  497976     [1, 1]            [47526, 47526]           1    1   \n",
       "301321  301322     [0, 0]          [452896, 354759]           0    1   \n",
       "342887  342888  [0, 0, 0]    [72430, 438419, 72430]           0    2   \n",
       "473731  473732  [0, 0, 0]  [116802, 153118, 153118]           0    2   \n",
       "523783  523784  [0, 0, 0]    [53754, 53754, 226160]           0    2   \n",
       "\n",
       "        action_last  items__last action_train      items__train  \n",
       "497975            1        47526          [1]           [47526]  \n",
       "301321            0       354759          [0]          [452896]  \n",
       "342887            0        72430       [0, 0]   [72430, 438419]  \n",
       "473731            0       153118       [0, 0]  [116802, 153118]  \n",
       "523783            0       226160       [0, 0]    [53754, 53754]  "
      ]
     },
     "execution_count": 47,
     "metadata": {},
     "output_type": "execute_result"
    }
   ],
   "source": [
    "X_train.head()"
   ]
  },
  {
   "cell_type": "code",
   "execution_count": null,
   "metadata": {
    "collapsed": true
   },
   "outputs": [],
   "source": []
  },
  {
   "cell_type": "code",
   "execution_count": null,
   "metadata": {
    "collapsed": true
   },
   "outputs": [],
   "source": []
  },
  {
   "cell_type": "code",
   "execution_count": 48,
   "metadata": {
    "collapsed": true
   },
   "outputs": [],
   "source": [
    "#сбалансируем тренинг выборку"
   ]
  },
  {
   "cell_type": "code",
   "execution_count": 49,
   "metadata": {
    "collapsed": true
   },
   "outputs": [],
   "source": [
    "from imblearn.over_sampling import RandomOverSampler\n",
    "ros = RandomOverSampler(random_state=42)\n",
    "X_resampled, y_resampled = ros.fit_sample(X_train[['ssid']], y_train)"
   ]
  },
  {
   "cell_type": "code",
   "execution_count": 50,
   "metadata": {
    "collapsed": true
   },
   "outputs": [],
   "source": [
    "y_resampled_ = pd.DataFrame()\n",
    "y_resampled_['target'] = y_resampled"
   ]
  },
  {
   "cell_type": "code",
   "execution_count": 51,
   "metadata": {
    "collapsed": true
   },
   "outputs": [],
   "source": [
    "X_resampled_ = pd.DataFrame()\n",
    "X_resampled_['ssid'] = X_resampled[:,0]"
   ]
  },
  {
   "cell_type": "code",
   "execution_count": 52,
   "metadata": {},
   "outputs": [
    {
     "data": {
      "text/plain": [
       "1    236750\n",
       "0    236750\n",
       "Name: target, dtype: int64"
      ]
     },
     "execution_count": 52,
     "metadata": {},
     "output_type": "execute_result"
    }
   ],
   "source": [
    "y_resampled_.target.value_counts()"
   ]
  },
  {
   "cell_type": "code",
   "execution_count": null,
   "metadata": {
    "collapsed": true
   },
   "outputs": [],
   "source": []
  },
  {
   "cell_type": "code",
   "execution_count": 53,
   "metadata": {
    "collapsed": true
   },
   "outputs": [],
   "source": [
    "temp = X_resampled_.merge(X_train, left_on='ssid', right_on='ssid', how='left')"
   ]
  },
  {
   "cell_type": "code",
   "execution_count": 54,
   "metadata": {
    "collapsed": true
   },
   "outputs": [],
   "source": [
    "y_resampled_['target'] = temp['action_last'] "
   ]
  },
  {
   "cell_type": "code",
   "execution_count": 55,
   "metadata": {
    "collapsed": true
   },
   "outputs": [],
   "source": [
    "#оставляем только 2 класса "
   ]
  },
  {
   "cell_type": "code",
   "execution_count": 56,
   "metadata": {
    "collapsed": true
   },
   "outputs": [],
   "source": [
    "y_resampled_['target'] = y_resampled_['target'].replace({0:0, 1:0, 2:1})"
   ]
  },
  {
   "cell_type": "code",
   "execution_count": null,
   "metadata": {
    "collapsed": true
   },
   "outputs": [],
   "source": []
  },
  {
   "cell_type": "markdown",
   "metadata": {
    "collapsed": true
   },
   "source": [
    "## RNN"
   ]
  },
  {
   "cell_type": "code",
   "execution_count": 57,
   "metadata": {},
   "outputs": [],
   "source": [
    "import keras\n",
    "from keras.preprocessing import sequence\n",
    "from keras.utils import np_utils\n",
    "from keras.models import Sequential, Model\n",
    "from keras.layers.core import Dense, Dropout, Activation, Reshape\n",
    "from keras.layers.embeddings import Embedding\n",
    "from keras.layers.recurrent import LSTM, GRU, SimpleRNN\n",
    "from keras.layers import concatenate, Concatenate, Merge, Input,Add\n",
    "from keras import regularizers"
   ]
  },
  {
   "cell_type": "code",
   "execution_count": 58,
   "metadata": {
    "collapsed": true
   },
   "outputs": [],
   "source": [
    "keras.backend.clear_session()"
   ]
  },
  {
   "cell_type": "code",
   "execution_count": 59,
   "metadata": {
    "collapsed": true
   },
   "outputs": [],
   "source": [
    "max_features_1 = 100\n",
    "max_features_2 = 100\n",
    "maxlen =  data.len.max()\n",
    "batch_size = 128\n",
    "n_actions, n_items = 3, events.itemid.unique().shape[0]+1 "
   ]
  },
  {
   "cell_type": "code",
   "execution_count": 60,
   "metadata": {
    "collapsed": true
   },
   "outputs": [],
   "source": [
    "#приводим последовательность к одной длинне"
   ]
  },
  {
   "cell_type": "code",
   "execution_count": 61,
   "metadata": {
    "collapsed": true
   },
   "outputs": [],
   "source": [
    "X_train_1 = sequence.pad_sequences(temp['action_train'], maxlen=maxlen,value=(np.nan))\n",
    "X_train_2 = sequence.pad_sequences(temp['items__train'], maxlen=maxlen,value=(np.nan))"
   ]
  },
  {
   "cell_type": "code",
   "execution_count": 62,
   "metadata": {
    "collapsed": true
   },
   "outputs": [],
   "source": [
    "X_test_1 = sequence.pad_sequences(X_test['action_train'], maxlen=maxlen, value=(np.nan))\n",
    "X_test_2 = sequence.pad_sequences(X_test['items__train'], maxlen=maxlen, value=(np.nan))"
   ]
  },
  {
   "cell_type": "code",
   "execution_count": null,
   "metadata": {
    "collapsed": true
   },
   "outputs": [],
   "source": []
  },
  {
   "cell_type": "code",
   "execution_count": 63,
   "metadata": {
    "collapsed": true
   },
   "outputs": [],
   "source": [
    "#модель"
   ]
  },
  {
   "cell_type": "code",
   "execution_count": 64,
   "metadata": {
    "collapsed": true
   },
   "outputs": [],
   "source": [
    "actions_input     = Input(batch_shape=(None,maxlen),dtype='int32', name='actions')\n",
    "actions_embedding = Embedding(output_dim=max_features_1, input_dim=n_actions, input_length=maxlen)(actions_input)\n",
    "\n",
    "items_input     = Input( batch_shape=(None,maxlen), dtype='int32', name='items')\n",
    "items_embedding = Embedding(output_dim=max_features_2, input_dim=n_items+1, input_length=maxlen,)(items_input)\n",
    "\n",
    "layer_0 = Concatenate()([actions_embedding, items_embedding])\n",
    "\n",
    "layer_1 = GRU(max_features_1+max_features_2,return_sequences=True,recurrent_dropout=0.5, dropout=0.5)(layer_0)\n",
    "layer_2 = GRU(max_features_1+max_features_2,recurrent_regularizer=regularizers.l2(0.01),recurrent_dropout=0.5, dropout=0.5,activation=\"relu\")(layer_1)\n",
    "\n",
    "layer_3 = Dense(4,activation=\"softmax\")(layer_2)\n",
    "layer_4 = Dense(2)(layer_3)\n",
    "layer_5 = Activation('softmax')(layer_4)\n",
    "\n",
    "model_ = Model(inputs=[actions_input, items_input,], outputs=[layer_5])"
   ]
  },
  {
   "cell_type": "code",
   "execution_count": null,
   "metadata": {
    "collapsed": true
   },
   "outputs": [],
   "source": []
  },
  {
   "cell_type": "code",
   "execution_count": null,
   "metadata": {
    "collapsed": true
   },
   "outputs": [],
   "source": []
  },
  {
   "cell_type": "code",
   "execution_count": 65,
   "metadata": {
    "collapsed": true
   },
   "outputs": [],
   "source": [
    "model_.reset_states()"
   ]
  },
  {
   "cell_type": "code",
   "execution_count": 66,
   "metadata": {
    "collapsed": true
   },
   "outputs": [],
   "source": [
    "# rmsprop  categorical_crossentropy   binary_crossentropy accuracy               metrics=['binary_accuracy', 'categorical_accuracy'])"
   ]
  },
  {
   "cell_type": "code",
   "execution_count": 67,
   "metadata": {},
   "outputs": [],
   "source": [
    "model_.compile(loss='categorical_crossentropy',\n",
    "              optimizer='adam',\n",
    "              metrics=['binary_accuracy', 'categorical_accuracy'])"
   ]
  },
  {
   "cell_type": "code",
   "execution_count": 68,
   "metadata": {
    "scrolled": true
   },
   "outputs": [
    {
     "name": "stdout",
     "output_type": "stream",
     "text": [
      "____________________________________________________________________________________________________\n",
      "Layer (type)                     Output Shape          Param #     Connected to                     \n",
      "====================================================================================================\n",
      "actions (InputLayer)             (None, 36)            0                                            \n",
      "____________________________________________________________________________________________________\n",
      "items (InputLayer)               (None, 36)            0                                            \n",
      "____________________________________________________________________________________________________\n",
      "embedding_1 (Embedding)          (None, 36, 100)       300         actions[0][0]                    \n",
      "____________________________________________________________________________________________________\n",
      "embedding_2 (Embedding)          (None, 36, 100)       14718400    items[0][0]                      \n",
      "____________________________________________________________________________________________________\n",
      "concatenate_1 (Concatenate)      (None, 36, 200)       0           embedding_1[0][0]                \n",
      "                                                                   embedding_2[0][0]                \n",
      "____________________________________________________________________________________________________\n",
      "gru_1 (GRU)                      (None, 36, 200)       240600      concatenate_1[0][0]              \n",
      "____________________________________________________________________________________________________\n",
      "gru_2 (GRU)                      (None, 200)           240600      gru_1[0][0]                      \n",
      "____________________________________________________________________________________________________\n",
      "dense_1 (Dense)                  (None, 4)             804         gru_2[0][0]                      \n",
      "____________________________________________________________________________________________________\n",
      "dense_2 (Dense)                  (None, 2)             10          dense_1[0][0]                    \n",
      "____________________________________________________________________________________________________\n",
      "activation_1 (Activation)        (None, 2)             0           dense_2[0][0]                    \n",
      "====================================================================================================\n",
      "Total params: 15,200,714\n",
      "Trainable params: 15,200,714\n",
      "Non-trainable params: 0\n",
      "____________________________________________________________________________________________________\n"
     ]
    }
   ],
   "source": [
    "model_.summary()"
   ]
  },
  {
   "cell_type": "code",
   "execution_count": null,
   "metadata": {
    "collapsed": true
   },
   "outputs": [],
   "source": []
  },
  {
   "cell_type": "code",
   "execution_count": 69,
   "metadata": {
    "scrolled": true
   },
   "outputs": [
    {
     "name": "stdout",
     "output_type": "stream",
     "text": [
      "Epoch 1/100\n",
      "473500/473500 [==============================] - 404s - loss: 0.3037 - binary_accuracy: 0.9208 - categorical_accuracy: 0.9208   \n",
      "Epoch 2/100\n",
      "473500/473500 [==============================] - 400s - loss: 0.2262 - binary_accuracy: 0.9345 - categorical_accuracy: 0.9345   \n",
      "Epoch 3/100\n",
      "473500/473500 [==============================] - 400s - loss: 0.2058 - binary_accuracy: 0.9381 - categorical_accuracy: 0.9381   \n",
      "Epoch 4/100\n",
      "473500/473500 [==============================] - 400s - loss: 0.1885 - binary_accuracy: 0.9429 - categorical_accuracy: 0.9429   \n",
      "Epoch 5/100\n",
      "473500/473500 [==============================] - 400s - loss: 0.1818 - binary_accuracy: 0.9448 - categorical_accuracy: 0.9448   \n",
      "Epoch 6/100\n",
      "473500/473500 [==============================] - 400s - loss: 0.1785 - binary_accuracy: 0.9457 - categorical_accuracy: 0.9457   \n",
      "Epoch 7/100\n",
      "473500/473500 [==============================] - 401s - loss: 0.1762 - binary_accuracy: 0.9464 - categorical_accuracy: 0.9464   \n",
      "Epoch 8/100\n",
      "473500/473500 [==============================] - 401s - loss: 0.1747 - binary_accuracy: 0.9468 - categorical_accuracy: 0.9468   \n",
      "Epoch 9/100\n",
      "473500/473500 [==============================] - 401s - loss: 0.1735 - binary_accuracy: 0.9472 - categorical_accuracy: 0.9472   \n",
      "Epoch 10/100\n",
      "473500/473500 [==============================] - 400s - loss: 0.1722 - binary_accuracy: 0.9475 - categorical_accuracy: 0.9475   \n",
      "Epoch 11/100\n",
      "473500/473500 [==============================] - 401s - loss: 0.1713 - binary_accuracy: 0.9478 - categorical_accuracy: 0.9478   \n",
      "Epoch 12/100\n",
      "473500/473500 [==============================] - 400s - loss: 0.1709 - binary_accuracy: 0.9478 - categorical_accuracy: 0.9478   \n",
      "Epoch 13/100\n",
      "473500/473500 [==============================] - 401s - loss: 0.1703 - binary_accuracy: 0.9481 - categorical_accuracy: 0.9481   \n",
      "Epoch 14/100\n",
      "473500/473500 [==============================] - 401s - loss: 0.1700 - binary_accuracy: 0.9481 - categorical_accuracy: 0.9481   \n",
      "Epoch 15/100\n",
      "473500/473500 [==============================] - 401s - loss: 0.1697 - binary_accuracy: 0.9483 - categorical_accuracy: 0.9483   \n",
      "Epoch 16/100\n",
      "473500/473500 [==============================] - 401s - loss: 0.1691 - binary_accuracy: 0.9483 - categorical_accuracy: 0.9483   \n",
      "Epoch 17/100\n",
      "473500/473500 [==============================] - 401s - loss: 0.1692 - binary_accuracy: 0.9483 - categorical_accuracy: 0.9483   \n",
      "Epoch 18/100\n",
      "473500/473500 [==============================] - 401s - loss: 0.1687 - binary_accuracy: 0.9485 - categorical_accuracy: 0.9485   \n",
      "Epoch 19/100\n",
      "473500/473500 [==============================] - 401s - loss: 0.1693 - binary_accuracy: 0.9484 - categorical_accuracy: 0.9484   \n",
      "Epoch 20/100\n",
      "473500/473500 [==============================] - 401s - loss: 0.1687 - binary_accuracy: 0.9484 - categorical_accuracy: 0.9484   \n",
      "Epoch 21/100\n",
      "473500/473500 [==============================] - 400s - loss: 0.1685 - binary_accuracy: 0.9486 - categorical_accuracy: 0.9486   \n",
      "Epoch 22/100\n",
      "473500/473500 [==============================] - 401s - loss: 0.1687 - binary_accuracy: 0.9486 - categorical_accuracy: 0.9486   \n",
      "Epoch 23/100\n",
      "473500/473500 [==============================] - 401s - loss: 0.1695 - binary_accuracy: 0.9484 - categorical_accuracy: 0.9484   \n",
      "Epoch 24/100\n",
      "473500/473500 [==============================] - 401s - loss: 0.1699 - binary_accuracy: 0.9484 - categorical_accuracy: 0.9484   \n",
      "Epoch 25/100\n",
      "473500/473500 [==============================] - 401s - loss: 0.1720 - binary_accuracy: 0.9477 - categorical_accuracy: 0.9477   \n",
      "Epoch 26/100\n",
      "473500/473500 [==============================] - 401s - loss: 0.1724 - binary_accuracy: 0.9476 - categorical_accuracy: 0.9476   \n",
      "Epoch 27/100\n",
      "473500/473500 [==============================] - 401s - loss: 0.1728 - binary_accuracy: 0.9475 - categorical_accuracy: 0.9475   \n",
      "Epoch 28/100\n",
      "473500/473500 [==============================] - 401s - loss: 0.1846 - binary_accuracy: 0.9443 - categorical_accuracy: 0.9443   \n",
      "Epoch 29/100\n",
      "473500/473500 [==============================] - 401s - loss: 0.2120 - binary_accuracy: 0.9349 - categorical_accuracy: 0.9349   \n",
      "Epoch 30/100\n",
      "473500/473500 [==============================] - 401s - loss: 0.2210 - binary_accuracy: 0.9322 - categorical_accuracy: 0.9322   \n",
      "Epoch 31/100\n",
      "473500/473500 [==============================] - 401s - loss: 0.2183 - binary_accuracy: 0.9336 - categorical_accuracy: 0.9336   \n",
      "Epoch 32/100\n",
      "473500/473500 [==============================] - 401s - loss: 0.2190 - binary_accuracy: 0.9341 - categorical_accuracy: 0.9341   \n",
      "Epoch 33/100\n",
      "473500/473500 [==============================] - 401s - loss: 0.2135 - binary_accuracy: 0.9349 - categorical_accuracy: 0.9349   \n",
      "Epoch 34/100\n",
      "473500/473500 [==============================] - 400s - loss: 0.2118 - binary_accuracy: 0.9357 - categorical_accuracy: 0.9357   \n",
      "Epoch 35/100\n",
      "473500/473500 [==============================] - 401s - loss: 0.2240 - binary_accuracy: 0.9330 - categorical_accuracy: 0.9330   \n",
      "Epoch 36/100\n",
      "473500/473500 [==============================] - 400s - loss: 0.2258 - binary_accuracy: 0.9321 - categorical_accuracy: 0.9321   \n",
      "Epoch 37/100\n",
      "473500/473500 [==============================] - 402s - loss: 0.2218 - binary_accuracy: 0.9327 - categorical_accuracy: 0.9327   \n",
      "Epoch 38/100\n",
      "473500/473500 [==============================] - 402s - loss: 0.2176 - binary_accuracy: 0.9334 - categorical_accuracy: 0.9334   \n",
      "Epoch 39/100\n",
      "473500/473500 [==============================] - 401s - loss: 0.2191 - binary_accuracy: 0.9329 - categorical_accuracy: 0.9329   \n",
      "Epoch 40/100\n",
      "473500/473500 [==============================] - 401s - loss: 0.2209 - binary_accuracy: 0.9325 - categorical_accuracy: 0.9325   \n",
      "Epoch 41/100\n",
      "473500/473500 [==============================] - 401s - loss: 0.2233 - binary_accuracy: 0.9324 - categorical_accuracy: 0.9324   \n",
      "Epoch 42/100\n",
      "473500/473500 [==============================] - 401s - loss: 0.2213 - binary_accuracy: 0.9334 - categorical_accuracy: 0.9334   \n",
      "Epoch 43/100\n",
      "473500/473500 [==============================] - 401s - loss: 0.2185 - binary_accuracy: 0.9339 - categorical_accuracy: 0.9339   \n",
      "Epoch 44/100\n",
      "473500/473500 [==============================] - 401s - loss: 0.2187 - binary_accuracy: 0.9339 - categorical_accuracy: 0.9339   \n",
      "Epoch 45/100\n",
      "473500/473500 [==============================] - 401s - loss: 0.2203 - binary_accuracy: 0.9335 - categorical_accuracy: 0.9335   \n",
      "Epoch 46/100\n",
      "473500/473500 [==============================] - 401s - loss: 0.2170 - binary_accuracy: 0.9338 - categorical_accuracy: 0.9338   \n",
      "Epoch 47/100\n",
      "473500/473500 [==============================] - 401s - loss: 0.2207 - binary_accuracy: 0.9336 - categorical_accuracy: 0.9336   \n",
      "Epoch 48/100\n",
      "473500/473500 [==============================] - 400s - loss: 0.2200 - binary_accuracy: 0.9337 - categorical_accuracy: 0.9337   \n",
      "Epoch 49/100\n",
      "473500/473500 [==============================] - 400s - loss: 0.2208 - binary_accuracy: 0.9334 - categorical_accuracy: 0.9334   \n",
      "Epoch 50/100\n",
      "473500/473500 [==============================] - 401s - loss: 0.2229 - binary_accuracy: 0.9332 - categorical_accuracy: 0.9332   \n",
      "Epoch 51/100\n",
      "473500/473500 [==============================] - 400s - loss: 0.2237 - binary_accuracy: 0.9325 - categorical_accuracy: 0.9325   \n",
      "Epoch 52/100\n",
      "473500/473500 [==============================] - 400s - loss: 0.2254 - binary_accuracy: 0.9320 - categorical_accuracy: 0.9320   \n",
      "Epoch 53/100\n",
      "473500/473500 [==============================] - 401s - loss: 0.2222 - binary_accuracy: 0.9325 - categorical_accuracy: 0.9325   \n",
      "Epoch 54/100\n",
      "473500/473500 [==============================] - 401s - loss: 0.2212 - binary_accuracy: 0.9326 - categorical_accuracy: 0.9326   \n",
      "Epoch 55/100\n",
      "473500/473500 [==============================] - 401s - loss: 0.2225 - binary_accuracy: 0.9325 - categorical_accuracy: 0.9325   \n",
      "Epoch 56/100\n",
      "473500/473500 [==============================] - 402s - loss: 0.2213 - binary_accuracy: 0.9327 - categorical_accuracy: 0.9327   \n",
      "Epoch 57/100\n",
      "473500/473500 [==============================] - 401s - loss: 0.2236 - binary_accuracy: 0.9325 - categorical_accuracy: 0.9325   \n",
      "Epoch 58/100\n"
     ]
    },
    {
     "name": "stdout",
     "output_type": "stream",
     "text": [
      "473500/473500 [==============================] - 400s - loss: 0.2261 - binary_accuracy: 0.9317 - categorical_accuracy: 0.9317   \n",
      "Epoch 59/100\n",
      "473500/473500 [==============================] - 400s - loss: 0.2253 - binary_accuracy: 0.9317 - categorical_accuracy: 0.9317   \n",
      "Epoch 60/100\n",
      "473500/473500 [==============================] - 400s - loss: 0.2234 - binary_accuracy: 0.9323 - categorical_accuracy: 0.9323   \n",
      "Epoch 61/100\n",
      "473500/473500 [==============================] - 400s - loss: 0.2224 - binary_accuracy: 0.9330 - categorical_accuracy: 0.9330   \n",
      "Epoch 62/100\n",
      "473500/473500 [==============================] - 400s - loss: 0.2225 - binary_accuracy: 0.9326 - categorical_accuracy: 0.9326   \n",
      "Epoch 63/100\n",
      "473500/473500 [==============================] - 400s - loss: 0.2205 - binary_accuracy: 0.9331 - categorical_accuracy: 0.9331   \n",
      "Epoch 64/100\n",
      "473500/473500 [==============================] - 400s - loss: 0.2198 - binary_accuracy: 0.9333 - categorical_accuracy: 0.9333   \n",
      "Epoch 65/100\n",
      "473500/473500 [==============================] - 401s - loss: 0.2186 - binary_accuracy: 0.9337 - categorical_accuracy: 0.9337   \n",
      "Epoch 66/100\n",
      "473500/473500 [==============================] - 401s - loss: 0.2190 - binary_accuracy: 0.9334 - categorical_accuracy: 0.9334   \n",
      "Epoch 67/100\n",
      "473500/473500 [==============================] - 401s - loss: 0.2173 - binary_accuracy: 0.9340 - categorical_accuracy: 0.9340   \n",
      "Epoch 68/100\n",
      "473500/473500 [==============================] - 401s - loss: 0.2164 - binary_accuracy: 0.9341 - categorical_accuracy: 0.9341   \n",
      "Epoch 69/100\n",
      "473500/473500 [==============================] - 402s - loss: 0.2149 - binary_accuracy: 0.9345 - categorical_accuracy: 0.9345   \n",
      "Epoch 70/100\n",
      "473500/473500 [==============================] - 401s - loss: 0.2155 - binary_accuracy: 0.9345 - categorical_accuracy: 0.9345   \n",
      "Epoch 71/100\n",
      "473500/473500 [==============================] - 401s - loss: 0.2160 - binary_accuracy: 0.9344 - categorical_accuracy: 0.9344   \n",
      "Epoch 72/100\n",
      "473500/473500 [==============================] - 401s - loss: 0.2176 - binary_accuracy: 0.9343 - categorical_accuracy: 0.9343   \n",
      "Epoch 73/100\n",
      "473500/473500 [==============================] - 401s - loss: 0.2168 - binary_accuracy: 0.9343 - categorical_accuracy: 0.9343   \n",
      "Epoch 74/100\n",
      "473500/473500 [==============================] - 402s - loss: 0.2161 - binary_accuracy: 0.9343 - categorical_accuracy: 0.9343   \n",
      "Epoch 75/100\n",
      "473500/473500 [==============================] - 401s - loss: 0.2157 - binary_accuracy: 0.9344 - categorical_accuracy: 0.9344   \n",
      "Epoch 76/100\n",
      "473500/473500 [==============================] - 401s - loss: 0.2161 - binary_accuracy: 0.9343 - categorical_accuracy: 0.9343   \n",
      "Epoch 77/100\n",
      "473500/473500 [==============================] - 401s - loss: 0.2195 - binary_accuracy: 0.9340 - categorical_accuracy: 0.9340   \n",
      "Epoch 78/100\n",
      "473500/473500 [==============================] - 401s - loss: 0.2198 - binary_accuracy: 0.9338 - categorical_accuracy: 0.9338   \n",
      "Epoch 79/100\n",
      "473500/473500 [==============================] - 401s - loss: 0.2185 - binary_accuracy: 0.9338 - categorical_accuracy: 0.9338   \n",
      "Epoch 80/100\n",
      "473500/473500 [==============================] - 401s - loss: 0.2193 - binary_accuracy: 0.9334 - categorical_accuracy: 0.9334   \n",
      "Epoch 81/100\n",
      "473500/473500 [==============================] - 402s - loss: 0.2189 - binary_accuracy: 0.9336 - categorical_accuracy: 0.9336   \n",
      "Epoch 82/100\n",
      "473500/473500 [==============================] - 401s - loss: 0.2202 - binary_accuracy: 0.9333 - categorical_accuracy: 0.9333   \n",
      "Epoch 83/100\n",
      "473500/473500 [==============================] - 402s - loss: 0.2206 - binary_accuracy: 0.9331 - categorical_accuracy: 0.9331   \n",
      "Epoch 84/100\n",
      "473500/473500 [==============================] - 401s - loss: 0.2210 - binary_accuracy: 0.9330 - categorical_accuracy: 0.9330   \n",
      "Epoch 85/100\n",
      "473500/473500 [==============================] - 401s - loss: 0.2207 - binary_accuracy: 0.9332 - categorical_accuracy: 0.9332   \n",
      "Epoch 86/100\n",
      "473500/473500 [==============================] - 402s - loss: 0.2215 - binary_accuracy: 0.9327 - categorical_accuracy: 0.9327   \n",
      "Epoch 87/100\n",
      "473500/473500 [==============================] - 401s - loss: 0.2196 - binary_accuracy: 0.9329 - categorical_accuracy: 0.9329   \n",
      "Epoch 88/100\n",
      "473500/473500 [==============================] - 401s - loss: 0.2202 - binary_accuracy: 0.9327 - categorical_accuracy: 0.9327   \n",
      "Epoch 89/100\n",
      "473500/473500 [==============================] - 401s - loss: 0.2207 - binary_accuracy: 0.9325 - categorical_accuracy: 0.9325   \n",
      "Epoch 90/100\n",
      "473500/473500 [==============================] - 401s - loss: 0.2217 - binary_accuracy: 0.9323 - categorical_accuracy: 0.9323   \n",
      "Epoch 91/100\n",
      "473500/473500 [==============================] - 403s - loss: 0.2209 - binary_accuracy: 0.9328 - categorical_accuracy: 0.9328   \n",
      "Epoch 92/100\n",
      "473500/473500 [==============================] - 402s - loss: 0.2207 - binary_accuracy: 0.9328 - categorical_accuracy: 0.9328   \n",
      "Epoch 93/100\n",
      "473500/473500 [==============================] - 401s - loss: 0.2203 - binary_accuracy: 0.9330 - categorical_accuracy: 0.9330   \n",
      "Epoch 94/100\n",
      "473500/473500 [==============================] - 401s - loss: 0.2219 - binary_accuracy: 0.9324 - categorical_accuracy: 0.9324   \n",
      "Epoch 95/100\n",
      "473500/473500 [==============================] - 401s - loss: 0.2208 - binary_accuracy: 0.9330 - categorical_accuracy: 0.9330   \n",
      "Epoch 96/100\n",
      "473500/473500 [==============================] - 401s - loss: 0.2209 - binary_accuracy: 0.9327 - categorical_accuracy: 0.9327   \n",
      "Epoch 97/100\n",
      "473500/473500 [==============================] - 401s - loss: 0.2213 - binary_accuracy: 0.9331 - categorical_accuracy: 0.9331   \n",
      "Epoch 98/100\n",
      "473500/473500 [==============================] - 401s - loss: 0.2208 - binary_accuracy: 0.9330 - categorical_accuracy: 0.9330   \n",
      "Epoch 99/100\n",
      "473500/473500 [==============================] - 401s - loss: 0.2223 - binary_accuracy: 0.9327 - categorical_accuracy: 0.9327   \n",
      "Epoch 100/100\n",
      "473500/473500 [==============================] - 401s - loss: 0.2222 - binary_accuracy: 0.9327 - categorical_accuracy: 0.9327   \n"
     ]
    },
    {
     "data": {
      "text/plain": [
       "<keras.callbacks.History at 0x22204b58f98>"
      ]
     },
     "execution_count": 69,
     "metadata": {},
     "output_type": "execute_result"
    }
   ],
   "source": [
    "model_.fit(\n",
    "    x ={ 'actions': X_train_1, 'items' : X_train_2}, y= keras.utils.to_categorical(y_resampled_['target'], num_classes=2), \n",
    "    batch_size = 125, \n",
    "    epochs=100,\n",
    "    verbose= 1,\n",
    ")"
   ]
  },
  {
   "cell_type": "code",
   "execution_count": null,
   "metadata": {
    "collapsed": true
   },
   "outputs": [],
   "source": []
  },
  {
   "cell_type": "code",
   "execution_count": 70,
   "metadata": {},
   "outputs": [
    {
     "name": "stdout",
     "output_type": "stream",
     "text": [
      "61056/61295 [============================>.] - ETA: 0sWall time: 10.5 s\n"
     ]
    }
   ],
   "source": [
    "%%time\n",
    "y_pred = model_.predict(x ={'actions': X_test_1, 'items' : X_test_2}, verbose=1,batch_size=128)"
   ]
  },
  {
   "cell_type": "code",
   "execution_count": 71,
   "metadata": {
    "collapsed": true
   },
   "outputs": [],
   "source": [
    "from sklearn.metrics import confusion_matrix, accuracy_score, classification_report"
   ]
  },
  {
   "cell_type": "code",
   "execution_count": 72,
   "metadata": {},
   "outputs": [
    {
     "data": {
      "text/plain": [
       "array([[56844,  2344],\n",
       "       [  503,  1604]], dtype=int64)"
      ]
     },
     "execution_count": 72,
     "metadata": {},
     "output_type": "execute_result"
    }
   ],
   "source": [
    "confusion_matrix(y_test, y_pred.argmax(axis=-1))"
   ]
  },
  {
   "cell_type": "code",
   "execution_count": 73,
   "metadata": {},
   "outputs": [
    {
     "data": {
      "text/plain": [
       "0.95355249204665959"
      ]
     },
     "execution_count": 73,
     "metadata": {},
     "output_type": "execute_result"
    }
   ],
   "source": [
    "accuracy_score(y_test, y_pred.argmax(axis=-1))"
   ]
  },
  {
   "cell_type": "code",
   "execution_count": 74,
   "metadata": {},
   "outputs": [
    {
     "name": "stdout",
     "output_type": "stream",
     "text": [
      "             precision    recall  f1-score   support\n",
      "\n",
      "          0       0.99      0.96      0.98     59188\n",
      "          1       0.41      0.76      0.53      2107\n",
      "\n",
      "avg / total       0.97      0.95      0.96     61295\n",
      "\n"
     ]
    }
   ],
   "source": [
    "print(classification_report(y_test ,y_pred.argmax(axis=-1)))"
   ]
  },
  {
   "cell_type": "code",
   "execution_count": 75,
   "metadata": {
    "collapsed": true
   },
   "outputs": [],
   "source": [
    "model_.save('my_model_1.h5')"
   ]
  },
  {
   "cell_type": "code",
   "execution_count": 76,
   "metadata": {
    "collapsed": true
   },
   "outputs": [],
   "source": [
    "import seaborn as sn"
   ]
  },
  {
   "cell_type": "code",
   "execution_count": 77,
   "metadata": {},
   "outputs": [
    {
     "data": {
      "text/plain": [
       "<matplotlib.axes._subplots.AxesSubplot at 0x2221c734908>"
      ]
     },
     "execution_count": 77,
     "metadata": {},
     "output_type": "execute_result"
    },
    {
     "data": {
      "image/png": "[encoded data removed]",
      "text/plain": [
       "<matplotlib.figure.Figure at 0x2221c734748>"
      ]
     },
     "metadata": {},
     "output_type": "display_data"
    }
   ],
   "source": [
    "plt.figure(figsize = (10,7))\n",
    "sn.set(font_scale=1)\n",
    "sn.heatmap(confusion_matrix(y_test, y_pred.argmax(axis=-1)), annot=True,annot_kws={\"size\": 16} ,fmt=\"d\")"
   ]
  },
  {
   "cell_type": "code",
   "execution_count": 78,
   "metadata": {
    "collapsed": true
   },
   "outputs": [],
   "source": [
    "from sklearn.metrics import precision_recall_curve, roc_curve ,auc, roc_auc_score"
   ]
  },
  {
   "cell_type": "code",
   "execution_count": 79,
   "metadata": {},
   "outputs": [
    {
     "data": {
      "text/plain": [
       "[<matplotlib.lines.Line2D at 0x2221bea1a58>]"
      ]
     },
     "execution_count": 79,
     "metadata": {},
     "output_type": "execute_result"
    },
    {
     "data": {
      "image/png": "[encoded data removed]",
      "text/plain": [
       "<matplotlib.figure.Figure at 0x2221bd58d30>"
      ]
     },
     "metadata": {},
     "output_type": "display_data"
    }
   ],
   "source": [
    "pr, re, thres = precision_recall_curve(y_test, y_pred[:, 1] )\n",
    "plt.plot( re, pr )\n",
    "# построим precision - recall кривую"
   ]
  },
  {
   "cell_type": "code",
   "execution_count": 80,
   "metadata": {},
   "outputs": [
    {
     "data": {
      "text/plain": [
       "[<matplotlib.lines.Line2D at 0x2221bfaaf28>]"
      ]
     },
     "execution_count": 80,
     "metadata": {},
     "output_type": "execute_result"
    },
    {
     "data": {
      "image/png": "[encoded data removed]",
      "text/plain": [
       "<matplotlib.figure.Figure at 0x22204b7ce80>"
      ]
     },
     "metadata": {},
     "output_type": "display_data"
    }
   ],
   "source": [
    "fpr, tpr, thres = roc_curve(y_test, y_pred[:, 1] )\n",
    "plt.plot( fpr, tpr )\n",
    "# построим ROC-кривую (Receiver Operating Characteristic)"
   ]
  },
  {
   "cell_type": "code",
   "execution_count": null,
   "metadata": {
    "collapsed": true
   },
   "outputs": [],
   "source": []
  },
  {
   "cell_type": "code",
   "execution_count": null,
   "metadata": {
    "collapsed": true
   },
   "outputs": [],
   "source": []
  },
  {
   "cell_type": "code",
   "execution_count": 81,
   "metadata": {
    "collapsed": true
   },
   "outputs": [],
   "source": [
    "#Дообучим модель на тестовой выборке"
   ]
  },
  {
   "cell_type": "code",
   "execution_count": 82,
   "metadata": {
    "collapsed": true
   },
   "outputs": [],
   "source": [
    "X_test_r, y_test_r = ros.fit_sample(X_test[['ssid']], y_test)"
   ]
  },
  {
   "cell_type": "code",
   "execution_count": 83,
   "metadata": {
    "collapsed": true
   },
   "outputs": [],
   "source": [
    "y_test_r_ = pd.DataFrame()\n",
    "y_test_r_['target'] = y_test_r"
   ]
  },
  {
   "cell_type": "code",
   "execution_count": 84,
   "metadata": {
    "collapsed": true
   },
   "outputs": [],
   "source": [
    "X_test_r_ = pd.DataFrame()\n",
    "X_test_r_['ssid'] = X_test_r[:,0]"
   ]
  },
  {
   "cell_type": "code",
   "execution_count": 85,
   "metadata": {},
   "outputs": [
    {
     "data": {
      "text/plain": [
       "1    59188\n",
       "0    59188\n",
       "Name: target, dtype: int64"
      ]
     },
     "execution_count": 85,
     "metadata": {},
     "output_type": "execute_result"
    }
   ],
   "source": [
    "y_test_r_.target.value_counts()"
   ]
  },
  {
   "cell_type": "code",
   "execution_count": 86,
   "metadata": {
    "collapsed": true
   },
   "outputs": [],
   "source": [
    "temp_ = X_test_r_.merge(X_test, left_on='ssid', right_on='ssid', how='left')"
   ]
  },
  {
   "cell_type": "code",
   "execution_count": 87,
   "metadata": {
    "collapsed": true
   },
   "outputs": [],
   "source": [
    "X_test_1_ = sequence.pad_sequences(temp_['action_train'], maxlen=maxlen, value=(np.nan))\n",
    "X_test_2_ = sequence.pad_sequences(temp_['items__train'], maxlen=maxlen, value=(np.nan))"
   ]
  },
  {
   "cell_type": "code",
   "execution_count": null,
   "metadata": {
    "collapsed": true
   },
   "outputs": [],
   "source": []
  },
  {
   "cell_type": "code",
   "execution_count": null,
   "metadata": {
    "collapsed": true
   },
   "outputs": [],
   "source": []
  },
  {
   "cell_type": "code",
   "execution_count": 88,
   "metadata": {},
   "outputs": [
    {
     "name": "stdout",
     "output_type": "stream",
     "text": [
      "Epoch 1/100\n",
      "118376/118376 [==============================] - 108s - loss: 0.2859 - binary_accuracy: 0.9154 - categorical_accuracy: 0.9154   \n",
      "Epoch 2/100\n",
      "118376/118376 [==============================] - 108s - loss: 0.2779 - binary_accuracy: 0.9162 - categorical_accuracy: 0.9162   \n",
      "Epoch 3/100\n",
      "118376/118376 [==============================] - 108s - loss: 0.2783 - binary_accuracy: 0.9161 - categorical_accuracy: 0.9161   \n",
      "Epoch 4/100\n",
      "118376/118376 [==============================] - 108s - loss: 0.2777 - binary_accuracy: 0.9162 - categorical_accuracy: 0.9162   \n",
      "Epoch 5/100\n",
      "118376/118376 [==============================] - 108s - loss: 0.2777 - binary_accuracy: 0.9163 - categorical_accuracy: 0.9163   \n",
      "Epoch 6/100\n",
      "118376/118376 [==============================] - 108s - loss: 0.2776 - binary_accuracy: 0.9164 - categorical_accuracy: 0.9164   \n",
      "Epoch 7/100\n",
      "118376/118376 [==============================] - 108s - loss: 0.2761 - binary_accuracy: 0.9168 - categorical_accuracy: 0.9168   \n",
      "Epoch 8/100\n",
      "118376/118376 [==============================] - 108s - loss: 0.2783 - binary_accuracy: 0.9163 - categorical_accuracy: 0.9163   \n",
      "Epoch 9/100\n",
      "118376/118376 [==============================] - 108s - loss: 0.2785 - binary_accuracy: 0.9159 - categorical_accuracy: 0.9159   \n",
      "Epoch 10/100\n",
      "118376/118376 [==============================] - 108s - loss: 0.2785 - binary_accuracy: 0.9162 - categorical_accuracy: 0.9162   \n",
      "Epoch 11/100\n",
      "118376/118376 [==============================] - 108s - loss: 0.2782 - binary_accuracy: 0.9160 - categorical_accuracy: 0.9160   \n",
      "Epoch 12/100\n",
      "118376/118376 [==============================] - 108s - loss: 0.2778 - binary_accuracy: 0.9163 - categorical_accuracy: 0.9163   \n",
      "Epoch 13/100\n",
      "118376/118376 [==============================] - 109s - loss: 0.2772 - binary_accuracy: 0.9162 - categorical_accuracy: 0.9162   \n",
      "Epoch 14/100\n",
      "118376/118376 [==============================] - 108s - loss: 0.2783 - binary_accuracy: 0.9163 - categorical_accuracy: 0.9163   \n",
      "Epoch 15/100\n",
      "118376/118376 [==============================] - 108s - loss: 0.2788 - binary_accuracy: 0.9159 - categorical_accuracy: 0.9159   \n",
      "Epoch 16/100\n",
      "118376/118376 [==============================] - 108s - loss: 0.2786 - binary_accuracy: 0.9160 - categorical_accuracy: 0.9160   \n",
      "Epoch 17/100\n",
      "118376/118376 [==============================] - 108s - loss: 0.2779 - binary_accuracy: 0.9160 - categorical_accuracy: 0.9160   \n",
      "Epoch 18/100\n",
      "118376/118376 [==============================] - 108s - loss: 0.2785 - binary_accuracy: 0.9159 - categorical_accuracy: 0.9159   \n",
      "Epoch 19/100\n",
      "118376/118376 [==============================] - 108s - loss: 0.2775 - binary_accuracy: 0.9160 - categorical_accuracy: 0.9160   \n",
      "Epoch 20/100\n",
      "118376/118376 [==============================] - 109s - loss: 0.2790 - binary_accuracy: 0.9158 - categorical_accuracy: 0.9158   \n",
      "Epoch 21/100\n",
      "118376/118376 [==============================] - 108s - loss: 0.2791 - binary_accuracy: 0.9159 - categorical_accuracy: 0.9159   \n",
      "Epoch 22/100\n",
      "118376/118376 [==============================] - 108s - loss: 0.2807 - binary_accuracy: 0.9153 - categorical_accuracy: 0.9153   \n",
      "Epoch 23/100\n",
      "118376/118376 [==============================] - 108s - loss: 0.2789 - binary_accuracy: 0.9159 - categorical_accuracy: 0.9159   \n",
      "Epoch 24/100\n",
      "118376/118376 [==============================] - 109s - loss: 0.2789 - binary_accuracy: 0.9155 - categorical_accuracy: 0.9155   \n",
      "Epoch 25/100\n",
      "118376/118376 [==============================] - 108s - loss: 0.2796 - binary_accuracy: 0.9156 - categorical_accuracy: 0.9156   \n",
      "Epoch 26/100\n",
      "118376/118376 [==============================] - 108s - loss: 0.2798 - binary_accuracy: 0.9157 - categorical_accuracy: 0.9157   \n",
      "Epoch 27/100\n",
      "118376/118376 [==============================] - 108s - loss: 0.2789 - binary_accuracy: 0.9156 - categorical_accuracy: 0.9156   \n",
      "Epoch 28/100\n",
      "118376/118376 [==============================] - 108s - loss: 0.2792 - binary_accuracy: 0.9154 - categorical_accuracy: 0.9154   \n",
      "Epoch 29/100\n",
      "118376/118376 [==============================] - 108s - loss: 0.2802 - binary_accuracy: 0.9153 - categorical_accuracy: 0.9153   \n",
      "Epoch 30/100\n",
      "118376/118376 [==============================] - 108s - loss: 0.2797 - binary_accuracy: 0.9152 - categorical_accuracy: 0.9152   \n",
      "Epoch 31/100\n",
      "118376/118376 [==============================] - 109s - loss: 0.2792 - binary_accuracy: 0.9154 - categorical_accuracy: 0.9154   \n",
      "Epoch 32/100\n",
      "118376/118376 [==============================] - 108s - loss: 0.2806 - binary_accuracy: 0.9155 - categorical_accuracy: 0.9155   \n",
      "Epoch 33/100\n",
      "118376/118376 [==============================] - 108s - loss: 0.2810 - binary_accuracy: 0.9154 - categorical_accuracy: 0.9154   \n",
      "Epoch 34/100\n",
      "118376/118376 [==============================] - 109s - loss: 0.2803 - binary_accuracy: 0.9153 - categorical_accuracy: 0.9153   \n",
      "Epoch 35/100\n",
      "118376/118376 [==============================] - 109s - loss: 0.2786 - binary_accuracy: 0.9156 - categorical_accuracy: 0.9156   \n",
      "Epoch 36/100\n",
      "118376/118376 [==============================] - 109s - loss: 0.2773 - binary_accuracy: 0.9160 - categorical_accuracy: 0.9160   \n",
      "Epoch 37/100\n",
      "118376/118376 [==============================] - 109s - loss: 0.2777 - binary_accuracy: 0.9159 - categorical_accuracy: 0.9159   \n",
      "Epoch 38/100\n",
      "118376/118376 [==============================] - 108s - loss: 0.2762 - binary_accuracy: 0.9160 - categorical_accuracy: 0.9160   \n",
      "Epoch 39/100\n",
      "118376/118376 [==============================] - 108s - loss: 0.2751 - binary_accuracy: 0.9159 - categorical_accuracy: 0.9159   \n",
      "Epoch 40/100\n",
      "118376/118376 [==============================] - 109s - loss: 0.2753 - binary_accuracy: 0.9161 - categorical_accuracy: 0.9161   \n",
      "Epoch 41/100\n",
      "118376/118376 [==============================] - 109s - loss: 0.2740 - binary_accuracy: 0.9164 - categorical_accuracy: 0.9164   \n",
      "Epoch 42/100\n",
      "118376/118376 [==============================] - 108s - loss: 0.2741 - binary_accuracy: 0.9164 - categorical_accuracy: 0.9164   \n",
      "Epoch 43/100\n",
      "118376/118376 [==============================] - 108s - loss: 0.2724 - binary_accuracy: 0.9166 - categorical_accuracy: 0.9166   \n",
      "Epoch 44/100\n",
      "118376/118376 [==============================] - 109s - loss: 0.2730 - binary_accuracy: 0.9164 - categorical_accuracy: 0.9164   \n",
      "Epoch 45/100\n",
      "118376/118376 [==============================] - 109s - loss: 0.2721 - binary_accuracy: 0.9164 - categorical_accuracy: 0.9164   \n",
      "Epoch 46/100\n",
      "118376/118376 [==============================] - 109s - loss: 0.2714 - binary_accuracy: 0.9166 - categorical_accuracy: 0.9166   \n",
      "Epoch 47/100\n",
      "118376/118376 [==============================] - 108s - loss: 0.2725 - binary_accuracy: 0.9163 - categorical_accuracy: 0.9163   \n",
      "Epoch 48/100\n",
      "118376/118376 [==============================] - 108s - loss: 0.2706 - binary_accuracy: 0.9169 - categorical_accuracy: 0.9169   \n",
      "Epoch 49/100\n",
      "118376/118376 [==============================] - 108s - loss: 0.2694 - binary_accuracy: 0.9167 - categorical_accuracy: 0.9167   \n",
      "Epoch 50/100\n",
      "118376/118376 [==============================] - 108s - loss: 0.2703 - binary_accuracy: 0.9167 - categorical_accuracy: 0.9167   \n",
      "Epoch 51/100\n",
      "118376/118376 [==============================] - 108s - loss: 0.2684 - binary_accuracy: 0.9168 - categorical_accuracy: 0.9168   \n",
      "Epoch 52/100\n",
      "118376/118376 [==============================] - 108s - loss: 0.2689 - binary_accuracy: 0.9166 - categorical_accuracy: 0.9166   \n",
      "Epoch 53/100\n",
      "118376/118376 [==============================] - 108s - loss: 0.2680 - binary_accuracy: 0.9173 - categorical_accuracy: 0.9173   \n",
      "Epoch 54/100\n",
      "118376/118376 [==============================] - 108s - loss: 0.2677 - binary_accuracy: 0.9173 - categorical_accuracy: 0.9173   \n",
      "Epoch 55/100\n",
      "118376/118376 [==============================] - 108s - loss: 0.2670 - binary_accuracy: 0.9172 - categorical_accuracy: 0.9172   \n",
      "Epoch 56/100\n",
      "118376/118376 [==============================] - 108s - loss: 0.2675 - binary_accuracy: 0.9171 - categorical_accuracy: 0.9171   \n",
      "Epoch 57/100\n",
      "118376/118376 [==============================] - 108s - loss: 0.2677 - binary_accuracy: 0.9168 - categorical_accuracy: 0.9168   \n",
      "Epoch 58/100\n"
     ]
    },
    {
     "name": "stdout",
     "output_type": "stream",
     "text": [
      "118376/118376 [==============================] - 108s - loss: 0.2682 - binary_accuracy: 0.9169 - categorical_accuracy: 0.9169   \n",
      "Epoch 59/100\n",
      "118376/118376 [==============================] - 108s - loss: 0.2662 - binary_accuracy: 0.9176 - categorical_accuracy: 0.9176   \n",
      "Epoch 60/100\n",
      "118376/118376 [==============================] - 108s - loss: 0.2659 - binary_accuracy: 0.9174 - categorical_accuracy: 0.9174   \n",
      "Epoch 61/100\n",
      "118376/118376 [==============================] - 108s - loss: 0.2645 - binary_accuracy: 0.9182 - categorical_accuracy: 0.9182   \n",
      "Epoch 62/100\n",
      "118376/118376 [==============================] - 108s - loss: 0.2640 - binary_accuracy: 0.9180 - categorical_accuracy: 0.9180   \n",
      "Epoch 63/100\n",
      "118376/118376 [==============================] - 108s - loss: 0.2647 - binary_accuracy: 0.9177 - categorical_accuracy: 0.9177   \n",
      "Epoch 64/100\n",
      "118376/118376 [==============================] - 108s - loss: 0.2649 - binary_accuracy: 0.9178 - categorical_accuracy: 0.9178   \n",
      "Epoch 65/100\n",
      "118376/118376 [==============================] - 108s - loss: 0.2642 - binary_accuracy: 0.9179 - categorical_accuracy: 0.9179   \n",
      "Epoch 66/100\n",
      "118376/118376 [==============================] - 108s - loss: 0.2635 - binary_accuracy: 0.9183 - categorical_accuracy: 0.9183   \n",
      "Epoch 67/100\n",
      "118376/118376 [==============================] - 108s - loss: 0.2627 - binary_accuracy: 0.9186 - categorical_accuracy: 0.9186   \n",
      "Epoch 68/100\n",
      "118376/118376 [==============================] - 109s - loss: 0.2611 - binary_accuracy: 0.9191 - categorical_accuracy: 0.9191   \n",
      "Epoch 69/100\n",
      "118376/118376 [==============================] - 108s - loss: 0.2614 - binary_accuracy: 0.9190 - categorical_accuracy: 0.9190   \n",
      "Epoch 70/100\n",
      "118376/118376 [==============================] - 108s - loss: 0.2606 - binary_accuracy: 0.9191 - categorical_accuracy: 0.9191   \n",
      "Epoch 71/100\n",
      "118376/118376 [==============================] - 108s - loss: 0.2599 - binary_accuracy: 0.9195 - categorical_accuracy: 0.9195   \n",
      "Epoch 72/100\n",
      "118376/118376 [==============================] - 108s - loss: 0.2600 - binary_accuracy: 0.9197 - categorical_accuracy: 0.9197   \n",
      "Epoch 73/100\n",
      "118376/118376 [==============================] - 108s - loss: 0.2593 - binary_accuracy: 0.9199 - categorical_accuracy: 0.9199   \n",
      "Epoch 74/100\n",
      "118376/118376 [==============================] - 108s - loss: 0.2586 - binary_accuracy: 0.9204 - categorical_accuracy: 0.9204   \n",
      "Epoch 75/100\n",
      "118376/118376 [==============================] - 108s - loss: 0.2572 - binary_accuracy: 0.9208 - categorical_accuracy: 0.9208   \n",
      "Epoch 76/100\n",
      "118376/118376 [==============================] - 108s - loss: 0.2577 - binary_accuracy: 0.9207 - categorical_accuracy: 0.9207   \n",
      "Epoch 77/100\n",
      "118376/118376 [==============================] - 108s - loss: 0.2581 - binary_accuracy: 0.9206 - categorical_accuracy: 0.9206   \n",
      "Epoch 78/100\n",
      "118376/118376 [==============================] - 108s - loss: 0.2559 - binary_accuracy: 0.9209 - categorical_accuracy: 0.9209   \n",
      "Epoch 79/100\n",
      "118376/118376 [==============================] - 109s - loss: 0.2564 - binary_accuracy: 0.9210 - categorical_accuracy: 0.9210   \n",
      "Epoch 80/100\n",
      "118376/118376 [==============================] - 108s - loss: 0.2546 - binary_accuracy: 0.9219 - categorical_accuracy: 0.9219   \n",
      "Epoch 81/100\n",
      "118376/118376 [==============================] - 108s - loss: 0.2540 - binary_accuracy: 0.9217 - categorical_accuracy: 0.9217   \n",
      "Epoch 82/100\n",
      "118376/118376 [==============================] - 108s - loss: 0.2557 - binary_accuracy: 0.9215 - categorical_accuracy: 0.9215   \n",
      "Epoch 83/100\n",
      "118376/118376 [==============================] - 109s - loss: 0.2564 - binary_accuracy: 0.9210 - categorical_accuracy: 0.9210   \n",
      "Epoch 84/100\n",
      "118376/118376 [==============================] - 108s - loss: 0.2538 - binary_accuracy: 0.9217 - categorical_accuracy: 0.9217   \n",
      "Epoch 85/100\n",
      "118376/118376 [==============================] - 108s - loss: 0.2534 - binary_accuracy: 0.9221 - categorical_accuracy: 0.9221   \n",
      "Epoch 86/100\n",
      "118376/118376 [==============================] - 108s - loss: 0.2536 - binary_accuracy: 0.9220 - categorical_accuracy: 0.9220   \n",
      "Epoch 87/100\n",
      "118376/118376 [==============================] - 108s - loss: 0.2535 - binary_accuracy: 0.9222 - categorical_accuracy: 0.9222   \n",
      "Epoch 88/100\n",
      "118376/118376 [==============================] - 109s - loss: 0.2535 - binary_accuracy: 0.9218 - categorical_accuracy: 0.9218   \n",
      "Epoch 89/100\n",
      "118376/118376 [==============================] - 108s - loss: 0.2522 - binary_accuracy: 0.9225 - categorical_accuracy: 0.9225   \n",
      "Epoch 90/100\n",
      "118376/118376 [==============================] - 109s - loss: 0.2516 - binary_accuracy: 0.9230 - categorical_accuracy: 0.9230   \n",
      "Epoch 91/100\n",
      "118376/118376 [==============================] - 108s - loss: 0.2523 - binary_accuracy: 0.9225 - categorical_accuracy: 0.9225   \n",
      "Epoch 92/100\n",
      "118376/118376 [==============================] - 108s - loss: 0.2519 - binary_accuracy: 0.9225 - categorical_accuracy: 0.9225   \n",
      "Epoch 93/100\n",
      "118376/118376 [==============================] - 108s - loss: 0.2518 - binary_accuracy: 0.9227 - categorical_accuracy: 0.9227   \n",
      "Epoch 94/100\n",
      "118376/118376 [==============================] - 108s - loss: 0.2501 - binary_accuracy: 0.9231 - categorical_accuracy: 0.9231   \n",
      "Epoch 95/100\n",
      "118376/118376 [==============================] - 108s - loss: 0.2500 - binary_accuracy: 0.9228 - categorical_accuracy: 0.9228   \n",
      "Epoch 96/100\n",
      "118376/118376 [==============================] - 108s - loss: 0.2516 - binary_accuracy: 0.9230 - categorical_accuracy: 0.9230   \n",
      "Epoch 97/100\n",
      "118376/118376 [==============================] - 108s - loss: 0.2517 - binary_accuracy: 0.9223 - categorical_accuracy: 0.9223   \n",
      "Epoch 98/100\n",
      "118376/118376 [==============================] - 108s - loss: 0.2519 - binary_accuracy: 0.9223 - categorical_accuracy: 0.9223   \n",
      "Epoch 99/100\n",
      "118376/118376 [==============================] - 108s - loss: 0.2509 - binary_accuracy: 0.9230 - categorical_accuracy: 0.9230   \n",
      "Epoch 100/100\n",
      "118376/118376 [==============================] - 108s - loss: 0.2498 - binary_accuracy: 0.9236 - categorical_accuracy: 0.9236   \n"
     ]
    },
    {
     "data": {
      "text/plain": [
       "<keras.callbacks.History at 0x2221bef4128>"
      ]
     },
     "execution_count": 88,
     "metadata": {},
     "output_type": "execute_result"
    }
   ],
   "source": [
    "model_.fit(\n",
    "    x ={ 'actions': X_test_1_, 'items' : X_test_2_}, y= keras.utils.to_categorical(y_test_r_, num_classes=2), \n",
    "    batch_size = 115, \n",
    "    epochs=100,\n",
    "    verbose= 1,\n",
    ")"
   ]
  },
  {
   "cell_type": "code",
   "execution_count": 89,
   "metadata": {
    "collapsed": true
   },
   "outputs": [],
   "source": [
    "#сохраним модель для ее валидации на отложеной выборке"
   ]
  },
  {
   "cell_type": "code",
   "execution_count": 91,
   "metadata": {
    "collapsed": true
   },
   "outputs": [],
   "source": [
    "model_.save('my_model_2.h5')"
   ]
  },
  {
   "cell_type": "code",
   "execution_count": null,
   "metadata": {
    "collapsed": true
   },
   "outputs": [],
   "source": []
  },
  {
   "cell_type": "code",
   "execution_count": null,
   "metadata": {
    "collapsed": true
   },
   "outputs": [],
   "source": []
  }
 ],
 "metadata": {
  "kernelspec": {
   "display_name": "Python 3",
   "language": "python",
   "name": "python3"
  },
  "language_info": {
   "codemirror_mode": {
    "name": "ipython",
    "version": 3
   },
   "file_extension": ".py",
   "mimetype": "text/x-python",
   "name": "python",
   "nbconvert_exporter": "python",
   "pygments_lexer": "ipython3",
   "version": "3.6.2"
  }
 },
 "nbformat": 4,
 "nbformat_minor": 2
}
