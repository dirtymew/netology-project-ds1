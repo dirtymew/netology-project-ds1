{
 "cells": [
  {
   "cell_type": "markdown",
   "metadata": {},
   "source": [
    "### data set\n",
    "https://www.kaggle.com/retailrocket/ecommerce-dataset"
   ]
  },
  {
   "cell_type": "code",
   "execution_count": 3,
   "metadata": {},
   "outputs": [
    {
     "name": "stdout",
     "output_type": "stream",
     "text": [
      "Populating the interactive namespace from numpy and matplotlib\n"
     ]
    }
   ],
   "source": [
    "import numpy as np\n",
    "import pandas as pd\n",
    "import matplotlib.pyplot as plt\n",
    "import warnings\n",
    "warnings.simplefilter('ignore')\n",
    "\n",
    "%pylab inline"
   ]
  },
  {
   "cell_type": "markdown",
   "metadata": {
    "collapsed": true
   },
   "source": [
    "### load data"
   ]
  },
  {
   "cell_type": "code",
   "execution_count": 4,
   "metadata": {
    "collapsed": true
   },
   "outputs": [],
   "source": [
    "events = pd.DataFrame.from_csv('./data/test_events.csv')"
   ]
  },
  {
   "cell_type": "code",
   "execution_count": 5,
   "metadata": {
    "collapsed": true
   },
   "outputs": [],
   "source": [
    "events.reset_index(inplace=True)"
   ]
  },
  {
   "cell_type": "code",
   "execution_count": 6,
   "metadata": {
    "scrolled": false
   },
   "outputs": [
    {
     "data": {
      "text/html": [
       "<div>\n",
       "<style>\n",
       "    .dataframe thead tr:only-child th {\n",
       "        text-align: right;\n",
       "    }\n",
       "\n",
       "    .dataframe thead th {\n",
       "        text-align: left;\n",
       "    }\n",
       "\n",
       "    .dataframe tbody tr th {\n",
       "        vertical-align: top;\n",
       "    }\n",
       "</style>\n",
       "<table border=\"1\" class=\"dataframe\">\n",
       "  <thead>\n",
       "    <tr style=\"text-align: right;\">\n",
       "      <th></th>\n",
       "      <th>index</th>\n",
       "      <th>timestamp</th>\n",
       "      <th>visitorid</th>\n",
       "      <th>event</th>\n",
       "      <th>itemid</th>\n",
       "      <th>transactionid</th>\n",
       "    </tr>\n",
       "  </thead>\n",
       "  <tbody>\n",
       "    <tr>\n",
       "      <th>0</th>\n",
       "      <td>2204881</td>\n",
       "      <td>1439871817919</td>\n",
       "      <td>384670</td>\n",
       "      <td>view</td>\n",
       "      <td>419836</td>\n",
       "      <td>-1</td>\n",
       "    </tr>\n",
       "    <tr>\n",
       "      <th>1</th>\n",
       "      <td>2204882</td>\n",
       "      <td>1439871821714</td>\n",
       "      <td>1166298</td>\n",
       "      <td>view</td>\n",
       "      <td>375066</td>\n",
       "      <td>-1</td>\n",
       "    </tr>\n",
       "    <tr>\n",
       "      <th>2</th>\n",
       "      <td>2204883</td>\n",
       "      <td>1439871824135</td>\n",
       "      <td>531293</td>\n",
       "      <td>view</td>\n",
       "      <td>48030</td>\n",
       "      <td>-1</td>\n",
       "    </tr>\n",
       "    <tr>\n",
       "      <th>3</th>\n",
       "      <td>2204884</td>\n",
       "      <td>1439871826488</td>\n",
       "      <td>86098</td>\n",
       "      <td>view</td>\n",
       "      <td>231243</td>\n",
       "      <td>-1</td>\n",
       "    </tr>\n",
       "    <tr>\n",
       "      <th>4</th>\n",
       "      <td>2204885</td>\n",
       "      <td>1439871832105</td>\n",
       "      <td>290950</td>\n",
       "      <td>view</td>\n",
       "      <td>436832</td>\n",
       "      <td>-1</td>\n",
       "    </tr>\n",
       "  </tbody>\n",
       "</table>\n",
       "</div>"
      ],
      "text/plain": [
       "     index      timestamp  visitorid event  itemid  transactionid\n",
       "0  2204881  1439871817919     384670  view  419836             -1\n",
       "1  2204882  1439871821714    1166298  view  375066             -1\n",
       "2  2204883  1439871824135     531293  view   48030             -1\n",
       "3  2204884  1439871826488      86098  view  231243             -1\n",
       "4  2204885  1439871832105     290950  view  436832             -1"
      ]
     },
     "execution_count": 6,
     "metadata": {},
     "output_type": "execute_result"
    }
   ],
   "source": [
    "events.head()"
   ]
  },
  {
   "cell_type": "markdown",
   "metadata": {
    "collapsed": true
   },
   "source": [
    "### events explore"
   ]
  },
  {
   "cell_type": "code",
   "execution_count": 7,
   "metadata": {},
   "outputs": [
    {
     "data": {
      "text/plain": [
       "(551220, 6)"
      ]
     },
     "execution_count": 7,
     "metadata": {},
     "output_type": "execute_result"
    }
   ],
   "source": [
    "events.shape"
   ]
  },
  {
   "cell_type": "code",
   "execution_count": 8,
   "metadata": {},
   "outputs": [
    {
     "data": {
      "text/plain": [
       "308548"
      ]
     },
     "execution_count": 8,
     "metadata": {},
     "output_type": "execute_result"
    }
   ],
   "source": [
    "#количество уникальных пользователей\n",
    "events.visitorid.unique().size"
   ]
  },
  {
   "cell_type": "code",
   "execution_count": 9,
   "metadata": {},
   "outputs": [
    {
     "data": {
      "image/png": "[encoded data removed]",
      "text/plain": [
       "<matplotlib.figure.Figure at 0x27d410bccc0>"
      ]
     },
     "metadata": {},
     "output_type": "display_data"
    }
   ],
   "source": [
    "#количество типов событий\n",
    "plt.bar(np.arange(events.event.value_counts().shape[0]), events.event.value_counts().values)\n",
    "plt.xticks(np.arange(events.event.value_counts().shape[0]), events.event.value_counts().index)\n",
    "plt.show()"
   ]
  },
  {
   "cell_type": "code",
   "execution_count": 10,
   "metadata": {
    "scrolled": true
   },
   "outputs": [
    {
     "data": {
      "text/plain": [
       "view           532280\n",
       "addtocart       14347\n",
       "transaction      4593\n",
       "Name: event, dtype: int64"
      ]
     },
     "execution_count": 10,
     "metadata": {},
     "output_type": "execute_result"
    }
   ],
   "source": [
    "#количество типов событий\n",
    "events.event.value_counts()"
   ]
  },
  {
   "cell_type": "markdown",
   "metadata": {
    "collapsed": true
   },
   "source": [
    "### Анализ интервалов между событиями пользователя"
   ]
  },
  {
   "cell_type": "code",
   "execution_count": 11,
   "metadata": {
    "collapsed": true
   },
   "outputs": [],
   "source": [
    "##отсортируем по timestamp и visitorid"
   ]
  },
  {
   "cell_type": "code",
   "execution_count": 12,
   "metadata": {
    "collapsed": true
   },
   "outputs": [],
   "source": [
    "e = events.sort_values(['visitorid', 'timestamp'], ascending=[True, True])"
   ]
  },
  {
   "cell_type": "code",
   "execution_count": 13,
   "metadata": {
    "collapsed": true
   },
   "outputs": [],
   "source": [
    "e = e.reset_index(drop=True)"
   ]
  },
  {
   "cell_type": "code",
   "execution_count": 14,
   "metadata": {
    "collapsed": true
   },
   "outputs": [],
   "source": [
    "## вычислим интервал между событиями в минутах"
   ]
  },
  {
   "cell_type": "code",
   "execution_count": 15,
   "metadata": {
    "collapsed": true
   },
   "outputs": [],
   "source": [
    "e['delta'] = 0"
   ]
  },
  {
   "cell_type": "code",
   "execution_count": 16,
   "metadata": {},
   "outputs": [
    {
     "name": "stdout",
     "output_type": "stream",
     "text": [
      "Wall time: 57.6 s\n"
     ]
    }
   ],
   "source": [
    "%%time\n",
    "a = np.zeros(e.shape[0])\n",
    "user = 0\n",
    "delta =  np.nan\n",
    "for index, row in e.iterrows():\n",
    "    if user != row['visitorid']:\n",
    "        #delta = row['timestamp']\n",
    "        a[index] = np.nan\n",
    "    else:\n",
    "        a[index] = (row['timestamp'] - delta)/(1000*60)\n",
    "    delta = row['timestamp'] \n",
    "    user = row['visitorid']\n",
    "    #print(index)"
   ]
  },
  {
   "cell_type": "code",
   "execution_count": 17,
   "metadata": {
    "collapsed": true
   },
   "outputs": [],
   "source": [
    "e.delta = a"
   ]
  },
  {
   "cell_type": "code",
   "execution_count": 18,
   "metadata": {
    "scrolled": true
   },
   "outputs": [
    {
     "data": {
      "text/html": [
       "<div>\n",
       "<style>\n",
       "    .dataframe thead tr:only-child th {\n",
       "        text-align: right;\n",
       "    }\n",
       "\n",
       "    .dataframe thead th {\n",
       "        text-align: left;\n",
       "    }\n",
       "\n",
       "    .dataframe tbody tr th {\n",
       "        vertical-align: top;\n",
       "    }\n",
       "</style>\n",
       "<table border=\"1\" class=\"dataframe\">\n",
       "  <thead>\n",
       "    <tr style=\"text-align: right;\">\n",
       "      <th></th>\n",
       "      <th>index</th>\n",
       "      <th>timestamp</th>\n",
       "      <th>visitorid</th>\n",
       "      <th>event</th>\n",
       "      <th>itemid</th>\n",
       "      <th>transactionid</th>\n",
       "      <th>delta</th>\n",
       "    </tr>\n",
       "  </thead>\n",
       "  <tbody>\n",
       "    <tr>\n",
       "      <th>0</th>\n",
       "      <td>2655436</td>\n",
       "      <td>1442004589439</td>\n",
       "      <td>0</td>\n",
       "      <td>view</td>\n",
       "      <td>285930</td>\n",
       "      <td>-1</td>\n",
       "      <td>NaN</td>\n",
       "    </tr>\n",
       "    <tr>\n",
       "      <th>1</th>\n",
       "      <td>2655495</td>\n",
       "      <td>1442004759591</td>\n",
       "      <td>0</td>\n",
       "      <td>view</td>\n",
       "      <td>357564</td>\n",
       "      <td>-1</td>\n",
       "      <td>2.835867</td>\n",
       "    </tr>\n",
       "    <tr>\n",
       "      <th>2</th>\n",
       "      <td>2655555</td>\n",
       "      <td>1442004917175</td>\n",
       "      <td>0</td>\n",
       "      <td>view</td>\n",
       "      <td>67045</td>\n",
       "      <td>-1</td>\n",
       "      <td>2.626400</td>\n",
       "    </tr>\n",
       "    <tr>\n",
       "      <th>3</th>\n",
       "      <td>2731107</td>\n",
       "      <td>1442352267167</td>\n",
       "      <td>4</td>\n",
       "      <td>view</td>\n",
       "      <td>177677</td>\n",
       "      <td>-1</td>\n",
       "      <td>NaN</td>\n",
       "    </tr>\n",
       "    <tr>\n",
       "      <th>4</th>\n",
       "      <td>2422269</td>\n",
       "      <td>1440914628202</td>\n",
       "      <td>6</td>\n",
       "      <td>addtocart</td>\n",
       "      <td>65273</td>\n",
       "      <td>-1</td>\n",
       "      <td>NaN</td>\n",
       "    </tr>\n",
       "  </tbody>\n",
       "</table>\n",
       "</div>"
      ],
      "text/plain": [
       "     index      timestamp  visitorid      event  itemid  transactionid  \\\n",
       "0  2655436  1442004589439          0       view  285930             -1   \n",
       "1  2655495  1442004759591          0       view  357564             -1   \n",
       "2  2655555  1442004917175          0       view   67045             -1   \n",
       "3  2731107  1442352267167          4       view  177677             -1   \n",
       "4  2422269  1440914628202          6  addtocart   65273             -1   \n",
       "\n",
       "      delta  \n",
       "0       NaN  \n",
       "1  2.835867  \n",
       "2  2.626400  \n",
       "3       NaN  \n",
       "4       NaN  "
      ]
     },
     "execution_count": 18,
     "metadata": {},
     "output_type": "execute_result"
    }
   ],
   "source": [
    "e.head()"
   ]
  },
  {
   "cell_type": "code",
   "execution_count": 19,
   "metadata": {
    "collapsed": true
   },
   "outputs": [],
   "source": [
    "q = 31.55302083333333\n"
   ]
  },
  {
   "cell_type": "markdown",
   "metadata": {
    "collapsed": true
   },
   "source": [
    "### разделим на сессии"
   ]
  },
  {
   "cell_type": "code",
   "execution_count": 20,
   "metadata": {
    "collapsed": true
   },
   "outputs": [],
   "source": [
    "e['delta1'] = 0\n",
    "e['ssid'] = 0"
   ]
  },
  {
   "cell_type": "code",
   "execution_count": 21,
   "metadata": {
    "collapsed": true
   },
   "outputs": [],
   "source": [
    "e = e.reset_index(drop=True)"
   ]
  },
  {
   "cell_type": "code",
   "execution_count": 22,
   "metadata": {
    "scrolled": true
   },
   "outputs": [
    {
     "name": "stdout",
     "output_type": "stream",
     "text": [
      "Wall time: 49.4 s\n"
     ]
    }
   ],
   "source": [
    "%%time\n",
    "s = np.zeros(e.shape[0])\n",
    "ssid = e.ssid.iloc[0]\n",
    "d1 = np.zeros(e.shape[0])\n",
    "for index, row in e.iterrows():\n",
    "    if np.isnan(row['delta']):\n",
    "        ssid +=1\n",
    "        d1[index] = np.nan\n",
    "    elif row['delta'] > q:\n",
    "        d1[index] = np.nan\n",
    "        ssid +=1\n",
    "    else:\n",
    "        d1[index] = row['delta']\n",
    "    s[index] = ssid"
   ]
  },
  {
   "cell_type": "code",
   "execution_count": 23,
   "metadata": {
    "collapsed": true
   },
   "outputs": [],
   "source": [
    "e['ssid'] = s\n",
    "e['delta1'] = d1"
   ]
  },
  {
   "cell_type": "code",
   "execution_count": 24,
   "metadata": {},
   "outputs": [
    {
     "data": {
      "text/html": [
       "<div>\n",
       "<style>\n",
       "    .dataframe thead tr:only-child th {\n",
       "        text-align: right;\n",
       "    }\n",
       "\n",
       "    .dataframe thead th {\n",
       "        text-align: left;\n",
       "    }\n",
       "\n",
       "    .dataframe tbody tr th {\n",
       "        vertical-align: top;\n",
       "    }\n",
       "</style>\n",
       "<table border=\"1\" class=\"dataframe\">\n",
       "  <thead>\n",
       "    <tr style=\"text-align: right;\">\n",
       "      <th></th>\n",
       "      <th>index</th>\n",
       "      <th>timestamp</th>\n",
       "      <th>visitorid</th>\n",
       "      <th>event</th>\n",
       "      <th>itemid</th>\n",
       "      <th>transactionid</th>\n",
       "      <th>delta</th>\n",
       "      <th>delta1</th>\n",
       "      <th>ssid</th>\n",
       "    </tr>\n",
       "  </thead>\n",
       "  <tbody>\n",
       "    <tr>\n",
       "      <th>0</th>\n",
       "      <td>2655436</td>\n",
       "      <td>1442004589439</td>\n",
       "      <td>0</td>\n",
       "      <td>view</td>\n",
       "      <td>285930</td>\n",
       "      <td>-1</td>\n",
       "      <td>NaN</td>\n",
       "      <td>NaN</td>\n",
       "      <td>1.0</td>\n",
       "    </tr>\n",
       "    <tr>\n",
       "      <th>1</th>\n",
       "      <td>2655495</td>\n",
       "      <td>1442004759591</td>\n",
       "      <td>0</td>\n",
       "      <td>view</td>\n",
       "      <td>357564</td>\n",
       "      <td>-1</td>\n",
       "      <td>2.835867</td>\n",
       "      <td>2.835867</td>\n",
       "      <td>1.0</td>\n",
       "    </tr>\n",
       "    <tr>\n",
       "      <th>2</th>\n",
       "      <td>2655555</td>\n",
       "      <td>1442004917175</td>\n",
       "      <td>0</td>\n",
       "      <td>view</td>\n",
       "      <td>67045</td>\n",
       "      <td>-1</td>\n",
       "      <td>2.626400</td>\n",
       "      <td>2.626400</td>\n",
       "      <td>1.0</td>\n",
       "    </tr>\n",
       "    <tr>\n",
       "      <th>3</th>\n",
       "      <td>2731107</td>\n",
       "      <td>1442352267167</td>\n",
       "      <td>4</td>\n",
       "      <td>view</td>\n",
       "      <td>177677</td>\n",
       "      <td>-1</td>\n",
       "      <td>NaN</td>\n",
       "      <td>NaN</td>\n",
       "      <td>2.0</td>\n",
       "    </tr>\n",
       "    <tr>\n",
       "      <th>4</th>\n",
       "      <td>2422269</td>\n",
       "      <td>1440914628202</td>\n",
       "      <td>6</td>\n",
       "      <td>addtocart</td>\n",
       "      <td>65273</td>\n",
       "      <td>-1</td>\n",
       "      <td>NaN</td>\n",
       "      <td>NaN</td>\n",
       "      <td>3.0</td>\n",
       "    </tr>\n",
       "    <tr>\n",
       "      <th>5</th>\n",
       "      <td>2422579</td>\n",
       "      <td>1440916778318</td>\n",
       "      <td>6</td>\n",
       "      <td>view</td>\n",
       "      <td>253615</td>\n",
       "      <td>-1</td>\n",
       "      <td>35.835267</td>\n",
       "      <td>NaN</td>\n",
       "      <td>4.0</td>\n",
       "    </tr>\n",
       "    <tr>\n",
       "      <th>6</th>\n",
       "      <td>2422581</td>\n",
       "      <td>1440916823805</td>\n",
       "      <td>6</td>\n",
       "      <td>view</td>\n",
       "      <td>344723</td>\n",
       "      <td>-1</td>\n",
       "      <td>0.758117</td>\n",
       "      <td>0.758117</td>\n",
       "      <td>4.0</td>\n",
       "    </tr>\n",
       "    <tr>\n",
       "      <th>7</th>\n",
       "      <td>2422674</td>\n",
       "      <td>1440917649385</td>\n",
       "      <td>6</td>\n",
       "      <td>view</td>\n",
       "      <td>344723</td>\n",
       "      <td>-1</td>\n",
       "      <td>13.759667</td>\n",
       "      <td>13.759667</td>\n",
       "      <td>4.0</td>\n",
       "    </tr>\n",
       "    <tr>\n",
       "      <th>8</th>\n",
       "      <td>2422699</td>\n",
       "      <td>1440917793838</td>\n",
       "      <td>6</td>\n",
       "      <td>view</td>\n",
       "      <td>344723</td>\n",
       "      <td>-1</td>\n",
       "      <td>2.407550</td>\n",
       "      <td>2.407550</td>\n",
       "      <td>4.0</td>\n",
       "    </tr>\n",
       "    <tr>\n",
       "      <th>9</th>\n",
       "      <td>2437154</td>\n",
       "      <td>1440991285697</td>\n",
       "      <td>6</td>\n",
       "      <td>view</td>\n",
       "      <td>344723</td>\n",
       "      <td>-1</td>\n",
       "      <td>1224.864317</td>\n",
       "      <td>NaN</td>\n",
       "      <td>5.0</td>\n",
       "    </tr>\n",
       "  </tbody>\n",
       "</table>\n",
       "</div>"
      ],
      "text/plain": [
       "     index      timestamp  visitorid      event  itemid  transactionid  \\\n",
       "0  2655436  1442004589439          0       view  285930             -1   \n",
       "1  2655495  1442004759591          0       view  357564             -1   \n",
       "2  2655555  1442004917175          0       view   67045             -1   \n",
       "3  2731107  1442352267167          4       view  177677             -1   \n",
       "4  2422269  1440914628202          6  addtocart   65273             -1   \n",
       "5  2422579  1440916778318          6       view  253615             -1   \n",
       "6  2422581  1440916823805          6       view  344723             -1   \n",
       "7  2422674  1440917649385          6       view  344723             -1   \n",
       "8  2422699  1440917793838          6       view  344723             -1   \n",
       "9  2437154  1440991285697          6       view  344723             -1   \n",
       "\n",
       "         delta     delta1  ssid  \n",
       "0          NaN        NaN   1.0  \n",
       "1     2.835867   2.835867   1.0  \n",
       "2     2.626400   2.626400   1.0  \n",
       "3          NaN        NaN   2.0  \n",
       "4          NaN        NaN   3.0  \n",
       "5    35.835267        NaN   4.0  \n",
       "6     0.758117   0.758117   4.0  \n",
       "7    13.759667  13.759667   4.0  \n",
       "8     2.407550   2.407550   4.0  \n",
       "9  1224.864317        NaN   5.0  "
      ]
     },
     "execution_count": 24,
     "metadata": {},
     "output_type": "execute_result"
    }
   ],
   "source": [
    "e.head(10)"
   ]
  },
  {
   "cell_type": "code",
   "execution_count": null,
   "metadata": {
    "collapsed": true
   },
   "outputs": [],
   "source": []
  },
  {
   "cell_type": "code",
   "execution_count": 25,
   "metadata": {},
   "outputs": [
    {
     "data": {
      "text/plain": [
       "364780"
      ]
     },
     "execution_count": 25,
     "metadata": {},
     "output_type": "execute_result"
    }
   ],
   "source": [
    "#количество уникальных  сессий \n",
    "e.ssid.unique().size"
   ]
  },
  {
   "cell_type": "code",
   "execution_count": 26,
   "metadata": {},
   "outputs": [
    {
     "data": {
      "text/plain": [
       "308548"
      ]
     },
     "execution_count": 26,
     "metadata": {},
     "output_type": "execute_result"
    }
   ],
   "source": [
    "#количество уникальных пользователей\n",
    "e.visitorid.unique().size"
   ]
  },
  {
   "cell_type": "code",
   "execution_count": 27,
   "metadata": {},
   "outputs": [
    {
     "name": "stdout",
     "output_type": "stream",
     "text": [
      "3.43083481031 1.3134916666666667\n"
     ]
    }
   ],
   "source": [
    "#средне и медиана delta\n",
    "print(e.delta1.mean(), e.delta1.median())"
   ]
  },
  {
   "cell_type": "code",
   "execution_count": 28,
   "metadata": {
    "collapsed": true
   },
   "outputs": [],
   "source": [
    "##причешем датачет"
   ]
  },
  {
   "cell_type": "code",
   "execution_count": 29,
   "metadata": {
    "collapsed": true
   },
   "outputs": [],
   "source": [
    "e['event_type'] = e.event.copy()"
   ]
  },
  {
   "cell_type": "code",
   "execution_count": 30,
   "metadata": {
    "collapsed": true
   },
   "outputs": [],
   "source": [
    "e.event_type = e.event_type.replace({'view': 0, 'addtocart': 1, 'transaction': 2})"
   ]
  },
  {
   "cell_type": "code",
   "execution_count": 31,
   "metadata": {
    "collapsed": true
   },
   "outputs": [],
   "source": [
    "e['event_type'] = e['event_type'].astype(int)"
   ]
  },
  {
   "cell_type": "code",
   "execution_count": null,
   "metadata": {
    "collapsed": true
   },
   "outputs": [],
   "source": []
  },
  {
   "cell_type": "code",
   "execution_count": 32,
   "metadata": {
    "collapsed": true
   },
   "outputs": [],
   "source": [
    "e['ssid'] = e['ssid'].astype(int)"
   ]
  },
  {
   "cell_type": "code",
   "execution_count": 33,
   "metadata": {
    "scrolled": true
   },
   "outputs": [
    {
     "data": {
      "text/html": [
       "<div>\n",
       "<style>\n",
       "    .dataframe thead tr:only-child th {\n",
       "        text-align: right;\n",
       "    }\n",
       "\n",
       "    .dataframe thead th {\n",
       "        text-align: left;\n",
       "    }\n",
       "\n",
       "    .dataframe tbody tr th {\n",
       "        vertical-align: top;\n",
       "    }\n",
       "</style>\n",
       "<table border=\"1\" class=\"dataframe\">\n",
       "  <thead>\n",
       "    <tr style=\"text-align: right;\">\n",
       "      <th></th>\n",
       "      <th>index</th>\n",
       "      <th>timestamp</th>\n",
       "      <th>visitorid</th>\n",
       "      <th>event</th>\n",
       "      <th>itemid</th>\n",
       "      <th>transactionid</th>\n",
       "      <th>delta</th>\n",
       "      <th>delta1</th>\n",
       "      <th>ssid</th>\n",
       "      <th>event_type</th>\n",
       "    </tr>\n",
       "  </thead>\n",
       "  <tbody>\n",
       "    <tr>\n",
       "      <th>0</th>\n",
       "      <td>2655436</td>\n",
       "      <td>1442004589439</td>\n",
       "      <td>0</td>\n",
       "      <td>view</td>\n",
       "      <td>285930</td>\n",
       "      <td>-1</td>\n",
       "      <td>NaN</td>\n",
       "      <td>NaN</td>\n",
       "      <td>1</td>\n",
       "      <td>0</td>\n",
       "    </tr>\n",
       "    <tr>\n",
       "      <th>1</th>\n",
       "      <td>2655495</td>\n",
       "      <td>1442004759591</td>\n",
       "      <td>0</td>\n",
       "      <td>view</td>\n",
       "      <td>357564</td>\n",
       "      <td>-1</td>\n",
       "      <td>2.835867</td>\n",
       "      <td>2.835867</td>\n",
       "      <td>1</td>\n",
       "      <td>0</td>\n",
       "    </tr>\n",
       "    <tr>\n",
       "      <th>2</th>\n",
       "      <td>2655555</td>\n",
       "      <td>1442004917175</td>\n",
       "      <td>0</td>\n",
       "      <td>view</td>\n",
       "      <td>67045</td>\n",
       "      <td>-1</td>\n",
       "      <td>2.626400</td>\n",
       "      <td>2.626400</td>\n",
       "      <td>1</td>\n",
       "      <td>0</td>\n",
       "    </tr>\n",
       "    <tr>\n",
       "      <th>3</th>\n",
       "      <td>2731107</td>\n",
       "      <td>1442352267167</td>\n",
       "      <td>4</td>\n",
       "      <td>view</td>\n",
       "      <td>177677</td>\n",
       "      <td>-1</td>\n",
       "      <td>NaN</td>\n",
       "      <td>NaN</td>\n",
       "      <td>2</td>\n",
       "      <td>0</td>\n",
       "    </tr>\n",
       "    <tr>\n",
       "      <th>4</th>\n",
       "      <td>2422269</td>\n",
       "      <td>1440914628202</td>\n",
       "      <td>6</td>\n",
       "      <td>addtocart</td>\n",
       "      <td>65273</td>\n",
       "      <td>-1</td>\n",
       "      <td>NaN</td>\n",
       "      <td>NaN</td>\n",
       "      <td>3</td>\n",
       "      <td>1</td>\n",
       "    </tr>\n",
       "  </tbody>\n",
       "</table>\n",
       "</div>"
      ],
      "text/plain": [
       "     index      timestamp  visitorid      event  itemid  transactionid  \\\n",
       "0  2655436  1442004589439          0       view  285930             -1   \n",
       "1  2655495  1442004759591          0       view  357564             -1   \n",
       "2  2655555  1442004917175          0       view   67045             -1   \n",
       "3  2731107  1442352267167          4       view  177677             -1   \n",
       "4  2422269  1440914628202          6  addtocart   65273             -1   \n",
       "\n",
       "      delta    delta1  ssid  event_type  \n",
       "0       NaN       NaN     1           0  \n",
       "1  2.835867  2.835867     1           0  \n",
       "2  2.626400  2.626400     1           0  \n",
       "3       NaN       NaN     2           0  \n",
       "4       NaN       NaN     3           1  "
      ]
     },
     "execution_count": 33,
     "metadata": {},
     "output_type": "execute_result"
    }
   ],
   "source": [
    "e.head()"
   ]
  },
  {
   "cell_type": "code",
   "execution_count": null,
   "metadata": {
    "collapsed": true
   },
   "outputs": [],
   "source": []
  },
  {
   "cell_type": "code",
   "execution_count": 34,
   "metadata": {
    "collapsed": true
   },
   "outputs": [],
   "source": [
    "##причешем датачет"
   ]
  },
  {
   "cell_type": "code",
   "execution_count": 35,
   "metadata": {
    "collapsed": true
   },
   "outputs": [],
   "source": [
    "events = e.copy()"
   ]
  },
  {
   "cell_type": "code",
   "execution_count": 36,
   "metadata": {
    "collapsed": true
   },
   "outputs": [],
   "source": [
    "events['event_type'] = events.event.copy()"
   ]
  },
  {
   "cell_type": "code",
   "execution_count": 37,
   "metadata": {
    "collapsed": true
   },
   "outputs": [],
   "source": [
    "events.event_type =  events.event_type.replace({'view': 0, 'addtocart': 1, 'transaction': 2})"
   ]
  },
  {
   "cell_type": "code",
   "execution_count": 38,
   "metadata": {
    "collapsed": true
   },
   "outputs": [],
   "source": [
    "events['event_type'] = events['event_type'].astype(int)"
   ]
  },
  {
   "cell_type": "code",
   "execution_count": 39,
   "metadata": {
    "collapsed": true
   },
   "outputs": [],
   "source": [
    "events['ssid'] = events['ssid'].astype(int)\n"
   ]
  },
  {
   "cell_type": "code",
   "execution_count": 40,
   "metadata": {},
   "outputs": [
    {
     "data": {
      "text/html": [
       "<div>\n",
       "<style>\n",
       "    .dataframe thead tr:only-child th {\n",
       "        text-align: right;\n",
       "    }\n",
       "\n",
       "    .dataframe thead th {\n",
       "        text-align: left;\n",
       "    }\n",
       "\n",
       "    .dataframe tbody tr th {\n",
       "        vertical-align: top;\n",
       "    }\n",
       "</style>\n",
       "<table border=\"1\" class=\"dataframe\">\n",
       "  <thead>\n",
       "    <tr style=\"text-align: right;\">\n",
       "      <th></th>\n",
       "      <th>index</th>\n",
       "      <th>timestamp</th>\n",
       "      <th>visitorid</th>\n",
       "      <th>event</th>\n",
       "      <th>itemid</th>\n",
       "      <th>transactionid</th>\n",
       "      <th>delta</th>\n",
       "      <th>delta1</th>\n",
       "      <th>ssid</th>\n",
       "      <th>event_type</th>\n",
       "    </tr>\n",
       "  </thead>\n",
       "  <tbody>\n",
       "    <tr>\n",
       "      <th>0</th>\n",
       "      <td>2655436</td>\n",
       "      <td>1442004589439</td>\n",
       "      <td>0</td>\n",
       "      <td>view</td>\n",
       "      <td>285930</td>\n",
       "      <td>-1</td>\n",
       "      <td>NaN</td>\n",
       "      <td>NaN</td>\n",
       "      <td>1</td>\n",
       "      <td>0</td>\n",
       "    </tr>\n",
       "    <tr>\n",
       "      <th>1</th>\n",
       "      <td>2655495</td>\n",
       "      <td>1442004759591</td>\n",
       "      <td>0</td>\n",
       "      <td>view</td>\n",
       "      <td>357564</td>\n",
       "      <td>-1</td>\n",
       "      <td>2.835867</td>\n",
       "      <td>2.835867</td>\n",
       "      <td>1</td>\n",
       "      <td>0</td>\n",
       "    </tr>\n",
       "    <tr>\n",
       "      <th>2</th>\n",
       "      <td>2655555</td>\n",
       "      <td>1442004917175</td>\n",
       "      <td>0</td>\n",
       "      <td>view</td>\n",
       "      <td>67045</td>\n",
       "      <td>-1</td>\n",
       "      <td>2.626400</td>\n",
       "      <td>2.626400</td>\n",
       "      <td>1</td>\n",
       "      <td>0</td>\n",
       "    </tr>\n",
       "    <tr>\n",
       "      <th>3</th>\n",
       "      <td>2731107</td>\n",
       "      <td>1442352267167</td>\n",
       "      <td>4</td>\n",
       "      <td>view</td>\n",
       "      <td>177677</td>\n",
       "      <td>-1</td>\n",
       "      <td>NaN</td>\n",
       "      <td>NaN</td>\n",
       "      <td>2</td>\n",
       "      <td>0</td>\n",
       "    </tr>\n",
       "    <tr>\n",
       "      <th>4</th>\n",
       "      <td>2422269</td>\n",
       "      <td>1440914628202</td>\n",
       "      <td>6</td>\n",
       "      <td>addtocart</td>\n",
       "      <td>65273</td>\n",
       "      <td>-1</td>\n",
       "      <td>NaN</td>\n",
       "      <td>NaN</td>\n",
       "      <td>3</td>\n",
       "      <td>1</td>\n",
       "    </tr>\n",
       "  </tbody>\n",
       "</table>\n",
       "</div>"
      ],
      "text/plain": [
       "     index      timestamp  visitorid      event  itemid  transactionid  \\\n",
       "0  2655436  1442004589439          0       view  285930             -1   \n",
       "1  2655495  1442004759591          0       view  357564             -1   \n",
       "2  2655555  1442004917175          0       view   67045             -1   \n",
       "3  2731107  1442352267167          4       view  177677             -1   \n",
       "4  2422269  1440914628202          6  addtocart   65273             -1   \n",
       "\n",
       "      delta    delta1  ssid  event_type  \n",
       "0       NaN       NaN     1           0  \n",
       "1  2.835867  2.835867     1           0  \n",
       "2  2.626400  2.626400     1           0  \n",
       "3       NaN       NaN     2           0  \n",
       "4       NaN       NaN     3           1  "
      ]
     },
     "execution_count": 40,
     "metadata": {},
     "output_type": "execute_result"
    }
   ],
   "source": [
    "e.head()"
   ]
  },
  {
   "cell_type": "code",
   "execution_count": null,
   "metadata": {
    "collapsed": true
   },
   "outputs": [],
   "source": []
  },
  {
   "cell_type": "code",
   "execution_count": 41,
   "metadata": {
    "collapsed": true
   },
   "outputs": [],
   "source": [
    "events_trans = events.sort_values(['ssid', 'timestamp'], ascending=[True, True])"
   ]
  },
  {
   "cell_type": "code",
   "execution_count": 42,
   "metadata": {
    "collapsed": true
   },
   "outputs": [],
   "source": [
    "ssids = events_trans.ssid.unique()"
   ]
  },
  {
   "cell_type": "code",
   "execution_count": 43,
   "metadata": {},
   "outputs": [
    {
     "name": "stdout",
     "output_type": "stream",
     "text": [
      "Wall time: 8min 9s\n"
     ]
    }
   ],
   "source": [
    "%%time\n",
    "drop_list = []\n",
    "transaction_list = []\n",
    "for i in ssids:\n",
    "    event = events_trans.loc[events_trans.ssid == i]\n",
    "    for index, row in event.iterrows():\n",
    "        if row['event_type'] == 2:\n",
    "            drop_list.extend(list(event.loc[event.index > index].index))\n",
    "            transaction_list.append(i)\n",
    "            break"
   ]
  },
  {
   "cell_type": "code",
   "execution_count": 44,
   "metadata": {},
   "outputs": [
    {
     "data": {
      "text/plain": [
       "2952"
      ]
     },
     "execution_count": 44,
     "metadata": {},
     "output_type": "execute_result"
    }
   ],
   "source": [
    "len(transaction_list) "
   ]
  },
  {
   "cell_type": "code",
   "execution_count": 45,
   "metadata": {},
   "outputs": [
    {
     "data": {
      "text/plain": [
       "9142"
      ]
     },
     "execution_count": 45,
     "metadata": {},
     "output_type": "execute_result"
    }
   ],
   "source": [
    "len(drop_list)"
   ]
  },
  {
   "cell_type": "code",
   "execution_count": 46,
   "metadata": {
    "collapsed": true
   },
   "outputs": [],
   "source": [
    "e_ = events.loc[events.index.isin(drop_list)]"
   ]
  },
  {
   "cell_type": "code",
   "execution_count": 47,
   "metadata": {
    "scrolled": true
   },
   "outputs": [
    {
     "data": {
      "text/plain": [
       "(9142, 10)"
      ]
     },
     "execution_count": 47,
     "metadata": {},
     "output_type": "execute_result"
    }
   ],
   "source": [
    "e_.shape"
   ]
  },
  {
   "cell_type": "code",
   "execution_count": 48,
   "metadata": {},
   "outputs": [
    {
     "data": {
      "text/plain": [
       "542078"
      ]
     },
     "execution_count": 48,
     "metadata": {},
     "output_type": "execute_result"
    }
   ],
   "source": [
    "events.shape[0] - e_.shape[0]"
   ]
  },
  {
   "cell_type": "code",
   "execution_count": 49,
   "metadata": {
    "collapsed": true
   },
   "outputs": [],
   "source": [
    "events = events.drop(e_.index,axis=0)"
   ]
  },
  {
   "cell_type": "code",
   "execution_count": 50,
   "metadata": {},
   "outputs": [
    {
     "data": {
      "text/plain": [
       "542078"
      ]
     },
     "execution_count": 50,
     "metadata": {},
     "output_type": "execute_result"
    }
   ],
   "source": [
    "events.shape[0]"
   ]
  },
  {
   "cell_type": "code",
   "execution_count": 51,
   "metadata": {
    "collapsed": true
   },
   "outputs": [],
   "source": [
    "events.reset_index(inplace=True)"
   ]
  },
  {
   "cell_type": "code",
   "execution_count": 52,
   "metadata": {
    "collapsed": true
   },
   "outputs": [],
   "source": [
    "events = events.drop('level_0',axis=1)"
   ]
  },
  {
   "cell_type": "code",
   "execution_count": null,
   "metadata": {
    "collapsed": true
   },
   "outputs": [],
   "source": []
  },
  {
   "cell_type": "code",
   "execution_count": 53,
   "metadata": {
    "collapsed": true
   },
   "outputs": [],
   "source": [
    "events_trans = events.loc[events.ssid.isin(transaction_list)]"
   ]
  },
  {
   "cell_type": "code",
   "execution_count": 54,
   "metadata": {},
   "outputs": [
    {
     "data": {
      "text/plain": [
       "(15193, 10)"
      ]
     },
     "execution_count": 54,
     "metadata": {},
     "output_type": "execute_result"
    }
   ],
   "source": [
    "events_trans.shape"
   ]
  },
  {
   "cell_type": "code",
   "execution_count": 55,
   "metadata": {
    "collapsed": true
   },
   "outputs": [],
   "source": [
    "events['session_transation_type'] = 0"
   ]
  },
  {
   "cell_type": "code",
   "execution_count": 56,
   "metadata": {
    "collapsed": true
   },
   "outputs": [],
   "source": [
    "events['session_transation_type'].loc[events.ssid.isin(transaction_list)] = 1"
   ]
  },
  {
   "cell_type": "code",
   "execution_count": 57,
   "metadata": {
    "scrolled": true
   },
   "outputs": [
    {
     "data": {
      "text/plain": [
       "0    526885\n",
       "1     15193\n",
       "Name: session_transation_type, dtype: int64"
      ]
     },
     "execution_count": 57,
     "metadata": {},
     "output_type": "execute_result"
    }
   ],
   "source": [
    "events['session_transation_type'].value_counts()"
   ]
  },
  {
   "cell_type": "code",
   "execution_count": 58,
   "metadata": {},
   "outputs": [
    {
     "data": {
      "text/plain": [
       "(542078, 11)"
      ]
     },
     "execution_count": 58,
     "metadata": {},
     "output_type": "execute_result"
    }
   ],
   "source": [
    "events.shape"
   ]
  },
  {
   "cell_type": "code",
   "execution_count": 59,
   "metadata": {},
   "outputs": [
    {
     "data": {
      "text/html": [
       "<div>\n",
       "<style>\n",
       "    .dataframe thead tr:only-child th {\n",
       "        text-align: right;\n",
       "    }\n",
       "\n",
       "    .dataframe thead th {\n",
       "        text-align: left;\n",
       "    }\n",
       "\n",
       "    .dataframe tbody tr th {\n",
       "        vertical-align: top;\n",
       "    }\n",
       "</style>\n",
       "<table border=\"1\" class=\"dataframe\">\n",
       "  <thead>\n",
       "    <tr style=\"text-align: right;\">\n",
       "      <th></th>\n",
       "      <th>index</th>\n",
       "      <th>timestamp</th>\n",
       "      <th>visitorid</th>\n",
       "      <th>event</th>\n",
       "      <th>itemid</th>\n",
       "      <th>transactionid</th>\n",
       "      <th>delta</th>\n",
       "      <th>delta1</th>\n",
       "      <th>ssid</th>\n",
       "      <th>event_type</th>\n",
       "      <th>session_transation_type</th>\n",
       "    </tr>\n",
       "  </thead>\n",
       "  <tbody>\n",
       "    <tr>\n",
       "      <th>0</th>\n",
       "      <td>2655436</td>\n",
       "      <td>1442004589439</td>\n",
       "      <td>0</td>\n",
       "      <td>view</td>\n",
       "      <td>285930</td>\n",
       "      <td>-1</td>\n",
       "      <td>NaN</td>\n",
       "      <td>NaN</td>\n",
       "      <td>1</td>\n",
       "      <td>0</td>\n",
       "      <td>0</td>\n",
       "    </tr>\n",
       "    <tr>\n",
       "      <th>1</th>\n",
       "      <td>2655495</td>\n",
       "      <td>1442004759591</td>\n",
       "      <td>0</td>\n",
       "      <td>view</td>\n",
       "      <td>357564</td>\n",
       "      <td>-1</td>\n",
       "      <td>2.835867</td>\n",
       "      <td>2.835867</td>\n",
       "      <td>1</td>\n",
       "      <td>0</td>\n",
       "      <td>0</td>\n",
       "    </tr>\n",
       "    <tr>\n",
       "      <th>2</th>\n",
       "      <td>2655555</td>\n",
       "      <td>1442004917175</td>\n",
       "      <td>0</td>\n",
       "      <td>view</td>\n",
       "      <td>67045</td>\n",
       "      <td>-1</td>\n",
       "      <td>2.626400</td>\n",
       "      <td>2.626400</td>\n",
       "      <td>1</td>\n",
       "      <td>0</td>\n",
       "      <td>0</td>\n",
       "    </tr>\n",
       "    <tr>\n",
       "      <th>3</th>\n",
       "      <td>2731107</td>\n",
       "      <td>1442352267167</td>\n",
       "      <td>4</td>\n",
       "      <td>view</td>\n",
       "      <td>177677</td>\n",
       "      <td>-1</td>\n",
       "      <td>NaN</td>\n",
       "      <td>NaN</td>\n",
       "      <td>2</td>\n",
       "      <td>0</td>\n",
       "      <td>0</td>\n",
       "    </tr>\n",
       "    <tr>\n",
       "      <th>4</th>\n",
       "      <td>2422269</td>\n",
       "      <td>1440914628202</td>\n",
       "      <td>6</td>\n",
       "      <td>addtocart</td>\n",
       "      <td>65273</td>\n",
       "      <td>-1</td>\n",
       "      <td>NaN</td>\n",
       "      <td>NaN</td>\n",
       "      <td>3</td>\n",
       "      <td>1</td>\n",
       "      <td>0</td>\n",
       "    </tr>\n",
       "  </tbody>\n",
       "</table>\n",
       "</div>"
      ],
      "text/plain": [
       "     index      timestamp  visitorid      event  itemid  transactionid  \\\n",
       "0  2655436  1442004589439          0       view  285930             -1   \n",
       "1  2655495  1442004759591          0       view  357564             -1   \n",
       "2  2655555  1442004917175          0       view   67045             -1   \n",
       "3  2731107  1442352267167          4       view  177677             -1   \n",
       "4  2422269  1440914628202          6  addtocart   65273             -1   \n",
       "\n",
       "      delta    delta1  ssid  event_type  session_transation_type  \n",
       "0       NaN       NaN     1           0                        0  \n",
       "1  2.835867  2.835867     1           0                        0  \n",
       "2  2.626400  2.626400     1           0                        0  \n",
       "3       NaN       NaN     2           0                        0  \n",
       "4       NaN       NaN     3           1                        0  "
      ]
     },
     "execution_count": 59,
     "metadata": {},
     "output_type": "execute_result"
    }
   ],
   "source": [
    "events.head()"
   ]
  },
  {
   "cell_type": "code",
   "execution_count": 60,
   "metadata": {
    "collapsed": true
   },
   "outputs": [],
   "source": [
    "events = events.sort_values(['ssid', 'timestamp'], ascending=[True, True])"
   ]
  },
  {
   "cell_type": "code",
   "execution_count": null,
   "metadata": {
    "collapsed": true
   },
   "outputs": [],
   "source": []
  },
  {
   "cell_type": "code",
   "execution_count": 61,
   "metadata": {
    "collapsed": true
   },
   "outputs": [],
   "source": [
    "#save data\n",
    "events.to_csv('./data/train_events_4.csv')"
   ]
  },
  {
   "cell_type": "code",
   "execution_count": 62,
   "metadata": {},
   "outputs": [],
   "source": [
    "events = pd.DataFrame.from_csv('./data/train_events_4.csv')"
   ]
  },
  {
   "cell_type": "code",
   "execution_count": null,
   "metadata": {
    "collapsed": true
   },
   "outputs": [],
   "source": []
  },
  {
   "cell_type": "code",
   "execution_count": 63,
   "metadata": {},
   "outputs": [
    {
     "name": "stdout",
     "output_type": "stream",
     "text": [
      "Wall time: 6 ms\n"
     ]
    }
   ],
   "source": [
    "%%time\n",
    "sessions_ =  events[['ssid',\n",
    "                     'event_type',\n",
    "                     'itemid',\n",
    "                     ]].groupby('ssid')"
   ]
  },
  {
   "cell_type": "code",
   "execution_count": 64,
   "metadata": {
    "collapsed": true
   },
   "outputs": [],
   "source": [
    "seq = pd.DataFrame()"
   ]
  },
  {
   "cell_type": "code",
   "execution_count": 65,
   "metadata": {},
   "outputs": [
    {
     "name": "stdout",
     "output_type": "stream",
     "text": [
      "Wall time: 45.6 s\n"
     ]
    }
   ],
   "source": [
    "%%time\n",
    "seq['actions'] = sessions_['event_type'].apply(list)\n",
    "seq['items'] = sessions_['itemid'].apply(list)"
   ]
  },
  {
   "cell_type": "code",
   "execution_count": 66,
   "metadata": {
    "collapsed": true
   },
   "outputs": [],
   "source": [
    "seq.reset_index(inplace=True)"
   ]
  },
  {
   "cell_type": "code",
   "execution_count": 67,
   "metadata": {},
   "outputs": [
    {
     "data": {
      "text/html": [
       "<div>\n",
       "<style>\n",
       "    .dataframe thead tr:only-child th {\n",
       "        text-align: right;\n",
       "    }\n",
       "\n",
       "    .dataframe thead th {\n",
       "        text-align: left;\n",
       "    }\n",
       "\n",
       "    .dataframe tbody tr th {\n",
       "        vertical-align: top;\n",
       "    }\n",
       "</style>\n",
       "<table border=\"1\" class=\"dataframe\">\n",
       "  <thead>\n",
       "    <tr style=\"text-align: right;\">\n",
       "      <th></th>\n",
       "      <th>ssid</th>\n",
       "      <th>actions</th>\n",
       "      <th>items</th>\n",
       "    </tr>\n",
       "  </thead>\n",
       "  <tbody>\n",
       "    <tr>\n",
       "      <th>0</th>\n",
       "      <td>1</td>\n",
       "      <td>[0, 0, 0]</td>\n",
       "      <td>[285930, 357564, 67045]</td>\n",
       "    </tr>\n",
       "    <tr>\n",
       "      <th>1</th>\n",
       "      <td>2</td>\n",
       "      <td>[0]</td>\n",
       "      <td>[177677]</td>\n",
       "    </tr>\n",
       "    <tr>\n",
       "      <th>2</th>\n",
       "      <td>3</td>\n",
       "      <td>[1]</td>\n",
       "      <td>[65273]</td>\n",
       "    </tr>\n",
       "    <tr>\n",
       "      <th>3</th>\n",
       "      <td>4</td>\n",
       "      <td>[0, 0, 0, 0]</td>\n",
       "      <td>[253615, 344723, 344723, 344723]</td>\n",
       "    </tr>\n",
       "    <tr>\n",
       "      <th>4</th>\n",
       "      <td>5</td>\n",
       "      <td>[0]</td>\n",
       "      <td>[344723]</td>\n",
       "    </tr>\n",
       "  </tbody>\n",
       "</table>\n",
       "</div>"
      ],
      "text/plain": [
       "   ssid       actions                             items\n",
       "0     1     [0, 0, 0]           [285930, 357564, 67045]\n",
       "1     2           [0]                          [177677]\n",
       "2     3           [1]                           [65273]\n",
       "3     4  [0, 0, 0, 0]  [253615, 344723, 344723, 344723]\n",
       "4     5           [0]                          [344723]"
      ]
     },
     "execution_count": 67,
     "metadata": {},
     "output_type": "execute_result"
    }
   ],
   "source": [
    "seq.head()"
   ]
  },
  {
   "cell_type": "code",
   "execution_count": 68,
   "metadata": {
    "collapsed": true
   },
   "outputs": [],
   "source": [
    "def last_i(list):\n",
    "    return list[-1]\n",
    "\n",
    "def train_seq(list):\n",
    "    if len(list) > 60:\n",
    "        return list[-60:]\n",
    "    return list[:-1]"
   ]
  },
  {
   "cell_type": "code",
   "execution_count": 69,
   "metadata": {},
   "outputs": [
    {
     "data": {
      "text/plain": [
       "(364780, 3)"
      ]
     },
     "execution_count": 69,
     "metadata": {},
     "output_type": "execute_result"
    }
   ],
   "source": [
    "seq.shape"
   ]
  },
  {
   "cell_type": "code",
   "execution_count": 70,
   "metadata": {},
   "outputs": [
    {
     "name": "stdout",
     "output_type": "stream",
     "text": [
      "Wall time: 1.07 s\n"
     ]
    }
   ],
   "source": [
    "%%time\n",
    "seq['action_last'] = seq.actions.apply(last_i)\n",
    "seq['items__last'] = seq['items'].apply(last_i)\n",
    "seq['action_train'] = seq.actions.apply(train_seq)\n",
    "seq['items__train'] = seq['items'].apply(train_seq)"
   ]
  },
  {
   "cell_type": "code",
   "execution_count": 71,
   "metadata": {
    "collapsed": true
   },
   "outputs": [],
   "source": [
    "seq['len'] = seq.actions.apply(len)"
   ]
  },
  {
   "cell_type": "code",
   "execution_count": 72,
   "metadata": {},
   "outputs": [
    {
     "data": {
      "text/plain": [
       "(364780, 8)"
      ]
     },
     "execution_count": 72,
     "metadata": {},
     "output_type": "execute_result"
    }
   ],
   "source": [
    "seq.shape"
   ]
  },
  {
   "cell_type": "code",
   "execution_count": 73,
   "metadata": {
    "collapsed": true
   },
   "outputs": [],
   "source": [
    "seq_ = seq.loc[seq.len > 1]"
   ]
  },
  {
   "cell_type": "code",
   "execution_count": 74,
   "metadata": {},
   "outputs": [
    {
     "data": {
      "text/plain": [
       "(76224, 8)"
      ]
     },
     "execution_count": 74,
     "metadata": {},
     "output_type": "execute_result"
    }
   ],
   "source": [
    "seq_.shape"
   ]
  },
  {
   "cell_type": "code",
   "execution_count": 75,
   "metadata": {},
   "outputs": [
    {
     "data": {
      "text/html": [
       "<div>\n",
       "<style>\n",
       "    .dataframe thead tr:only-child th {\n",
       "        text-align: right;\n",
       "    }\n",
       "\n",
       "    .dataframe thead th {\n",
       "        text-align: left;\n",
       "    }\n",
       "\n",
       "    .dataframe tbody tr th {\n",
       "        vertical-align: top;\n",
       "    }\n",
       "</style>\n",
       "<table border=\"1\" class=\"dataframe\">\n",
       "  <thead>\n",
       "    <tr style=\"text-align: right;\">\n",
       "      <th></th>\n",
       "      <th>ssid</th>\n",
       "      <th>actions</th>\n",
       "      <th>items</th>\n",
       "      <th>action_last</th>\n",
       "      <th>items__last</th>\n",
       "      <th>action_train</th>\n",
       "      <th>items__train</th>\n",
       "      <th>len</th>\n",
       "    </tr>\n",
       "  </thead>\n",
       "  <tbody>\n",
       "    <tr>\n",
       "      <th>0</th>\n",
       "      <td>1</td>\n",
       "      <td>[0, 0, 0]</td>\n",
       "      <td>[285930, 357564, 67045]</td>\n",
       "      <td>0</td>\n",
       "      <td>67045</td>\n",
       "      <td>[0, 0]</td>\n",
       "      <td>[285930, 357564]</td>\n",
       "      <td>3</td>\n",
       "    </tr>\n",
       "    <tr>\n",
       "      <th>3</th>\n",
       "      <td>4</td>\n",
       "      <td>[0, 0, 0, 0]</td>\n",
       "      <td>[253615, 344723, 344723, 344723]</td>\n",
       "      <td>0</td>\n",
       "      <td>344723</td>\n",
       "      <td>[0, 0, 0]</td>\n",
       "      <td>[253615, 344723, 344723]</td>\n",
       "      <td>4</td>\n",
       "    </tr>\n",
       "    <tr>\n",
       "      <th>16</th>\n",
       "      <td>17</td>\n",
       "      <td>[0, 0, 0, 0, 0, 0]</td>\n",
       "      <td>[358388, 198762, 429304, 198762, 49967, 279059]</td>\n",
       "      <td>0</td>\n",
       "      <td>279059</td>\n",
       "      <td>[0, 0, 0, 0, 0]</td>\n",
       "      <td>[358388, 198762, 429304, 198762, 49967]</td>\n",
       "      <td>6</td>\n",
       "    </tr>\n",
       "    <tr>\n",
       "      <th>17</th>\n",
       "      <td>18</td>\n",
       "      <td>[0, 0, 0, 0, 0, 0]</td>\n",
       "      <td>[388096, 283115, 38965, 319680, 283115, 388096]</td>\n",
       "      <td>0</td>\n",
       "      <td>388096</td>\n",
       "      <td>[0, 0, 0, 0, 0]</td>\n",
       "      <td>[388096, 283115, 38965, 319680, 283115]</td>\n",
       "      <td>6</td>\n",
       "    </tr>\n",
       "    <tr>\n",
       "      <th>18</th>\n",
       "      <td>19</td>\n",
       "      <td>[0, 0]</td>\n",
       "      <td>[319680, 442228]</td>\n",
       "      <td>0</td>\n",
       "      <td>442228</td>\n",
       "      <td>[0]</td>\n",
       "      <td>[319680]</td>\n",
       "      <td>2</td>\n",
       "    </tr>\n",
       "  </tbody>\n",
       "</table>\n",
       "</div>"
      ],
      "text/plain": [
       "    ssid             actions                                            items  \\\n",
       "0      1           [0, 0, 0]                          [285930, 357564, 67045]   \n",
       "3      4        [0, 0, 0, 0]                 [253615, 344723, 344723, 344723]   \n",
       "16    17  [0, 0, 0, 0, 0, 0]  [358388, 198762, 429304, 198762, 49967, 279059]   \n",
       "17    18  [0, 0, 0, 0, 0, 0]  [388096, 283115, 38965, 319680, 283115, 388096]   \n",
       "18    19              [0, 0]                                 [319680, 442228]   \n",
       "\n",
       "    action_last  items__last     action_train  \\\n",
       "0             0        67045           [0, 0]   \n",
       "3             0       344723        [0, 0, 0]   \n",
       "16            0       279059  [0, 0, 0, 0, 0]   \n",
       "17            0       388096  [0, 0, 0, 0, 0]   \n",
       "18            0       442228              [0]   \n",
       "\n",
       "                               items__train  len  \n",
       "0                          [285930, 357564]    3  \n",
       "3                  [253615, 344723, 344723]    4  \n",
       "16  [358388, 198762, 429304, 198762, 49967]    6  \n",
       "17  [388096, 283115, 38965, 319680, 283115]    6  \n",
       "18                                 [319680]    2  "
      ]
     },
     "execution_count": 75,
     "metadata": {},
     "output_type": "execute_result"
    }
   ],
   "source": [
    "seq_.head()"
   ]
  },
  {
   "cell_type": "code",
   "execution_count": 76,
   "metadata": {},
   "outputs": [
    {
     "data": {
      "text/plain": [
       "0    70301\n",
       "1     3154\n",
       "2     2769\n",
       "Name: action_last, dtype: int64"
      ]
     },
     "execution_count": 76,
     "metadata": {},
     "output_type": "execute_result"
    }
   ],
   "source": [
    "seq_.action_last.value_counts()"
   ]
  },
  {
   "cell_type": "code",
   "execution_count": 77,
   "metadata": {
    "collapsed": true
   },
   "outputs": [],
   "source": [
    "data = seq_.copy()\n",
    "target = seq_['action_last'].copy()"
   ]
  },
  {
   "cell_type": "code",
   "execution_count": 78,
   "metadata": {
    "collapsed": true
   },
   "outputs": [],
   "source": [
    "data['len'] = data['action_train'].apply(len)"
   ]
  },
  {
   "cell_type": "code",
   "execution_count": 79,
   "metadata": {},
   "outputs": [
    {
     "data": {
      "text/plain": [
       "60"
      ]
     },
     "execution_count": 79,
     "metadata": {},
     "output_type": "execute_result"
    }
   ],
   "source": [
    "data.len.max()"
   ]
  },
  {
   "cell_type": "code",
   "execution_count": 80,
   "metadata": {
    "collapsed": true
   },
   "outputs": [],
   "source": [
    "target = target.replace({0:0, 1:0, 2:1})"
   ]
  },
  {
   "cell_type": "markdown",
   "metadata": {},
   "source": [
    "## load model"
   ]
  },
  {
   "cell_type": "code",
   "execution_count": 81,
   "metadata": {},
   "outputs": [
    {
     "name": "stderr",
     "output_type": "stream",
     "text": [
      "Using TensorFlow backend.\n"
     ]
    }
   ],
   "source": [
    "import keras\n",
    "from keras.models import load_model\n",
    "from keras.preprocessing import sequence"
   ]
  },
  {
   "cell_type": "code",
   "execution_count": 82,
   "metadata": {
    "collapsed": true
   },
   "outputs": [],
   "source": [
    "maxlen = 36"
   ]
  },
  {
   "cell_type": "code",
   "execution_count": 83,
   "metadata": {
    "collapsed": true
   },
   "outputs": [],
   "source": [
    "X_test_1 = sequence.pad_sequences(data['action_train'], maxlen=maxlen, value=(np.nan))\n",
    "X_test_2 = sequence.pad_sequences(data['items__train'], maxlen=maxlen, value=(np.nan))"
   ]
  },
  {
   "cell_type": "code",
   "execution_count": null,
   "metadata": {
    "collapsed": true
   },
   "outputs": [],
   "source": []
  },
  {
   "cell_type": "code",
   "execution_count": null,
   "metadata": {
    "collapsed": true
   },
   "outputs": [],
   "source": []
  },
  {
   "cell_type": "code",
   "execution_count": 84,
   "metadata": {},
   "outputs": [
    {
     "data": {
      "text/plain": [
       "0    73455\n",
       "1     2769\n",
       "Name: action_last, dtype: int64"
      ]
     },
     "execution_count": 84,
     "metadata": {},
     "output_type": "execute_result"
    }
   ],
   "source": [
    "target.value_counts()"
   ]
  },
  {
   "cell_type": "code",
   "execution_count": 85,
   "metadata": {
    "collapsed": true
   },
   "outputs": [],
   "source": [
    "model = load_model('my_model_2.h5')"
   ]
  },
  {
   "cell_type": "code",
   "execution_count": 86,
   "metadata": {},
   "outputs": [
    {
     "name": "stdout",
     "output_type": "stream",
     "text": [
      "76224/76224 [==============================] - 13s    \n",
      "Wall time: 13.3 s\n"
     ]
    }
   ],
   "source": [
    "%%time\n",
    "y_pred = model.predict(x ={'actions': X_test_1, 'items' : X_test_2}, verbose=1,batch_size=128)"
   ]
  },
  {
   "cell_type": "code",
   "execution_count": null,
   "metadata": {
    "collapsed": true
   },
   "outputs": [],
   "source": []
  },
  {
   "cell_type": "markdown",
   "metadata": {},
   "source": [
    "## Результаты"
   ]
  },
  {
   "cell_type": "code",
   "execution_count": 87,
   "metadata": {
    "collapsed": true
   },
   "outputs": [],
   "source": [
    "from sklearn.metrics import confusion_matrix, accuracy_score, classification_report"
   ]
  },
  {
   "cell_type": "code",
   "execution_count": 88,
   "metadata": {
    "collapsed": true
   },
   "outputs": [],
   "source": [
    "import seaborn as sn"
   ]
  },
  {
   "cell_type": "code",
   "execution_count": 89,
   "metadata": {},
   "outputs": [
    {
     "data": {
      "text/plain": [
       "array([[69999,  3456],\n",
       "       [  329,  2440]], dtype=int64)"
      ]
     },
     "execution_count": 89,
     "metadata": {},
     "output_type": "execute_result"
    }
   ],
   "source": [
    "confusion_matrix(target, y_pred.argmax(axis=-1))"
   ]
  },
  {
   "cell_type": "code",
   "execution_count": 90,
   "metadata": {},
   "outputs": [
    {
     "data": {
      "text/plain": [
       "<matplotlib.axes._subplots.AxesSubplot at 0x27d640da898>"
      ]
     },
     "execution_count": 90,
     "metadata": {},
     "output_type": "execute_result"
    },
    {
     "data": {
      "image/png": "[encoded data removed]",
      "text/plain": [
       "<matplotlib.figure.Figure at 0x27d6408ff28>"
      ]
     },
     "metadata": {},
     "output_type": "display_data"
    }
   ],
   "source": [
    "plt.figure(figsize = (10,7))\n",
    "sn.set(font_scale=1)\n",
    "sn.heatmap(confusion_matrix(target, y_pred.argmax(axis=-1)), annot=True,annot_kws={\"size\": 16} ,fmt=\"d\")"
   ]
  },
  {
   "cell_type": "code",
   "execution_count": 91,
   "metadata": {},
   "outputs": [
    {
     "data": {
      "text/plain": [
       "0.95034372376154497"
      ]
     },
     "execution_count": 91,
     "metadata": {},
     "output_type": "execute_result"
    }
   ],
   "source": [
    "accuracy_score(target, y_pred.argmax(axis=-1))"
   ]
  },
  {
   "cell_type": "code",
   "execution_count": 92,
   "metadata": {},
   "outputs": [
    {
     "name": "stdout",
     "output_type": "stream",
     "text": [
      "             precision    recall  f1-score   support\n",
      "\n",
      "          0       1.00      0.95      0.97     73455\n",
      "          1       0.41      0.88      0.56      2769\n",
      "\n",
      "avg / total       0.97      0.95      0.96     76224\n",
      "\n"
     ]
    }
   ],
   "source": [
    "print(classification_report(target ,y_pred.argmax(axis=-1)))"
   ]
  },
  {
   "cell_type": "code",
   "execution_count": 93,
   "metadata": {
    "collapsed": true
   },
   "outputs": [],
   "source": [
    "from sklearn.metrics import precision_recall_curve, roc_curve ,auc, roc_auc_score"
   ]
  },
  {
   "cell_type": "code",
   "execution_count": 94,
   "metadata": {},
   "outputs": [
    {
     "data": {
      "text/plain": [
       "[<matplotlib.lines.Line2D at 0x27d64371e80>]"
      ]
     },
     "execution_count": 94,
     "metadata": {},
     "output_type": "execute_result"
    },
    {
     "data": {
      "image/png": "[encoded data removed]",
      "text/plain": [
       "<matplotlib.figure.Figure at 0x27d6408fba8>"
      ]
     },
     "metadata": {},
     "output_type": "display_data"
    }
   ],
   "source": [
    "pr, re, thres = precision_recall_curve(target, y_pred[:, 1] )\n",
    "plt.plot( re, pr )\n",
    "# построим precision - recall кривую"
   ]
  },
  {
   "cell_type": "code",
   "execution_count": 95,
   "metadata": {},
   "outputs": [
    {
     "data": {
      "text/plain": [
       "[<matplotlib.lines.Line2D at 0x27d6444ee48>]"
      ]
     },
     "execution_count": 95,
     "metadata": {},
     "output_type": "execute_result"
    },
    {
     "data": {
      "image/png": "[encoded data removed]",
      "text/plain": [
       "<matplotlib.figure.Figure at 0x27d64057940>"
      ]
     },
     "metadata": {},
     "output_type": "display_data"
    }
   ],
   "source": [
    "fpr, tpr, thres = roc_curve(target, y_pred[:, 1] )\n",
    "plt.plot( fpr, tpr )\n",
    "# построим ROC-кривую (Receiver Operating Characteristic)"
   ]
  },
  {
   "cell_type": "code",
   "execution_count": null,
   "metadata": {
    "collapsed": true
   },
   "outputs": [],
   "source": []
  },
  {
   "cell_type": "code",
   "execution_count": null,
   "metadata": {
    "collapsed": true
   },
   "outputs": [],
   "source": []
  },
  {
   "cell_type": "code",
   "execution_count": null,
   "metadata": {
    "collapsed": true
   },
   "outputs": [],
   "source": []
  },
  {
   "cell_type": "code",
   "execution_count": null,
   "metadata": {
    "collapsed": true
   },
   "outputs": [],
   "source": []
  },
  {
   "cell_type": "code",
   "execution_count": null,
   "metadata": {
    "collapsed": true
   },
   "outputs": [],
   "source": []
  }
 ],
 "metadata": {
  "kernelspec": {
   "display_name": "Python 3",
   "language": "python",
   "name": "python3"
  },
  "language_info": {
   "codemirror_mode": {
    "name": "ipython",
    "version": 3
   },
   "file_extension": ".py",
   "mimetype": "text/x-python",
   "name": "python",
   "nbconvert_exporter": "python",
   "pygments_lexer": "ipython3",
   "version": "3.6.2"
  }
 },
 "nbformat": 4,
 "nbformat_minor": 2
}
