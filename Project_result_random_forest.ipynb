{
 "cells": [
  {
   "cell_type": "markdown",
   "metadata": {
    "collapsed": true
   },
   "source": [
    "### data set\n",
    "https://www.kaggle.com/retailrocket/ecommerce-dataset"
   ]
  },
  {
   "cell_type": "code",
   "execution_count": 1,
   "metadata": {
    "collapsed": true
   },
   "outputs": [],
   "source": [
    "import numpy as np\n",
    "import pandas as pd"
   ]
  },
  {
   "cell_type": "code",
   "execution_count": null,
   "metadata": {
    "collapsed": true
   },
   "outputs": [],
   "source": []
  },
  {
   "cell_type": "markdown",
   "metadata": {},
   "source": [
    "### load data"
   ]
  },
  {
   "cell_type": "code",
   "execution_count": 4,
   "metadata": {},
   "outputs": [],
   "source": [
    "events = pd.DataFrame.from_csv('./data/test_events_1.csv')\n",
    "item_properties =  pd.DataFrame.from_csv('./data/item_properties_part1.csv').append(pd.DataFrame.from_csv('./data/item_properties_part2.csv'))\n",
    "category_tree = pd.DataFrame.from_csv('./data/category_tree.csv')"
   ]
  },
  {
   "cell_type": "code",
   "execution_count": 5,
   "metadata": {},
   "outputs": [
    {
     "data": {
      "text/plain": [
       "542078"
      ]
     },
     "execution_count": 5,
     "metadata": {},
     "output_type": "execute_result"
    }
   ],
   "source": [
    "events.shape[0]"
   ]
  },
  {
   "cell_type": "code",
   "execution_count": 6,
   "metadata": {},
   "outputs": [
    {
     "data": {
      "text/html": [
       "<div>\n",
       "<style>\n",
       "    .dataframe thead tr:only-child th {\n",
       "        text-align: right;\n",
       "    }\n",
       "\n",
       "    .dataframe thead th {\n",
       "        text-align: left;\n",
       "    }\n",
       "\n",
       "    .dataframe tbody tr th {\n",
       "        vertical-align: top;\n",
       "    }\n",
       "</style>\n",
       "<table border=\"1\" class=\"dataframe\">\n",
       "  <thead>\n",
       "    <tr style=\"text-align: right;\">\n",
       "      <th></th>\n",
       "      <th>index</th>\n",
       "      <th>timestamp</th>\n",
       "      <th>visitorid</th>\n",
       "      <th>event</th>\n",
       "      <th>itemid</th>\n",
       "      <th>transactionid</th>\n",
       "      <th>delta</th>\n",
       "      <th>delta1</th>\n",
       "      <th>ssid</th>\n",
       "      <th>event_type</th>\n",
       "      <th>session_transation_type</th>\n",
       "    </tr>\n",
       "  </thead>\n",
       "  <tbody>\n",
       "    <tr>\n",
       "      <th>0</th>\n",
       "      <td>2655436</td>\n",
       "      <td>1442004589439</td>\n",
       "      <td>0</td>\n",
       "      <td>view</td>\n",
       "      <td>285930</td>\n",
       "      <td>-1</td>\n",
       "      <td>NaN</td>\n",
       "      <td>NaN</td>\n",
       "      <td>1</td>\n",
       "      <td>0</td>\n",
       "      <td>0</td>\n",
       "    </tr>\n",
       "    <tr>\n",
       "      <th>1</th>\n",
       "      <td>2655495</td>\n",
       "      <td>1442004759591</td>\n",
       "      <td>0</td>\n",
       "      <td>view</td>\n",
       "      <td>357564</td>\n",
       "      <td>-1</td>\n",
       "      <td>2.835867</td>\n",
       "      <td>2.835867</td>\n",
       "      <td>1</td>\n",
       "      <td>0</td>\n",
       "      <td>0</td>\n",
       "    </tr>\n",
       "    <tr>\n",
       "      <th>2</th>\n",
       "      <td>2655555</td>\n",
       "      <td>1442004917175</td>\n",
       "      <td>0</td>\n",
       "      <td>view</td>\n",
       "      <td>67045</td>\n",
       "      <td>-1</td>\n",
       "      <td>2.626400</td>\n",
       "      <td>2.626400</td>\n",
       "      <td>1</td>\n",
       "      <td>0</td>\n",
       "      <td>0</td>\n",
       "    </tr>\n",
       "    <tr>\n",
       "      <th>3</th>\n",
       "      <td>2731107</td>\n",
       "      <td>1442352267167</td>\n",
       "      <td>4</td>\n",
       "      <td>view</td>\n",
       "      <td>177677</td>\n",
       "      <td>-1</td>\n",
       "      <td>NaN</td>\n",
       "      <td>NaN</td>\n",
       "      <td>2</td>\n",
       "      <td>0</td>\n",
       "      <td>0</td>\n",
       "    </tr>\n",
       "    <tr>\n",
       "      <th>4</th>\n",
       "      <td>2422269</td>\n",
       "      <td>1440914628202</td>\n",
       "      <td>6</td>\n",
       "      <td>addtocart</td>\n",
       "      <td>65273</td>\n",
       "      <td>-1</td>\n",
       "      <td>NaN</td>\n",
       "      <td>NaN</td>\n",
       "      <td>3</td>\n",
       "      <td>1</td>\n",
       "      <td>0</td>\n",
       "    </tr>\n",
       "  </tbody>\n",
       "</table>\n",
       "</div>"
      ],
      "text/plain": [
       "     index      timestamp  visitorid      event  itemid  transactionid  \\\n",
       "0  2655436  1442004589439          0       view  285930             -1   \n",
       "1  2655495  1442004759591          0       view  357564             -1   \n",
       "2  2655555  1442004917175          0       view   67045             -1   \n",
       "3  2731107  1442352267167          4       view  177677             -1   \n",
       "4  2422269  1440914628202          6  addtocart   65273             -1   \n",
       "\n",
       "      delta    delta1  ssid  event_type  session_transation_type  \n",
       "0       NaN       NaN     1           0                        0  \n",
       "1  2.835867  2.835867     1           0                        0  \n",
       "2  2.626400  2.626400     1           0                        0  \n",
       "3       NaN       NaN     2           0                        0  \n",
       "4       NaN       NaN     3           1                        0  "
      ]
     },
     "execution_count": 6,
     "metadata": {},
     "output_type": "execute_result"
    }
   ],
   "source": [
    "events.head()"
   ]
  },
  {
   "cell_type": "code",
   "execution_count": 4,
   "metadata": {},
   "outputs": [
    {
     "data": {
      "text/html": [
       "<div>\n",
       "<style>\n",
       "    .dataframe thead tr:only-child th {\n",
       "        text-align: right;\n",
       "    }\n",
       "\n",
       "    .dataframe thead th {\n",
       "        text-align: left;\n",
       "    }\n",
       "\n",
       "    .dataframe tbody tr th {\n",
       "        vertical-align: top;\n",
       "    }\n",
       "</style>\n",
       "<table border=\"1\" class=\"dataframe\">\n",
       "  <thead>\n",
       "    <tr style=\"text-align: right;\">\n",
       "      <th></th>\n",
       "      <th>index</th>\n",
       "      <th>timestamp</th>\n",
       "      <th>visitorid</th>\n",
       "      <th>event</th>\n",
       "      <th>itemid</th>\n",
       "      <th>transactionid</th>\n",
       "      <th>delta</th>\n",
       "      <th>delta1</th>\n",
       "      <th>ssid</th>\n",
       "      <th>session_type</th>\n",
       "    </tr>\n",
       "  </thead>\n",
       "  <tbody>\n",
       "    <tr>\n",
       "      <th>0</th>\n",
       "      <td>2024720</td>\n",
       "      <td>1438969904567</td>\n",
       "      <td>2</td>\n",
       "      <td>view</td>\n",
       "      <td>325215</td>\n",
       "      <td>-1</td>\n",
       "      <td>NaN</td>\n",
       "      <td>NaN</td>\n",
       "      <td>1.0</td>\n",
       "      <td>2.0</td>\n",
       "    </tr>\n",
       "    <tr>\n",
       "      <th>1</th>\n",
       "      <td>2024760</td>\n",
       "      <td>1438970013790</td>\n",
       "      <td>2</td>\n",
       "      <td>view</td>\n",
       "      <td>325215</td>\n",
       "      <td>-1</td>\n",
       "      <td>1.820383</td>\n",
       "      <td>1.820383</td>\n",
       "      <td>1.0</td>\n",
       "      <td>2.0</td>\n",
       "    </tr>\n",
       "    <tr>\n",
       "      <th>2</th>\n",
       "      <td>2024834</td>\n",
       "      <td>1438970212664</td>\n",
       "      <td>2</td>\n",
       "      <td>view</td>\n",
       "      <td>259884</td>\n",
       "      <td>-1</td>\n",
       "      <td>3.314567</td>\n",
       "      <td>3.314567</td>\n",
       "      <td>1.0</td>\n",
       "      <td>2.0</td>\n",
       "    </tr>\n",
       "    <tr>\n",
       "      <th>3</th>\n",
       "      <td>2024945</td>\n",
       "      <td>1438970468920</td>\n",
       "      <td>2</td>\n",
       "      <td>view</td>\n",
       "      <td>216305</td>\n",
       "      <td>-1</td>\n",
       "      <td>4.270933</td>\n",
       "      <td>4.270933</td>\n",
       "      <td>1.0</td>\n",
       "      <td>2.0</td>\n",
       "    </tr>\n",
       "    <tr>\n",
       "      <th>4</th>\n",
       "      <td>2025140</td>\n",
       "      <td>1438970905669</td>\n",
       "      <td>2</td>\n",
       "      <td>view</td>\n",
       "      <td>342816</td>\n",
       "      <td>-1</td>\n",
       "      <td>7.279150</td>\n",
       "      <td>7.279150</td>\n",
       "      <td>1.0</td>\n",
       "      <td>2.0</td>\n",
       "    </tr>\n",
       "  </tbody>\n",
       "</table>\n",
       "</div>"
      ],
      "text/plain": [
       "     index      timestamp  visitorid event  itemid  transactionid     delta  \\\n",
       "0  2024720  1438969904567          2  view  325215             -1       NaN   \n",
       "1  2024760  1438970013790          2  view  325215             -1  1.820383   \n",
       "2  2024834  1438970212664          2  view  259884             -1  3.314567   \n",
       "3  2024945  1438970468920          2  view  216305             -1  4.270933   \n",
       "4  2025140  1438970905669          2  view  342816             -1  7.279150   \n",
       "\n",
       "     delta1  ssid  session_type  \n",
       "0       NaN   1.0           2.0  \n",
       "1  1.820383   1.0           2.0  \n",
       "2  3.314567   1.0           2.0  \n",
       "3  4.270933   1.0           2.0  \n",
       "4  7.279150   1.0           2.0  "
      ]
     },
     "execution_count": 4,
     "metadata": {},
     "output_type": "execute_result"
    }
   ],
   "source": [
    "events.head()"
   ]
  },
  {
   "cell_type": "code",
   "execution_count": 7,
   "metadata": {},
   "outputs": [
    {
     "data": {
      "text/plain": [
       "(20275902, 3)"
      ]
     },
     "execution_count": 7,
     "metadata": {},
     "output_type": "execute_result"
    }
   ],
   "source": [
    "item_properties.shape"
   ]
  },
  {
   "cell_type": "code",
   "execution_count": 19,
   "metadata": {
    "collapsed": true
   },
   "outputs": [],
   "source": [
    "item_properties.reset_index(inplace=True)"
   ]
  },
  {
   "cell_type": "code",
   "execution_count": 20,
   "metadata": {},
   "outputs": [
    {
     "data": {
      "text/html": [
       "<div>\n",
       "<style>\n",
       "    .dataframe thead tr:only-child th {\n",
       "        text-align: right;\n",
       "    }\n",
       "\n",
       "    .dataframe thead th {\n",
       "        text-align: left;\n",
       "    }\n",
       "\n",
       "    .dataframe tbody tr th {\n",
       "        vertical-align: top;\n",
       "    }\n",
       "</style>\n",
       "<table border=\"1\" class=\"dataframe\">\n",
       "  <thead>\n",
       "    <tr style=\"text-align: right;\">\n",
       "      <th></th>\n",
       "      <th>timestamp</th>\n",
       "      <th>itemid</th>\n",
       "      <th>property</th>\n",
       "      <th>value</th>\n",
       "    </tr>\n",
       "  </thead>\n",
       "  <tbody>\n",
       "    <tr>\n",
       "      <th>0</th>\n",
       "      <td>1435460400000</td>\n",
       "      <td>460429</td>\n",
       "      <td>categoryid</td>\n",
       "      <td>1338</td>\n",
       "    </tr>\n",
       "    <tr>\n",
       "      <th>1</th>\n",
       "      <td>1441508400000</td>\n",
       "      <td>206783</td>\n",
       "      <td>888</td>\n",
       "      <td>1116713 960601 n277.200</td>\n",
       "    </tr>\n",
       "    <tr>\n",
       "      <th>2</th>\n",
       "      <td>1439089200000</td>\n",
       "      <td>395014</td>\n",
       "      <td>400</td>\n",
       "      <td>n552.000 639502 n720.000 424566</td>\n",
       "    </tr>\n",
       "    <tr>\n",
       "      <th>3</th>\n",
       "      <td>1431226800000</td>\n",
       "      <td>59481</td>\n",
       "      <td>790</td>\n",
       "      <td>n15360.000</td>\n",
       "    </tr>\n",
       "    <tr>\n",
       "      <th>4</th>\n",
       "      <td>1431831600000</td>\n",
       "      <td>156781</td>\n",
       "      <td>917</td>\n",
       "      <td>828513</td>\n",
       "    </tr>\n",
       "  </tbody>\n",
       "</table>\n",
       "</div>"
      ],
      "text/plain": [
       "       timestamp  itemid    property                            value\n",
       "0  1435460400000  460429  categoryid                             1338\n",
       "1  1441508400000  206783         888          1116713 960601 n277.200\n",
       "2  1439089200000  395014         400  n552.000 639502 n720.000 424566\n",
       "3  1431226800000   59481         790                       n15360.000\n",
       "4  1431831600000  156781         917                           828513"
      ]
     },
     "execution_count": 20,
     "metadata": {},
     "output_type": "execute_result"
    }
   ],
   "source": [
    "item_properties.head()"
   ]
  },
  {
   "cell_type": "code",
   "execution_count": 9,
   "metadata": {},
   "outputs": [
    {
     "data": {
      "text/plain": [
       "(1669, 1)"
      ]
     },
     "execution_count": 9,
     "metadata": {},
     "output_type": "execute_result"
    }
   ],
   "source": [
    "category_tree.shape"
   ]
  },
  {
   "cell_type": "code",
   "execution_count": 10,
   "metadata": {},
   "outputs": [
    {
     "data": {
      "text/html": [
       "<div>\n",
       "<style>\n",
       "    .dataframe thead tr:only-child th {\n",
       "        text-align: right;\n",
       "    }\n",
       "\n",
       "    .dataframe thead th {\n",
       "        text-align: left;\n",
       "    }\n",
       "\n",
       "    .dataframe tbody tr th {\n",
       "        vertical-align: top;\n",
       "    }\n",
       "</style>\n",
       "<table border=\"1\" class=\"dataframe\">\n",
       "  <thead>\n",
       "    <tr style=\"text-align: right;\">\n",
       "      <th></th>\n",
       "      <th>parentid</th>\n",
       "    </tr>\n",
       "    <tr>\n",
       "      <th>categoryid</th>\n",
       "      <th></th>\n",
       "    </tr>\n",
       "  </thead>\n",
       "  <tbody>\n",
       "    <tr>\n",
       "      <th>1016</th>\n",
       "      <td>213.0</td>\n",
       "    </tr>\n",
       "    <tr>\n",
       "      <th>809</th>\n",
       "      <td>169.0</td>\n",
       "    </tr>\n",
       "    <tr>\n",
       "      <th>570</th>\n",
       "      <td>9.0</td>\n",
       "    </tr>\n",
       "    <tr>\n",
       "      <th>1691</th>\n",
       "      <td>885.0</td>\n",
       "    </tr>\n",
       "    <tr>\n",
       "      <th>536</th>\n",
       "      <td>1691.0</td>\n",
       "    </tr>\n",
       "  </tbody>\n",
       "</table>\n",
       "</div>"
      ],
      "text/plain": [
       "            parentid\n",
       "categoryid          \n",
       "1016           213.0\n",
       "809            169.0\n",
       "570              9.0\n",
       "1691           885.0\n",
       "536           1691.0"
      ]
     },
     "execution_count": 10,
     "metadata": {},
     "output_type": "execute_result"
    }
   ],
   "source": [
    "category_tree.head()"
   ]
  },
  {
   "cell_type": "code",
   "execution_count": null,
   "metadata": {
    "collapsed": true
   },
   "outputs": [],
   "source": []
  },
  {
   "cell_type": "code",
   "execution_count": 11,
   "metadata": {},
   "outputs": [
    {
     "data": {
      "text/plain": [
       "363"
      ]
     },
     "execution_count": 11,
     "metadata": {},
     "output_type": "execute_result"
    }
   ],
   "source": [
    "category_tree.parentid.unique().shape[0]"
   ]
  },
  {
   "cell_type": "code",
   "execution_count": 12,
   "metadata": {},
   "outputs": [
    {
     "data": {
      "text/plain": [
       "1669"
      ]
     },
     "execution_count": 12,
     "metadata": {},
     "output_type": "execute_result"
    }
   ],
   "source": [
    "category_tree.index.value_counts().shape[0]"
   ]
  },
  {
   "cell_type": "code",
   "execution_count": 13,
   "metadata": {
    "collapsed": true
   },
   "outputs": [],
   "source": [
    "#выберем из item_properties категории обьектов"
   ]
  },
  {
   "cell_type": "code",
   "execution_count": 21,
   "metadata": {},
   "outputs": [],
   "source": [
    "categories = item_properties.loc[item_properties.property =='categoryid'].sort_values([ 'itemid','timestamp'], ascending = [True,False])"
   ]
  },
  {
   "cell_type": "code",
   "execution_count": 22,
   "metadata": {},
   "outputs": [
    {
     "data": {
      "text/plain": [
       "(1242,)"
      ]
     },
     "execution_count": 22,
     "metadata": {},
     "output_type": "execute_result"
    }
   ],
   "source": [
    "categories.value.unique().shape"
   ]
  },
  {
   "cell_type": "code",
   "execution_count": 23,
   "metadata": {},
   "outputs": [
    {
     "data": {
      "text/html": [
       "<div>\n",
       "<style>\n",
       "    .dataframe thead tr:only-child th {\n",
       "        text-align: right;\n",
       "    }\n",
       "\n",
       "    .dataframe thead th {\n",
       "        text-align: left;\n",
       "    }\n",
       "\n",
       "    .dataframe tbody tr th {\n",
       "        vertical-align: top;\n",
       "    }\n",
       "</style>\n",
       "<table border=\"1\" class=\"dataframe\">\n",
       "  <thead>\n",
       "    <tr style=\"text-align: right;\">\n",
       "      <th></th>\n",
       "      <th>timestamp</th>\n",
       "      <th>itemid</th>\n",
       "      <th>property</th>\n",
       "      <th>value</th>\n",
       "    </tr>\n",
       "  </thead>\n",
       "  <tbody>\n",
       "    <tr>\n",
       "      <th>19220984</th>\n",
       "      <td>1431226800000</td>\n",
       "      <td>0</td>\n",
       "      <td>categoryid</td>\n",
       "      <td>209</td>\n",
       "    </tr>\n",
       "    <tr>\n",
       "      <th>8428979</th>\n",
       "      <td>1431226800000</td>\n",
       "      <td>1</td>\n",
       "      <td>categoryid</td>\n",
       "      <td>1114</td>\n",
       "    </tr>\n",
       "    <tr>\n",
       "      <th>9157980</th>\n",
       "      <td>1431226800000</td>\n",
       "      <td>2</td>\n",
       "      <td>categoryid</td>\n",
       "      <td>1305</td>\n",
       "    </tr>\n",
       "    <tr>\n",
       "      <th>3828355</th>\n",
       "      <td>1433041200000</td>\n",
       "      <td>3</td>\n",
       "      <td>categoryid</td>\n",
       "      <td>1171</td>\n",
       "    </tr>\n",
       "    <tr>\n",
       "      <th>19767463</th>\n",
       "      <td>1431831600000</td>\n",
       "      <td>4</td>\n",
       "      <td>categoryid</td>\n",
       "      <td>1038</td>\n",
       "    </tr>\n",
       "  </tbody>\n",
       "</table>\n",
       "</div>"
      ],
      "text/plain": [
       "              timestamp  itemid    property value\n",
       "19220984  1431226800000       0  categoryid   209\n",
       "8428979   1431226800000       1  categoryid  1114\n",
       "9157980   1431226800000       2  categoryid  1305\n",
       "3828355   1433041200000       3  categoryid  1171\n",
       "19767463  1431831600000       4  categoryid  1038"
      ]
     },
     "execution_count": 23,
     "metadata": {},
     "output_type": "execute_result"
    }
   ],
   "source": [
    "categories.head()"
   ]
  },
  {
   "cell_type": "code",
   "execution_count": 24,
   "metadata": {
    "scrolled": true
   },
   "outputs": [
    {
     "data": {
      "text/plain": [
       "53757"
      ]
     },
     "execution_count": 24,
     "metadata": {},
     "output_type": "execute_result"
    }
   ],
   "source": [
    "events.shape[0] - events.loc[events.itemid.isin(categories.itemid.unique())].shape[0]"
   ]
  },
  {
   "cell_type": "code",
   "execution_count": null,
   "metadata": {
    "collapsed": true
   },
   "outputs": [],
   "source": []
  },
  {
   "cell_type": "code",
   "execution_count": 25,
   "metadata": {
    "collapsed": true
   },
   "outputs": [],
   "source": [
    "#функция определиния катеогории объекта\n",
    "def get_cat(timestamp,itemid):\n",
    "    result = np.nan\n",
    "    i_ = categories.loc[(categories.itemid == itemid)&(categories.timestamp <= timestamp)]\n",
    "    if i_.shape[0] != 0:\n",
    "        result = int(i_.iloc[0].value)\n",
    "    return result"
   ]
  },
  {
   "cell_type": "code",
   "execution_count": 26,
   "metadata": {
    "collapsed": true
   },
   "outputs": [],
   "source": [
    "e__ = np.array(events[['timestamp','itemid']])"
   ]
  },
  {
   "cell_type": "code",
   "execution_count": 27,
   "metadata": {},
   "outputs": [
    {
     "data": {
      "text/plain": [
       "(542078, 2)"
      ]
     },
     "execution_count": 27,
     "metadata": {},
     "output_type": "execute_result"
    }
   ],
   "source": [
    "e__.shape"
   ]
  },
  {
   "cell_type": "code",
   "execution_count": 28,
   "metadata": {
    "collapsed": true
   },
   "outputs": [],
   "source": [
    "#Внимание!!! Wall time: 51min 12s"
   ]
  },
  {
   "cell_type": "code",
   "execution_count": 29,
   "metadata": {},
   "outputs": [
    {
     "name": "stdout",
     "output_type": "stream",
     "text": [
      "CPU times: user 22min 15s, sys: 7.03 s, total: 22min 22s\n",
      "Wall time: 22min 26s\n"
     ]
    }
   ],
   "source": [
    "%%time\n",
    "cat = []\n",
    "for i in e__:\n",
    "    cat.append(get_cat(i[0],i[1]))"
   ]
  },
  {
   "cell_type": "code",
   "execution_count": 30,
   "metadata": {
    "collapsed": true
   },
   "outputs": [],
   "source": [
    "events['item_cat'] = cat"
   ]
  },
  {
   "cell_type": "code",
   "execution_count": null,
   "metadata": {
    "collapsed": true
   },
   "outputs": [],
   "source": []
  },
  {
   "cell_type": "code",
   "execution_count": 31,
   "metadata": {
    "collapsed": true
   },
   "outputs": [],
   "source": [
    "def get_cat_list(categoryid):\n",
    "    result = [categoryid]\n",
    "    cat = categoryid\n",
    "    while True:\n",
    "        #print(cat)\n",
    "        if np.isnan(cat):\n",
    "            break\n",
    "        cat = category_tree.loc[category_tree.index == int(cat)].iloc[0]['parentid']\n",
    "        result.append(cat)\n",
    "    return result\n",
    "\n",
    "def item_distance(cat1, cat2):\n",
    "    if np.isnan(cat1) and np.isnan(cat2) :\n",
    "        return 0\n",
    "    \n",
    "    if np.isnan(cat1) or np.isnan(cat2) :\n",
    "        if np.isnan(cat1):\n",
    "            return len(get_cat_list(cat2))\n",
    "        if np.isnan(cat2):\n",
    "            return len(get_cat_list(cat1))\n",
    "        \n",
    "    if cat1 == cat2 :\n",
    "        return 0\n",
    "        \n",
    "    cat_list1 = get_cat_list(cat1)\n",
    "    cat_list2 = get_cat_list(cat2)\n",
    "    cat_list1.reverse()\n",
    "    cat_list2.reverse()\n",
    "\n",
    "    i = 0\n",
    "    result = []\n",
    "    while True:\n",
    "        if (i >= len(cat_list1) or i >= len(cat_list2)):\n",
    "            break\n",
    "        result.append(cat_list1[i]-cat_list2[i])\n",
    "        i = i +1\n",
    "    r = 0\n",
    "\n",
    "    for r_ in result:\n",
    "        if r_ != 0:\n",
    "            break\n",
    "        r = r + 1\n",
    "    return (len(cat_list1)- r + len(cat_list2)-r)\n",
    "    "
   ]
  },
  {
   "cell_type": "code",
   "execution_count": null,
   "metadata": {
    "collapsed": true
   },
   "outputs": [],
   "source": []
  },
  {
   "cell_type": "code",
   "execution_count": 32,
   "metadata": {},
   "outputs": [
    {
     "name": "stdout",
     "output_type": "stream",
     "text": [
      "CPU times: user 2min 21s, sys: 537 ms, total: 2min 22s\n",
      "Wall time: 2min 22s\n"
     ]
    }
   ],
   "source": [
    "%%time\n",
    "\n",
    "d_ = np.zeros(events.shape[0])\n",
    "session = '0'\n",
    "dist = events.iloc[0]['item_cat']\n",
    "for index, row in events.iterrows():\n",
    "    if session != row['ssid']:\n",
    "        dist = row['item_cat']\n",
    "    d_[index] = item_distance(row['item_cat'],dist)\n",
    "    dist = row['item_cat'] \n",
    "    session = row['ssid']"
   ]
  },
  {
   "cell_type": "code",
   "execution_count": null,
   "metadata": {
    "collapsed": true
   },
   "outputs": [],
   "source": []
  },
  {
   "cell_type": "code",
   "execution_count": 33,
   "metadata": {
    "collapsed": true
   },
   "outputs": [],
   "source": [
    "events['item_cat_dist'] = d_"
   ]
  },
  {
   "cell_type": "code",
   "execution_count": 34,
   "metadata": {
    "scrolled": true
   },
   "outputs": [
    {
     "data": {
      "text/html": [
       "<div>\n",
       "<style>\n",
       "    .dataframe thead tr:only-child th {\n",
       "        text-align: right;\n",
       "    }\n",
       "\n",
       "    .dataframe thead th {\n",
       "        text-align: left;\n",
       "    }\n",
       "\n",
       "    .dataframe tbody tr th {\n",
       "        vertical-align: top;\n",
       "    }\n",
       "</style>\n",
       "<table border=\"1\" class=\"dataframe\">\n",
       "  <thead>\n",
       "    <tr style=\"text-align: right;\">\n",
       "      <th></th>\n",
       "      <th>index</th>\n",
       "      <th>timestamp</th>\n",
       "      <th>visitorid</th>\n",
       "      <th>event</th>\n",
       "      <th>itemid</th>\n",
       "      <th>transactionid</th>\n",
       "      <th>delta</th>\n",
       "      <th>delta1</th>\n",
       "      <th>ssid</th>\n",
       "      <th>event_type</th>\n",
       "      <th>session_transation_type</th>\n",
       "      <th>item_cat_dist</th>\n",
       "      <th>item_cat</th>\n",
       "    </tr>\n",
       "  </thead>\n",
       "  <tbody>\n",
       "    <tr>\n",
       "      <th>0</th>\n",
       "      <td>2655436</td>\n",
       "      <td>1442004589439</td>\n",
       "      <td>0</td>\n",
       "      <td>view</td>\n",
       "      <td>285930</td>\n",
       "      <td>-1</td>\n",
       "      <td>NaN</td>\n",
       "      <td>NaN</td>\n",
       "      <td>1</td>\n",
       "      <td>0</td>\n",
       "      <td>0</td>\n",
       "      <td>0.0</td>\n",
       "      <td>1188.0</td>\n",
       "    </tr>\n",
       "    <tr>\n",
       "      <th>1</th>\n",
       "      <td>2655495</td>\n",
       "      <td>1442004759591</td>\n",
       "      <td>0</td>\n",
       "      <td>view</td>\n",
       "      <td>357564</td>\n",
       "      <td>-1</td>\n",
       "      <td>2.835867</td>\n",
       "      <td>2.835867</td>\n",
       "      <td>1</td>\n",
       "      <td>0</td>\n",
       "      <td>0</td>\n",
       "      <td>8.0</td>\n",
       "      <td>256.0</td>\n",
       "    </tr>\n",
       "    <tr>\n",
       "      <th>2</th>\n",
       "      <td>2655555</td>\n",
       "      <td>1442004917175</td>\n",
       "      <td>0</td>\n",
       "      <td>view</td>\n",
       "      <td>67045</td>\n",
       "      <td>-1</td>\n",
       "      <td>2.626400</td>\n",
       "      <td>2.626400</td>\n",
       "      <td>1</td>\n",
       "      <td>0</td>\n",
       "      <td>0</td>\n",
       "      <td>8.0</td>\n",
       "      <td>333.0</td>\n",
       "    </tr>\n",
       "    <tr>\n",
       "      <th>3</th>\n",
       "      <td>2731107</td>\n",
       "      <td>1442352267167</td>\n",
       "      <td>4</td>\n",
       "      <td>view</td>\n",
       "      <td>177677</td>\n",
       "      <td>-1</td>\n",
       "      <td>NaN</td>\n",
       "      <td>NaN</td>\n",
       "      <td>2</td>\n",
       "      <td>0</td>\n",
       "      <td>0</td>\n",
       "      <td>0.0</td>\n",
       "      <td>NaN</td>\n",
       "    </tr>\n",
       "    <tr>\n",
       "      <th>4</th>\n",
       "      <td>2422269</td>\n",
       "      <td>1440914628202</td>\n",
       "      <td>6</td>\n",
       "      <td>addtocart</td>\n",
       "      <td>65273</td>\n",
       "      <td>-1</td>\n",
       "      <td>NaN</td>\n",
       "      <td>NaN</td>\n",
       "      <td>3</td>\n",
       "      <td>1</td>\n",
       "      <td>0</td>\n",
       "      <td>0.0</td>\n",
       "      <td>342.0</td>\n",
       "    </tr>\n",
       "    <tr>\n",
       "      <th>5</th>\n",
       "      <td>2422579</td>\n",
       "      <td>1440916778318</td>\n",
       "      <td>6</td>\n",
       "      <td>view</td>\n",
       "      <td>253615</td>\n",
       "      <td>-1</td>\n",
       "      <td>35.835267</td>\n",
       "      <td>NaN</td>\n",
       "      <td>4</td>\n",
       "      <td>0</td>\n",
       "      <td>0</td>\n",
       "      <td>0.0</td>\n",
       "      <td>342.0</td>\n",
       "    </tr>\n",
       "    <tr>\n",
       "      <th>6</th>\n",
       "      <td>2422581</td>\n",
       "      <td>1440916823805</td>\n",
       "      <td>6</td>\n",
       "      <td>view</td>\n",
       "      <td>344723</td>\n",
       "      <td>-1</td>\n",
       "      <td>0.758117</td>\n",
       "      <td>0.758117</td>\n",
       "      <td>4</td>\n",
       "      <td>0</td>\n",
       "      <td>0</td>\n",
       "      <td>0.0</td>\n",
       "      <td>342.0</td>\n",
       "    </tr>\n",
       "    <tr>\n",
       "      <th>7</th>\n",
       "      <td>2422674</td>\n",
       "      <td>1440917649385</td>\n",
       "      <td>6</td>\n",
       "      <td>view</td>\n",
       "      <td>344723</td>\n",
       "      <td>-1</td>\n",
       "      <td>13.759667</td>\n",
       "      <td>13.759667</td>\n",
       "      <td>4</td>\n",
       "      <td>0</td>\n",
       "      <td>0</td>\n",
       "      <td>0.0</td>\n",
       "      <td>342.0</td>\n",
       "    </tr>\n",
       "    <tr>\n",
       "      <th>8</th>\n",
       "      <td>2422699</td>\n",
       "      <td>1440917793838</td>\n",
       "      <td>6</td>\n",
       "      <td>view</td>\n",
       "      <td>344723</td>\n",
       "      <td>-1</td>\n",
       "      <td>2.407550</td>\n",
       "      <td>2.407550</td>\n",
       "      <td>4</td>\n",
       "      <td>0</td>\n",
       "      <td>0</td>\n",
       "      <td>0.0</td>\n",
       "      <td>342.0</td>\n",
       "    </tr>\n",
       "    <tr>\n",
       "      <th>9</th>\n",
       "      <td>2437154</td>\n",
       "      <td>1440991285697</td>\n",
       "      <td>6</td>\n",
       "      <td>view</td>\n",
       "      <td>344723</td>\n",
       "      <td>-1</td>\n",
       "      <td>1224.864317</td>\n",
       "      <td>NaN</td>\n",
       "      <td>5</td>\n",
       "      <td>0</td>\n",
       "      <td>0</td>\n",
       "      <td>0.0</td>\n",
       "      <td>342.0</td>\n",
       "    </tr>\n",
       "  </tbody>\n",
       "</table>\n",
       "</div>"
      ],
      "text/plain": [
       "     index      timestamp  visitorid      event  itemid  transactionid  \\\n",
       "0  2655436  1442004589439          0       view  285930             -1   \n",
       "1  2655495  1442004759591          0       view  357564             -1   \n",
       "2  2655555  1442004917175          0       view   67045             -1   \n",
       "3  2731107  1442352267167          4       view  177677             -1   \n",
       "4  2422269  1440914628202          6  addtocart   65273             -1   \n",
       "5  2422579  1440916778318          6       view  253615             -1   \n",
       "6  2422581  1440916823805          6       view  344723             -1   \n",
       "7  2422674  1440917649385          6       view  344723             -1   \n",
       "8  2422699  1440917793838          6       view  344723             -1   \n",
       "9  2437154  1440991285697          6       view  344723             -1   \n",
       "\n",
       "         delta     delta1  ssid  event_type  session_transation_type  \\\n",
       "0          NaN        NaN     1           0                        0   \n",
       "1     2.835867   2.835867     1           0                        0   \n",
       "2     2.626400   2.626400     1           0                        0   \n",
       "3          NaN        NaN     2           0                        0   \n",
       "4          NaN        NaN     3           1                        0   \n",
       "5    35.835267        NaN     4           0                        0   \n",
       "6     0.758117   0.758117     4           0                        0   \n",
       "7    13.759667  13.759667     4           0                        0   \n",
       "8     2.407550   2.407550     4           0                        0   \n",
       "9  1224.864317        NaN     5           0                        0   \n",
       "\n",
       "   item_cat_dist  item_cat  \n",
       "0            0.0    1188.0  \n",
       "1            8.0     256.0  \n",
       "2            8.0     333.0  \n",
       "3            0.0       NaN  \n",
       "4            0.0     342.0  \n",
       "5            0.0     342.0  \n",
       "6            0.0     342.0  \n",
       "7            0.0     342.0  \n",
       "8            0.0     342.0  \n",
       "9            0.0     342.0  "
      ]
     },
     "execution_count": 34,
     "metadata": {},
     "output_type": "execute_result"
    }
   ],
   "source": [
    "events.head(10)"
   ]
  },
  {
   "cell_type": "code",
   "execution_count": 35,
   "metadata": {
    "collapsed": true
   },
   "outputs": [],
   "source": [
    "##уберем лишние данные и \"причешем\" дата сет"
   ]
  },
  {
   "cell_type": "code",
   "execution_count": 36,
   "metadata": {
    "collapsed": true
   },
   "outputs": [],
   "source": [
    "events['event_type'] = events.event.copy()"
   ]
  },
  {
   "cell_type": "code",
   "execution_count": 37,
   "metadata": {
    "collapsed": true
   },
   "outputs": [],
   "source": [
    "events.event_type = events.event_type.replace({'view': 0, 'addtocart': 1, 'transaction': 2})"
   ]
  },
  {
   "cell_type": "code",
   "execution_count": 38,
   "metadata": {
    "collapsed": true
   },
   "outputs": [],
   "source": [
    "events['event_type'] = events['event_type'].astype(int)"
   ]
  },
  {
   "cell_type": "code",
   "execution_count": 40,
   "metadata": {},
   "outputs": [],
   "source": [
    "#events['session_type'] = events['session_type'].fillna(-1).astype(int)"
   ]
  },
  {
   "cell_type": "code",
   "execution_count": 41,
   "metadata": {
    "collapsed": true
   },
   "outputs": [],
   "source": [
    "events['ssid'] = events['ssid'].astype(int)"
   ]
  },
  {
   "cell_type": "code",
   "execution_count": 42,
   "metadata": {
    "scrolled": true
   },
   "outputs": [
    {
     "data": {
      "text/html": [
       "<div>\n",
       "<style>\n",
       "    .dataframe thead tr:only-child th {\n",
       "        text-align: right;\n",
       "    }\n",
       "\n",
       "    .dataframe thead th {\n",
       "        text-align: left;\n",
       "    }\n",
       "\n",
       "    .dataframe tbody tr th {\n",
       "        vertical-align: top;\n",
       "    }\n",
       "</style>\n",
       "<table border=\"1\" class=\"dataframe\">\n",
       "  <thead>\n",
       "    <tr style=\"text-align: right;\">\n",
       "      <th></th>\n",
       "      <th>index</th>\n",
       "      <th>timestamp</th>\n",
       "      <th>visitorid</th>\n",
       "      <th>event</th>\n",
       "      <th>itemid</th>\n",
       "      <th>transactionid</th>\n",
       "      <th>delta</th>\n",
       "      <th>delta1</th>\n",
       "      <th>ssid</th>\n",
       "      <th>event_type</th>\n",
       "      <th>session_transation_type</th>\n",
       "      <th>item_cat_dist</th>\n",
       "      <th>item_cat</th>\n",
       "    </tr>\n",
       "  </thead>\n",
       "  <tbody>\n",
       "    <tr>\n",
       "      <th>0</th>\n",
       "      <td>2655436</td>\n",
       "      <td>1442004589439</td>\n",
       "      <td>0</td>\n",
       "      <td>view</td>\n",
       "      <td>285930</td>\n",
       "      <td>-1</td>\n",
       "      <td>NaN</td>\n",
       "      <td>NaN</td>\n",
       "      <td>1</td>\n",
       "      <td>0</td>\n",
       "      <td>0</td>\n",
       "      <td>0.0</td>\n",
       "      <td>1188.0</td>\n",
       "    </tr>\n",
       "    <tr>\n",
       "      <th>1</th>\n",
       "      <td>2655495</td>\n",
       "      <td>1442004759591</td>\n",
       "      <td>0</td>\n",
       "      <td>view</td>\n",
       "      <td>357564</td>\n",
       "      <td>-1</td>\n",
       "      <td>2.835867</td>\n",
       "      <td>2.835867</td>\n",
       "      <td>1</td>\n",
       "      <td>0</td>\n",
       "      <td>0</td>\n",
       "      <td>8.0</td>\n",
       "      <td>256.0</td>\n",
       "    </tr>\n",
       "    <tr>\n",
       "      <th>2</th>\n",
       "      <td>2655555</td>\n",
       "      <td>1442004917175</td>\n",
       "      <td>0</td>\n",
       "      <td>view</td>\n",
       "      <td>67045</td>\n",
       "      <td>-1</td>\n",
       "      <td>2.626400</td>\n",
       "      <td>2.626400</td>\n",
       "      <td>1</td>\n",
       "      <td>0</td>\n",
       "      <td>0</td>\n",
       "      <td>8.0</td>\n",
       "      <td>333.0</td>\n",
       "    </tr>\n",
       "    <tr>\n",
       "      <th>3</th>\n",
       "      <td>2731107</td>\n",
       "      <td>1442352267167</td>\n",
       "      <td>4</td>\n",
       "      <td>view</td>\n",
       "      <td>177677</td>\n",
       "      <td>-1</td>\n",
       "      <td>NaN</td>\n",
       "      <td>NaN</td>\n",
       "      <td>2</td>\n",
       "      <td>0</td>\n",
       "      <td>0</td>\n",
       "      <td>0.0</td>\n",
       "      <td>NaN</td>\n",
       "    </tr>\n",
       "    <tr>\n",
       "      <th>4</th>\n",
       "      <td>2422269</td>\n",
       "      <td>1440914628202</td>\n",
       "      <td>6</td>\n",
       "      <td>addtocart</td>\n",
       "      <td>65273</td>\n",
       "      <td>-1</td>\n",
       "      <td>NaN</td>\n",
       "      <td>NaN</td>\n",
       "      <td>3</td>\n",
       "      <td>1</td>\n",
       "      <td>0</td>\n",
       "      <td>0.0</td>\n",
       "      <td>342.0</td>\n",
       "    </tr>\n",
       "  </tbody>\n",
       "</table>\n",
       "</div>"
      ],
      "text/plain": [
       "     index      timestamp  visitorid      event  itemid  transactionid  \\\n",
       "0  2655436  1442004589439          0       view  285930             -1   \n",
       "1  2655495  1442004759591          0       view  357564             -1   \n",
       "2  2655555  1442004917175          0       view   67045             -1   \n",
       "3  2731107  1442352267167          4       view  177677             -1   \n",
       "4  2422269  1440914628202          6  addtocart   65273             -1   \n",
       "\n",
       "      delta    delta1  ssid  event_type  session_transation_type  \\\n",
       "0       NaN       NaN     1           0                        0   \n",
       "1  2.835867  2.835867     1           0                        0   \n",
       "2  2.626400  2.626400     1           0                        0   \n",
       "3       NaN       NaN     2           0                        0   \n",
       "4       NaN       NaN     3           1                        0   \n",
       "\n",
       "   item_cat_dist  item_cat  \n",
       "0            0.0    1188.0  \n",
       "1            8.0     256.0  \n",
       "2            8.0     333.0  \n",
       "3            0.0       NaN  \n",
       "4            0.0     342.0  "
      ]
     },
     "execution_count": 42,
     "metadata": {},
     "output_type": "execute_result"
    }
   ],
   "source": [
    "events.head()"
   ]
  },
  {
   "cell_type": "code",
   "execution_count": null,
   "metadata": {
    "collapsed": true
   },
   "outputs": [],
   "source": []
  },
  {
   "cell_type": "code",
   "execution_count": null,
   "metadata": {
    "collapsed": true
   },
   "outputs": [],
   "source": []
  },
  {
   "cell_type": "markdown",
   "metadata": {},
   "source": [
    "### Итоговый дата сет"
   ]
  },
  {
   "cell_type": "code",
   "execution_count": 43,
   "metadata": {},
   "outputs": [
    {
     "data": {
      "text/plain": [
       "542078"
      ]
     },
     "execution_count": 43,
     "metadata": {},
     "output_type": "execute_result"
    }
   ],
   "source": [
    "#количество событий в сете для классификации\n",
    "events.shape[0]"
   ]
  },
  {
   "cell_type": "code",
   "execution_count": 44,
   "metadata": {},
   "outputs": [
    {
     "data": {
      "text/html": [
       "<div>\n",
       "<style>\n",
       "    .dataframe thead tr:only-child th {\n",
       "        text-align: right;\n",
       "    }\n",
       "\n",
       "    .dataframe thead th {\n",
       "        text-align: left;\n",
       "    }\n",
       "\n",
       "    .dataframe tbody tr th {\n",
       "        vertical-align: top;\n",
       "    }\n",
       "</style>\n",
       "<table border=\"1\" class=\"dataframe\">\n",
       "  <thead>\n",
       "    <tr style=\"text-align: right;\">\n",
       "      <th></th>\n",
       "      <th>index</th>\n",
       "      <th>timestamp</th>\n",
       "      <th>visitorid</th>\n",
       "      <th>event</th>\n",
       "      <th>itemid</th>\n",
       "      <th>transactionid</th>\n",
       "      <th>delta</th>\n",
       "      <th>delta1</th>\n",
       "      <th>ssid</th>\n",
       "      <th>event_type</th>\n",
       "      <th>session_transation_type</th>\n",
       "      <th>item_cat_dist</th>\n",
       "      <th>item_cat</th>\n",
       "    </tr>\n",
       "  </thead>\n",
       "  <tbody>\n",
       "    <tr>\n",
       "      <th>0</th>\n",
       "      <td>2655436</td>\n",
       "      <td>1442004589439</td>\n",
       "      <td>0</td>\n",
       "      <td>view</td>\n",
       "      <td>285930</td>\n",
       "      <td>-1</td>\n",
       "      <td>NaN</td>\n",
       "      <td>NaN</td>\n",
       "      <td>1</td>\n",
       "      <td>0</td>\n",
       "      <td>0</td>\n",
       "      <td>0.0</td>\n",
       "      <td>1188.0</td>\n",
       "    </tr>\n",
       "    <tr>\n",
       "      <th>1</th>\n",
       "      <td>2655495</td>\n",
       "      <td>1442004759591</td>\n",
       "      <td>0</td>\n",
       "      <td>view</td>\n",
       "      <td>357564</td>\n",
       "      <td>-1</td>\n",
       "      <td>2.835867</td>\n",
       "      <td>2.835867</td>\n",
       "      <td>1</td>\n",
       "      <td>0</td>\n",
       "      <td>0</td>\n",
       "      <td>8.0</td>\n",
       "      <td>256.0</td>\n",
       "    </tr>\n",
       "    <tr>\n",
       "      <th>2</th>\n",
       "      <td>2655555</td>\n",
       "      <td>1442004917175</td>\n",
       "      <td>0</td>\n",
       "      <td>view</td>\n",
       "      <td>67045</td>\n",
       "      <td>-1</td>\n",
       "      <td>2.626400</td>\n",
       "      <td>2.626400</td>\n",
       "      <td>1</td>\n",
       "      <td>0</td>\n",
       "      <td>0</td>\n",
       "      <td>8.0</td>\n",
       "      <td>333.0</td>\n",
       "    </tr>\n",
       "    <tr>\n",
       "      <th>3</th>\n",
       "      <td>2731107</td>\n",
       "      <td>1442352267167</td>\n",
       "      <td>4</td>\n",
       "      <td>view</td>\n",
       "      <td>177677</td>\n",
       "      <td>-1</td>\n",
       "      <td>NaN</td>\n",
       "      <td>NaN</td>\n",
       "      <td>2</td>\n",
       "      <td>0</td>\n",
       "      <td>0</td>\n",
       "      <td>0.0</td>\n",
       "      <td>NaN</td>\n",
       "    </tr>\n",
       "    <tr>\n",
       "      <th>4</th>\n",
       "      <td>2422269</td>\n",
       "      <td>1440914628202</td>\n",
       "      <td>6</td>\n",
       "      <td>addtocart</td>\n",
       "      <td>65273</td>\n",
       "      <td>-1</td>\n",
       "      <td>NaN</td>\n",
       "      <td>NaN</td>\n",
       "      <td>3</td>\n",
       "      <td>1</td>\n",
       "      <td>0</td>\n",
       "      <td>0.0</td>\n",
       "      <td>342.0</td>\n",
       "    </tr>\n",
       "  </tbody>\n",
       "</table>\n",
       "</div>"
      ],
      "text/plain": [
       "     index      timestamp  visitorid      event  itemid  transactionid  \\\n",
       "0  2655436  1442004589439          0       view  285930             -1   \n",
       "1  2655495  1442004759591          0       view  357564             -1   \n",
       "2  2655555  1442004917175          0       view   67045             -1   \n",
       "3  2731107  1442352267167          4       view  177677             -1   \n",
       "4  2422269  1440914628202          6  addtocart   65273             -1   \n",
       "\n",
       "      delta    delta1  ssid  event_type  session_transation_type  \\\n",
       "0       NaN       NaN     1           0                        0   \n",
       "1  2.835867  2.835867     1           0                        0   \n",
       "2  2.626400  2.626400     1           0                        0   \n",
       "3       NaN       NaN     2           0                        0   \n",
       "4       NaN       NaN     3           1                        0   \n",
       "\n",
       "   item_cat_dist  item_cat  \n",
       "0            0.0    1188.0  \n",
       "1            8.0     256.0  \n",
       "2            8.0     333.0  \n",
       "3            0.0       NaN  \n",
       "4            0.0     342.0  "
      ]
     },
     "execution_count": 44,
     "metadata": {},
     "output_type": "execute_result"
    }
   ],
   "source": [
    "events.head()"
   ]
  },
  {
   "cell_type": "code",
   "execution_count": 45,
   "metadata": {
    "collapsed": true
   },
   "outputs": [],
   "source": [
    "events = events.sort_values(['ssid', 'timestamp'], ascending=[True, True])"
   ]
  },
  {
   "cell_type": "code",
   "execution_count": 57,
   "metadata": {
    "collapsed": true
   },
   "outputs": [],
   "source": []
  },
  {
   "cell_type": "code",
   "execution_count": null,
   "metadata": {
    "collapsed": true
   },
   "outputs": [],
   "source": []
  },
  {
   "cell_type": "code",
   "execution_count": null,
   "metadata": {
    "collapsed": true
   },
   "outputs": [],
   "source": []
  },
  {
   "cell_type": "code",
   "execution_count": null,
   "metadata": {
    "collapsed": true
   },
   "outputs": [],
   "source": []
  },
  {
   "cell_type": "code",
   "execution_count": null,
   "metadata": {
    "collapsed": true
   },
   "outputs": [],
   "source": []
  },
  {
   "cell_type": "code",
   "execution_count": null,
   "metadata": {
    "collapsed": true
   },
   "outputs": [],
   "source": [
    "#сгруппируем сессии"
   ]
  },
  {
   "cell_type": "code",
   "execution_count": 49,
   "metadata": {},
   "outputs": [
    {
     "name": "stdout",
     "output_type": "stream",
     "text": [
      "CPU times: user 655 ms, sys: 173 ms, total: 829 ms\n",
      "Wall time: 895 ms\n"
     ]
    }
   ],
   "source": [
    "%%time\n",
    "sessions_ =  events[['ssid',\n",
    "                     'delta1',\n",
    "                     'itemid',\n",
    "                     #'session_type',\n",
    "                     'item_cat',\n",
    "                     'event_type',\n",
    "                     'item_cat_dist',\n",
    "                     'session_transation_type'\n",
    "                     ]].groupby('ssid').agg(['mean','count','sum','max','nunique'])"
   ]
  },
  {
   "cell_type": "code",
   "execution_count": 50,
   "metadata": {
    "collapsed": true
   },
   "outputs": [],
   "source": [
    "sessions = sessions_"
   ]
  },
  {
   "cell_type": "code",
   "execution_count": 51,
   "metadata": {},
   "outputs": [
    {
     "data": {
      "text/html": [
       "<div>\n",
       "<style>\n",
       "    .dataframe thead tr:only-child th {\n",
       "        text-align: right;\n",
       "    }\n",
       "\n",
       "    .dataframe thead th {\n",
       "        text-align: left;\n",
       "    }\n",
       "\n",
       "    .dataframe tbody tr th {\n",
       "        vertical-align: top;\n",
       "    }\n",
       "</style>\n",
       "<table border=\"1\" class=\"dataframe\">\n",
       "  <thead>\n",
       "    <tr>\n",
       "      <th></th>\n",
       "      <th colspan=\"5\" halign=\"left\">delta1</th>\n",
       "      <th colspan=\"5\" halign=\"left\">itemid</th>\n",
       "      <th>...</th>\n",
       "      <th colspan=\"5\" halign=\"left\">item_cat_dist</th>\n",
       "      <th colspan=\"5\" halign=\"left\">session_transation_type</th>\n",
       "    </tr>\n",
       "    <tr>\n",
       "      <th></th>\n",
       "      <th>mean</th>\n",
       "      <th>count</th>\n",
       "      <th>sum</th>\n",
       "      <th>max</th>\n",
       "      <th>nunique</th>\n",
       "      <th>mean</th>\n",
       "      <th>count</th>\n",
       "      <th>sum</th>\n",
       "      <th>max</th>\n",
       "      <th>nunique</th>\n",
       "      <th>...</th>\n",
       "      <th>mean</th>\n",
       "      <th>count</th>\n",
       "      <th>sum</th>\n",
       "      <th>max</th>\n",
       "      <th>nunique</th>\n",
       "      <th>mean</th>\n",
       "      <th>count</th>\n",
       "      <th>sum</th>\n",
       "      <th>max</th>\n",
       "      <th>nunique</th>\n",
       "    </tr>\n",
       "    <tr>\n",
       "      <th>ssid</th>\n",
       "      <th></th>\n",
       "      <th></th>\n",
       "      <th></th>\n",
       "      <th></th>\n",
       "      <th></th>\n",
       "      <th></th>\n",
       "      <th></th>\n",
       "      <th></th>\n",
       "      <th></th>\n",
       "      <th></th>\n",
       "      <th></th>\n",
       "      <th></th>\n",
       "      <th></th>\n",
       "      <th></th>\n",
       "      <th></th>\n",
       "      <th></th>\n",
       "      <th></th>\n",
       "      <th></th>\n",
       "      <th></th>\n",
       "      <th></th>\n",
       "      <th></th>\n",
       "    </tr>\n",
       "  </thead>\n",
       "  <tbody>\n",
       "    <tr>\n",
       "      <th>1</th>\n",
       "      <td>2.731133</td>\n",
       "      <td>2</td>\n",
       "      <td>5.462267</td>\n",
       "      <td>2.835867</td>\n",
       "      <td>2</td>\n",
       "      <td>236846.333333</td>\n",
       "      <td>3</td>\n",
       "      <td>710539</td>\n",
       "      <td>357564</td>\n",
       "      <td>3</td>\n",
       "      <td>...</td>\n",
       "      <td>5.333333</td>\n",
       "      <td>3</td>\n",
       "      <td>16.0</td>\n",
       "      <td>8.0</td>\n",
       "      <td>2</td>\n",
       "      <td>0</td>\n",
       "      <td>3</td>\n",
       "      <td>0</td>\n",
       "      <td>0</td>\n",
       "      <td>1</td>\n",
       "    </tr>\n",
       "    <tr>\n",
       "      <th>2</th>\n",
       "      <td>NaN</td>\n",
       "      <td>0</td>\n",
       "      <td>NaN</td>\n",
       "      <td>NaN</td>\n",
       "      <td>0</td>\n",
       "      <td>177677.000000</td>\n",
       "      <td>1</td>\n",
       "      <td>177677</td>\n",
       "      <td>177677</td>\n",
       "      <td>1</td>\n",
       "      <td>...</td>\n",
       "      <td>0.000000</td>\n",
       "      <td>1</td>\n",
       "      <td>0.0</td>\n",
       "      <td>0.0</td>\n",
       "      <td>1</td>\n",
       "      <td>0</td>\n",
       "      <td>1</td>\n",
       "      <td>0</td>\n",
       "      <td>0</td>\n",
       "      <td>1</td>\n",
       "    </tr>\n",
       "    <tr>\n",
       "      <th>3</th>\n",
       "      <td>NaN</td>\n",
       "      <td>0</td>\n",
       "      <td>NaN</td>\n",
       "      <td>NaN</td>\n",
       "      <td>0</td>\n",
       "      <td>65273.000000</td>\n",
       "      <td>1</td>\n",
       "      <td>65273</td>\n",
       "      <td>65273</td>\n",
       "      <td>1</td>\n",
       "      <td>...</td>\n",
       "      <td>0.000000</td>\n",
       "      <td>1</td>\n",
       "      <td>0.0</td>\n",
       "      <td>0.0</td>\n",
       "      <td>1</td>\n",
       "      <td>0</td>\n",
       "      <td>1</td>\n",
       "      <td>0</td>\n",
       "      <td>0</td>\n",
       "      <td>1</td>\n",
       "    </tr>\n",
       "    <tr>\n",
       "      <th>4</th>\n",
       "      <td>5.641778</td>\n",
       "      <td>3</td>\n",
       "      <td>16.925333</td>\n",
       "      <td>13.759667</td>\n",
       "      <td>3</td>\n",
       "      <td>321946.000000</td>\n",
       "      <td>4</td>\n",
       "      <td>1287784</td>\n",
       "      <td>344723</td>\n",
       "      <td>2</td>\n",
       "      <td>...</td>\n",
       "      <td>0.000000</td>\n",
       "      <td>4</td>\n",
       "      <td>0.0</td>\n",
       "      <td>0.0</td>\n",
       "      <td>1</td>\n",
       "      <td>0</td>\n",
       "      <td>4</td>\n",
       "      <td>0</td>\n",
       "      <td>0</td>\n",
       "      <td>1</td>\n",
       "    </tr>\n",
       "    <tr>\n",
       "      <th>5</th>\n",
       "      <td>NaN</td>\n",
       "      <td>0</td>\n",
       "      <td>NaN</td>\n",
       "      <td>NaN</td>\n",
       "      <td>0</td>\n",
       "      <td>344723.000000</td>\n",
       "      <td>1</td>\n",
       "      <td>344723</td>\n",
       "      <td>344723</td>\n",
       "      <td>1</td>\n",
       "      <td>...</td>\n",
       "      <td>0.000000</td>\n",
       "      <td>1</td>\n",
       "      <td>0.0</td>\n",
       "      <td>0.0</td>\n",
       "      <td>1</td>\n",
       "      <td>0</td>\n",
       "      <td>1</td>\n",
       "      <td>0</td>\n",
       "      <td>0</td>\n",
       "      <td>1</td>\n",
       "    </tr>\n",
       "  </tbody>\n",
       "</table>\n",
       "<p>5 rows × 30 columns</p>\n",
       "</div>"
      ],
      "text/plain": [
       "        delta1                                             itemid        \\\n",
       "          mean count        sum        max nunique           mean count   \n",
       "ssid                                                                      \n",
       "1     2.731133     2   5.462267   2.835867       2  236846.333333     3   \n",
       "2          NaN     0        NaN        NaN       0  177677.000000     1   \n",
       "3          NaN     0        NaN        NaN       0   65273.000000     1   \n",
       "4     5.641778     3  16.925333  13.759667       3  321946.000000     4   \n",
       "5          NaN     0        NaN        NaN       0  344723.000000     1   \n",
       "\n",
       "                                ...   item_cat_dist                           \\\n",
       "          sum     max nunique   ...            mean count   sum  max nunique   \n",
       "ssid                            ...                                            \n",
       "1      710539  357564       3   ...        5.333333     3  16.0  8.0       2   \n",
       "2      177677  177677       1   ...        0.000000     1   0.0  0.0       1   \n",
       "3       65273   65273       1   ...        0.000000     1   0.0  0.0       1   \n",
       "4     1287784  344723       2   ...        0.000000     4   0.0  0.0       1   \n",
       "5      344723  344723       1   ...        0.000000     1   0.0  0.0       1   \n",
       "\n",
       "     session_transation_type                        \n",
       "                        mean count sum max nunique  \n",
       "ssid                                                \n",
       "1                          0     3   0   0       1  \n",
       "2                          0     1   0   0       1  \n",
       "3                          0     1   0   0       1  \n",
       "4                          0     4   0   0       1  \n",
       "5                          0     1   0   0       1  \n",
       "\n",
       "[5 rows x 30 columns]"
      ]
     },
     "execution_count": 51,
     "metadata": {},
     "output_type": "execute_result"
    }
   ],
   "source": [
    "sessions_.head()"
   ]
  },
  {
   "cell_type": "code",
   "execution_count": 52,
   "metadata": {},
   "outputs": [
    {
     "data": {
      "text/html": [
       "<div>\n",
       "<style>\n",
       "    .dataframe thead tr:only-child th {\n",
       "        text-align: right;\n",
       "    }\n",
       "\n",
       "    .dataframe thead th {\n",
       "        text-align: left;\n",
       "    }\n",
       "\n",
       "    .dataframe tbody tr th {\n",
       "        vertical-align: top;\n",
       "    }\n",
       "</style>\n",
       "<table border=\"1\" class=\"dataframe\">\n",
       "  <thead>\n",
       "    <tr>\n",
       "      <th></th>\n",
       "      <th colspan=\"5\" halign=\"left\">delta1</th>\n",
       "      <th colspan=\"5\" halign=\"left\">itemid</th>\n",
       "      <th>...</th>\n",
       "      <th colspan=\"5\" halign=\"left\">item_cat_dist</th>\n",
       "      <th colspan=\"5\" halign=\"left\">session_transation_type</th>\n",
       "    </tr>\n",
       "    <tr>\n",
       "      <th></th>\n",
       "      <th>mean</th>\n",
       "      <th>count</th>\n",
       "      <th>sum</th>\n",
       "      <th>max</th>\n",
       "      <th>nunique</th>\n",
       "      <th>mean</th>\n",
       "      <th>count</th>\n",
       "      <th>sum</th>\n",
       "      <th>max</th>\n",
       "      <th>nunique</th>\n",
       "      <th>...</th>\n",
       "      <th>mean</th>\n",
       "      <th>count</th>\n",
       "      <th>sum</th>\n",
       "      <th>max</th>\n",
       "      <th>nunique</th>\n",
       "      <th>mean</th>\n",
       "      <th>count</th>\n",
       "      <th>sum</th>\n",
       "      <th>max</th>\n",
       "      <th>nunique</th>\n",
       "    </tr>\n",
       "    <tr>\n",
       "      <th>ssid</th>\n",
       "      <th></th>\n",
       "      <th></th>\n",
       "      <th></th>\n",
       "      <th></th>\n",
       "      <th></th>\n",
       "      <th></th>\n",
       "      <th></th>\n",
       "      <th></th>\n",
       "      <th></th>\n",
       "      <th></th>\n",
       "      <th></th>\n",
       "      <th></th>\n",
       "      <th></th>\n",
       "      <th></th>\n",
       "      <th></th>\n",
       "      <th></th>\n",
       "      <th></th>\n",
       "      <th></th>\n",
       "      <th></th>\n",
       "      <th></th>\n",
       "      <th></th>\n",
       "    </tr>\n",
       "  </thead>\n",
       "  <tbody>\n",
       "    <tr>\n",
       "      <th>1</th>\n",
       "      <td>2.731133</td>\n",
       "      <td>2</td>\n",
       "      <td>5.462267</td>\n",
       "      <td>2.835867</td>\n",
       "      <td>2</td>\n",
       "      <td>236846.333333</td>\n",
       "      <td>3</td>\n",
       "      <td>710539</td>\n",
       "      <td>357564</td>\n",
       "      <td>3</td>\n",
       "      <td>...</td>\n",
       "      <td>5.333333</td>\n",
       "      <td>3</td>\n",
       "      <td>16.0</td>\n",
       "      <td>8.0</td>\n",
       "      <td>2</td>\n",
       "      <td>0</td>\n",
       "      <td>3</td>\n",
       "      <td>0</td>\n",
       "      <td>0</td>\n",
       "      <td>1</td>\n",
       "    </tr>\n",
       "    <tr>\n",
       "      <th>2</th>\n",
       "      <td>NaN</td>\n",
       "      <td>0</td>\n",
       "      <td>NaN</td>\n",
       "      <td>NaN</td>\n",
       "      <td>0</td>\n",
       "      <td>177677.000000</td>\n",
       "      <td>1</td>\n",
       "      <td>177677</td>\n",
       "      <td>177677</td>\n",
       "      <td>1</td>\n",
       "      <td>...</td>\n",
       "      <td>0.000000</td>\n",
       "      <td>1</td>\n",
       "      <td>0.0</td>\n",
       "      <td>0.0</td>\n",
       "      <td>1</td>\n",
       "      <td>0</td>\n",
       "      <td>1</td>\n",
       "      <td>0</td>\n",
       "      <td>0</td>\n",
       "      <td>1</td>\n",
       "    </tr>\n",
       "    <tr>\n",
       "      <th>3</th>\n",
       "      <td>NaN</td>\n",
       "      <td>0</td>\n",
       "      <td>NaN</td>\n",
       "      <td>NaN</td>\n",
       "      <td>0</td>\n",
       "      <td>65273.000000</td>\n",
       "      <td>1</td>\n",
       "      <td>65273</td>\n",
       "      <td>65273</td>\n",
       "      <td>1</td>\n",
       "      <td>...</td>\n",
       "      <td>0.000000</td>\n",
       "      <td>1</td>\n",
       "      <td>0.0</td>\n",
       "      <td>0.0</td>\n",
       "      <td>1</td>\n",
       "      <td>0</td>\n",
       "      <td>1</td>\n",
       "      <td>0</td>\n",
       "      <td>0</td>\n",
       "      <td>1</td>\n",
       "    </tr>\n",
       "    <tr>\n",
       "      <th>4</th>\n",
       "      <td>5.641778</td>\n",
       "      <td>3</td>\n",
       "      <td>16.925333</td>\n",
       "      <td>13.759667</td>\n",
       "      <td>3</td>\n",
       "      <td>321946.000000</td>\n",
       "      <td>4</td>\n",
       "      <td>1287784</td>\n",
       "      <td>344723</td>\n",
       "      <td>2</td>\n",
       "      <td>...</td>\n",
       "      <td>0.000000</td>\n",
       "      <td>4</td>\n",
       "      <td>0.0</td>\n",
       "      <td>0.0</td>\n",
       "      <td>1</td>\n",
       "      <td>0</td>\n",
       "      <td>4</td>\n",
       "      <td>0</td>\n",
       "      <td>0</td>\n",
       "      <td>1</td>\n",
       "    </tr>\n",
       "    <tr>\n",
       "      <th>5</th>\n",
       "      <td>NaN</td>\n",
       "      <td>0</td>\n",
       "      <td>NaN</td>\n",
       "      <td>NaN</td>\n",
       "      <td>0</td>\n",
       "      <td>344723.000000</td>\n",
       "      <td>1</td>\n",
       "      <td>344723</td>\n",
       "      <td>344723</td>\n",
       "      <td>1</td>\n",
       "      <td>...</td>\n",
       "      <td>0.000000</td>\n",
       "      <td>1</td>\n",
       "      <td>0.0</td>\n",
       "      <td>0.0</td>\n",
       "      <td>1</td>\n",
       "      <td>0</td>\n",
       "      <td>1</td>\n",
       "      <td>0</td>\n",
       "      <td>0</td>\n",
       "      <td>1</td>\n",
       "    </tr>\n",
       "  </tbody>\n",
       "</table>\n",
       "<p>5 rows × 30 columns</p>\n",
       "</div>"
      ],
      "text/plain": [
       "        delta1                                             itemid        \\\n",
       "          mean count        sum        max nunique           mean count   \n",
       "ssid                                                                      \n",
       "1     2.731133     2   5.462267   2.835867       2  236846.333333     3   \n",
       "2          NaN     0        NaN        NaN       0  177677.000000     1   \n",
       "3          NaN     0        NaN        NaN       0   65273.000000     1   \n",
       "4     5.641778     3  16.925333  13.759667       3  321946.000000     4   \n",
       "5          NaN     0        NaN        NaN       0  344723.000000     1   \n",
       "\n",
       "                                ...   item_cat_dist                           \\\n",
       "          sum     max nunique   ...            mean count   sum  max nunique   \n",
       "ssid                            ...                                            \n",
       "1      710539  357564       3   ...        5.333333     3  16.0  8.0       2   \n",
       "2      177677  177677       1   ...        0.000000     1   0.0  0.0       1   \n",
       "3       65273   65273       1   ...        0.000000     1   0.0  0.0       1   \n",
       "4     1287784  344723       2   ...        0.000000     4   0.0  0.0       1   \n",
       "5      344723  344723       1   ...        0.000000     1   0.0  0.0       1   \n",
       "\n",
       "     session_transation_type                        \n",
       "                        mean count sum max nunique  \n",
       "ssid                                                \n",
       "1                          0     3   0   0       1  \n",
       "2                          0     1   0   0       1  \n",
       "3                          0     1   0   0       1  \n",
       "4                          0     4   0   0       1  \n",
       "5                          0     1   0   0       1  \n",
       "\n",
       "[5 rows x 30 columns]"
      ]
     },
     "execution_count": 52,
     "metadata": {},
     "output_type": "execute_result"
    }
   ],
   "source": [
    "sessions.head(5)"
   ]
  },
  {
   "cell_type": "code",
   "execution_count": 53,
   "metadata": {},
   "outputs": [
    {
     "data": {
      "text/plain": [
       "1    356490\n",
       "2      6066\n",
       "3      2224\n",
       "Name: nunique, dtype: int64"
      ]
     },
     "execution_count": 53,
     "metadata": {},
     "output_type": "execute_result"
    }
   ],
   "source": [
    "sessions_['event_type']['nunique'].value_counts()"
   ]
  },
  {
   "cell_type": "code",
   "execution_count": 54,
   "metadata": {
    "collapsed": true
   },
   "outputs": [],
   "source": [
    "sessions = sessions.reset_index()"
   ]
  },
  {
   "cell_type": "code",
   "execution_count": 55,
   "metadata": {
    "collapsed": true
   },
   "outputs": [],
   "source": [
    "sessions['count'] = sessions['itemid']['count']"
   ]
  },
  {
   "cell_type": "code",
   "execution_count": 56,
   "metadata": {
    "collapsed": true
   },
   "outputs": [],
   "source": [
    "sessions['items_unique'] = sessions['itemid']['nunique']"
   ]
  },
  {
   "cell_type": "code",
   "execution_count": 57,
   "metadata": {},
   "outputs": [
    {
     "name": "stderr",
     "output_type": "stream",
     "text": [
      "/Users/sattarov-a/Documents/DEV/Python/NETOLOGY_DS/anaconda/envs/DS1/lib/python3.6/site-packages/ipykernel_launcher.py:1: PerformanceWarning: dropping on a non-lexsorted multi-index without a level parameter may impact performance.\n",
      "  \"\"\"Entry point for launching an IPython kernel.\n"
     ]
    }
   ],
   "source": [
    "sessions = sessions.drop(['itemid'],axis=1)"
   ]
  },
  {
   "cell_type": "code",
   "execution_count": 61,
   "metadata": {
    "collapsed": true
   },
   "outputs": [],
   "source": [
    "sessions['sessions_len'] = sessions['delta1']['sum']\n",
    "sessions['delta_mean'] = sessions['delta1']['mean']"
   ]
  },
  {
   "cell_type": "code",
   "execution_count": null,
   "metadata": {
    "collapsed": true
   },
   "outputs": [],
   "source": [
    "\n",
    "# 0.25    0.917700\n",
    "# 0.50    2.906800\n",
    "# 0.75    9.170033"
   ]
  },
  {
   "cell_type": "code",
   "execution_count": 63,
   "metadata": {
    "collapsed": true
   },
   "outputs": [],
   "source": [
    "sessions['ssid_type'] = 0"
   ]
  },
  {
   "cell_type": "code",
   "execution_count": 69,
   "metadata": {},
   "outputs": [],
   "source": [
    "sessions.loc[sessions['sessions_len'] <= 0.917700,['ssid_type']] = 0\n",
    "sessions.loc[(sessions['sessions_len'] > 0.917700)&(sessions['sessions_len'] <= 9.170033),['ssid_type']] = 1\n",
    "sessions.loc[sessions['sessions_len'] > 9.170033,['ssid_type']] = 2"
   ]
  },
  {
   "cell_type": "code",
   "execution_count": null,
   "metadata": {},
   "outputs": [],
   "source": []
  },
  {
   "cell_type": "code",
   "execution_count": null,
   "metadata": {},
   "outputs": [],
   "source": []
  },
  {
   "cell_type": "code",
   "execution_count": 70,
   "metadata": {},
   "outputs": [
    {
     "name": "stderr",
     "output_type": "stream",
     "text": [
      "/Users/sattarov-a/Documents/DEV/Python/NETOLOGY_DS/anaconda/envs/DS1/lib/python3.6/site-packages/ipykernel_launcher.py:1: PerformanceWarning: dropping on a non-lexsorted multi-index without a level parameter may impact performance.\n",
      "  \"\"\"Entry point for launching an IPython kernel.\n"
     ]
    }
   ],
   "source": [
    "sessions = sessions.drop(['delta1'],axis=1)"
   ]
  },
  {
   "cell_type": "code",
   "execution_count": 71,
   "metadata": {},
   "outputs": [
    {
     "name": "stderr",
     "output_type": "stream",
     "text": [
      "/Users/sattarov-a/Documents/DEV/Python/NETOLOGY_DS/anaconda/envs/DS1/lib/python3.6/site-packages/ipykernel_launcher.py:2: PerformanceWarning: dropping on a non-lexsorted multi-index without a level parameter may impact performance.\n",
      "  \n"
     ]
    }
   ],
   "source": [
    "sessions['categories'] = sessions['item_cat']['nunique']\n",
    "sessions = sessions.drop(['item_cat'],axis=1)"
   ]
  },
  {
   "cell_type": "code",
   "execution_count": 72,
   "metadata": {},
   "outputs": [
    {
     "name": "stderr",
     "output_type": "stream",
     "text": [
      "/Users/sattarov-a/Documents/DEV/Python/NETOLOGY_DS/anaconda/envs/DS1/lib/python3.6/site-packages/ipykernel_launcher.py:2: PerformanceWarning: dropping on a non-lexsorted multi-index without a level parameter may impact performance.\n",
      "  \n"
     ]
    }
   ],
   "source": [
    "sessions['event_type_nu'] = sessions['event_type']['nunique']\n",
    "sessions = sessions.drop(['event_type'],axis=1)"
   ]
  },
  {
   "cell_type": "code",
   "execution_count": 73,
   "metadata": {},
   "outputs": [
    {
     "name": "stderr",
     "output_type": "stream",
     "text": [
      "/Users/sattarov-a/Documents/DEV/Python/NETOLOGY_DS/anaconda/envs/DS1/lib/python3.6/site-packages/ipykernel_launcher.py:4: PerformanceWarning: dropping on a non-lexsorted multi-index without a level parameter may impact performance.\n",
      "  after removing the cwd from sys.path.\n"
     ]
    }
   ],
   "source": [
    "sessions['dist1_mean'] = sessions['item_cat_dist']['mean']\n",
    "sessions['dist1_max'] = sessions['item_cat_dist']['max']\n",
    "sessions['dist1_sum'] = sessions['item_cat_dist']['sum']\n",
    "sessions = sessions.drop(['item_cat_dist'],axis=1)"
   ]
  },
  {
   "cell_type": "code",
   "execution_count": 74,
   "metadata": {
    "collapsed": true
   },
   "outputs": [],
   "source": [
    "sessions['target'] = sessions['session_transation_type']['max']"
   ]
  },
  {
   "cell_type": "code",
   "execution_count": 75,
   "metadata": {},
   "outputs": [
    {
     "name": "stderr",
     "output_type": "stream",
     "text": [
      "/Users/sattarov-a/Documents/DEV/Python/NETOLOGY_DS/anaconda/envs/DS1/lib/python3.6/site-packages/ipykernel_launcher.py:1: PerformanceWarning: dropping on a non-lexsorted multi-index without a level parameter may impact performance.\n",
      "  \"\"\"Entry point for launching an IPython kernel.\n"
     ]
    }
   ],
   "source": [
    "sessions = sessions.drop(['session_transation_type'],axis=1)"
   ]
  },
  {
   "cell_type": "code",
   "execution_count": 76,
   "metadata": {
    "collapsed": true
   },
   "outputs": [],
   "source": [
    "#!!\n",
    "sessions['event_type_nu'] = sessions['event_type_nu'].replace({1: 0, 2: 1, 3: 1})"
   ]
  },
  {
   "cell_type": "code",
   "execution_count": 77,
   "metadata": {},
   "outputs": [
    {
     "data": {
      "text/plain": [
       "0    361828\n",
       "1      2952\n",
       "Name: target, dtype: int64"
      ]
     },
     "execution_count": 77,
     "metadata": {},
     "output_type": "execute_result"
    }
   ],
   "source": [
    "sessions['target'].value_counts()"
   ]
  },
  {
   "cell_type": "code",
   "execution_count": 78,
   "metadata": {},
   "outputs": [
    {
     "data": {
      "text/plain": [
       "364780"
      ]
     },
     "execution_count": 78,
     "metadata": {},
     "output_type": "execute_result"
    }
   ],
   "source": [
    "sessions.shape[0]"
   ]
  },
  {
   "cell_type": "code",
   "execution_count": 79,
   "metadata": {},
   "outputs": [
    {
     "data": {
      "text/plain": [
       "2952"
      ]
     },
     "execution_count": 79,
     "metadata": {},
     "output_type": "execute_result"
    }
   ],
   "source": [
    "sessions.loc[sessions.target > 0].shape[0]"
   ]
  },
  {
   "cell_type": "code",
   "execution_count": null,
   "metadata": {
    "collapsed": true
   },
   "outputs": [],
   "source": []
  },
  {
   "cell_type": "code",
   "execution_count": null,
   "metadata": {
    "collapsed": true
   },
   "outputs": [],
   "source": []
  },
  {
   "cell_type": "code",
   "execution_count": 80,
   "metadata": {},
   "outputs": [
    {
     "data": {
      "text/html": [
       "<div>\n",
       "<style>\n",
       "    .dataframe thead tr:only-child th {\n",
       "        text-align: right;\n",
       "    }\n",
       "\n",
       "    .dataframe thead th {\n",
       "        text-align: left;\n",
       "    }\n",
       "\n",
       "    .dataframe tbody tr th {\n",
       "        vertical-align: top;\n",
       "    }\n",
       "</style>\n",
       "<table border=\"1\" class=\"dataframe\">\n",
       "  <thead>\n",
       "    <tr>\n",
       "      <th></th>\n",
       "      <th>ssid</th>\n",
       "      <th>count</th>\n",
       "      <th>items_unique</th>\n",
       "      <th>sessions_len</th>\n",
       "      <th>delta_mean</th>\n",
       "      <th>ssid_type</th>\n",
       "      <th>categories</th>\n",
       "      <th>event_type_nu</th>\n",
       "      <th>dist1_mean</th>\n",
       "      <th>dist1_max</th>\n",
       "      <th>dist1_sum</th>\n",
       "      <th>target</th>\n",
       "    </tr>\n",
       "    <tr>\n",
       "      <th></th>\n",
       "      <th></th>\n",
       "      <th></th>\n",
       "      <th></th>\n",
       "      <th></th>\n",
       "      <th></th>\n",
       "      <th></th>\n",
       "      <th></th>\n",
       "      <th></th>\n",
       "      <th></th>\n",
       "      <th></th>\n",
       "      <th></th>\n",
       "      <th></th>\n",
       "    </tr>\n",
       "  </thead>\n",
       "  <tbody>\n",
       "    <tr>\n",
       "      <th>0</th>\n",
       "      <td>1</td>\n",
       "      <td>3</td>\n",
       "      <td>3</td>\n",
       "      <td>5.462267</td>\n",
       "      <td>2.731133</td>\n",
       "      <td>1</td>\n",
       "      <td>3</td>\n",
       "      <td>0</td>\n",
       "      <td>5.333333</td>\n",
       "      <td>8.0</td>\n",
       "      <td>16.0</td>\n",
       "      <td>0</td>\n",
       "    </tr>\n",
       "    <tr>\n",
       "      <th>1</th>\n",
       "      <td>2</td>\n",
       "      <td>1</td>\n",
       "      <td>1</td>\n",
       "      <td>NaN</td>\n",
       "      <td>NaN</td>\n",
       "      <td>0</td>\n",
       "      <td>0</td>\n",
       "      <td>0</td>\n",
       "      <td>0.000000</td>\n",
       "      <td>0.0</td>\n",
       "      <td>0.0</td>\n",
       "      <td>0</td>\n",
       "    </tr>\n",
       "    <tr>\n",
       "      <th>2</th>\n",
       "      <td>3</td>\n",
       "      <td>1</td>\n",
       "      <td>1</td>\n",
       "      <td>NaN</td>\n",
       "      <td>NaN</td>\n",
       "      <td>0</td>\n",
       "      <td>1</td>\n",
       "      <td>0</td>\n",
       "      <td>0.000000</td>\n",
       "      <td>0.0</td>\n",
       "      <td>0.0</td>\n",
       "      <td>0</td>\n",
       "    </tr>\n",
       "    <tr>\n",
       "      <th>3</th>\n",
       "      <td>4</td>\n",
       "      <td>4</td>\n",
       "      <td>2</td>\n",
       "      <td>16.925333</td>\n",
       "      <td>5.641778</td>\n",
       "      <td>2</td>\n",
       "      <td>1</td>\n",
       "      <td>0</td>\n",
       "      <td>0.000000</td>\n",
       "      <td>0.0</td>\n",
       "      <td>0.0</td>\n",
       "      <td>0</td>\n",
       "    </tr>\n",
       "    <tr>\n",
       "      <th>4</th>\n",
       "      <td>5</td>\n",
       "      <td>1</td>\n",
       "      <td>1</td>\n",
       "      <td>NaN</td>\n",
       "      <td>NaN</td>\n",
       "      <td>0</td>\n",
       "      <td>1</td>\n",
       "      <td>0</td>\n",
       "      <td>0.000000</td>\n",
       "      <td>0.0</td>\n",
       "      <td>0.0</td>\n",
       "      <td>0</td>\n",
       "    </tr>\n",
       "  </tbody>\n",
       "</table>\n",
       "</div>"
      ],
      "text/plain": [
       "  ssid count items_unique sessions_len delta_mean ssid_type categories  \\\n",
       "                                                                         \n",
       "0    1     3            3     5.462267   2.731133         1          3   \n",
       "1    2     1            1          NaN        NaN         0          0   \n",
       "2    3     1            1          NaN        NaN         0          1   \n",
       "3    4     4            2    16.925333   5.641778         2          1   \n",
       "4    5     1            1          NaN        NaN         0          1   \n",
       "\n",
       "  event_type_nu dist1_mean dist1_max dist1_sum target  \n",
       "                                                       \n",
       "0             0   5.333333       8.0      16.0      0  \n",
       "1             0   0.000000       0.0       0.0      0  \n",
       "2             0   0.000000       0.0       0.0      0  \n",
       "3             0   0.000000       0.0       0.0      0  \n",
       "4             0   0.000000       0.0       0.0      0  "
      ]
     },
     "execution_count": 80,
     "metadata": {},
     "output_type": "execute_result"
    }
   ],
   "source": [
    "sessions.head()"
   ]
  },
  {
   "cell_type": "code",
   "execution_count": null,
   "metadata": {
    "collapsed": true
   },
   "outputs": [],
   "source": []
  },
  {
   "cell_type": "code",
   "execution_count": 81,
   "metadata": {
    "collapsed": true
   },
   "outputs": [],
   "source": [
    "sessions_ = sessions.loc[sessions['count'] > 1]\n",
    "# выкинем единичные сессии"
   ]
  },
  {
   "cell_type": "code",
   "execution_count": 82,
   "metadata": {},
   "outputs": [
    {
     "data": {
      "text/plain": [
       "76224"
      ]
     },
     "execution_count": 82,
     "metadata": {},
     "output_type": "execute_result"
    }
   ],
   "source": [
    "sessions_.shape[0]"
   ]
  },
  {
   "cell_type": "code",
   "execution_count": 83,
   "metadata": {
    "collapsed": true
   },
   "outputs": [],
   "source": [
    "data = sessions_.drop(['ssid'], axis=1)"
   ]
  },
  {
   "cell_type": "code",
   "execution_count": 84,
   "metadata": {},
   "outputs": [
    {
     "data": {
      "text/html": [
       "<div>\n",
       "<style>\n",
       "    .dataframe thead tr:only-child th {\n",
       "        text-align: right;\n",
       "    }\n",
       "\n",
       "    .dataframe thead th {\n",
       "        text-align: left;\n",
       "    }\n",
       "\n",
       "    .dataframe tbody tr th {\n",
       "        vertical-align: top;\n",
       "    }\n",
       "</style>\n",
       "<table border=\"1\" class=\"dataframe\">\n",
       "  <thead>\n",
       "    <tr>\n",
       "      <th></th>\n",
       "      <th></th>\n",
       "      <th>count</th>\n",
       "      <th>items_unique</th>\n",
       "      <th>sessions_len</th>\n",
       "      <th>delta_mean</th>\n",
       "      <th>ssid_type</th>\n",
       "      <th>categories</th>\n",
       "      <th>event_type_nu</th>\n",
       "      <th>dist1_mean</th>\n",
       "      <th>dist1_max</th>\n",
       "      <th>dist1_sum</th>\n",
       "      <th>target</th>\n",
       "    </tr>\n",
       "    <tr>\n",
       "      <th></th>\n",
       "      <th></th>\n",
       "      <th></th>\n",
       "      <th></th>\n",
       "      <th></th>\n",
       "      <th></th>\n",
       "      <th></th>\n",
       "      <th></th>\n",
       "      <th></th>\n",
       "      <th></th>\n",
       "      <th></th>\n",
       "      <th></th>\n",
       "      <th></th>\n",
       "    </tr>\n",
       "  </thead>\n",
       "  <tbody>\n",
       "    <tr>\n",
       "      <th>count</th>\n",
       "      <th></th>\n",
       "      <td>1.000000</td>\n",
       "      <td>0.921024</td>\n",
       "      <td>0.608265</td>\n",
       "      <td>-0.061773</td>\n",
       "      <td>0.287868</td>\n",
       "      <td>0.593901</td>\n",
       "      <td>0.159799</td>\n",
       "      <td>0.201090</td>\n",
       "      <td>0.274547</td>\n",
       "      <td>0.741726</td>\n",
       "      <td>0.106776</td>\n",
       "    </tr>\n",
       "    <tr>\n",
       "      <th>items_unique</th>\n",
       "      <th></th>\n",
       "      <td>0.921024</td>\n",
       "      <td>1.000000</td>\n",
       "      <td>0.512803</td>\n",
       "      <td>-0.067653</td>\n",
       "      <td>0.219857</td>\n",
       "      <td>0.612625</td>\n",
       "      <td>0.029351</td>\n",
       "      <td>0.256638</td>\n",
       "      <td>0.314680</td>\n",
       "      <td>0.755494</td>\n",
       "      <td>0.009230</td>\n",
       "    </tr>\n",
       "    <tr>\n",
       "      <th>sessions_len</th>\n",
       "      <th></th>\n",
       "      <td>0.608265</td>\n",
       "      <td>0.512803</td>\n",
       "      <td>1.000000</td>\n",
       "      <td>0.507260</td>\n",
       "      <td>0.611799</td>\n",
       "      <td>0.524832</td>\n",
       "      <td>0.117250</td>\n",
       "      <td>0.213656</td>\n",
       "      <td>0.257400</td>\n",
       "      <td>0.505773</td>\n",
       "      <td>0.122836</td>\n",
       "    </tr>\n",
       "    <tr>\n",
       "      <th>delta_mean</th>\n",
       "      <th></th>\n",
       "      <td>-0.061773</td>\n",
       "      <td>-0.067653</td>\n",
       "      <td>0.507260</td>\n",
       "      <td>1.000000</td>\n",
       "      <td>0.625988</td>\n",
       "      <td>-0.012028</td>\n",
       "      <td>-0.057741</td>\n",
       "      <td>0.023297</td>\n",
       "      <td>0.011666</td>\n",
       "      <td>-0.012467</td>\n",
       "      <td>-0.001522</td>\n",
       "    </tr>\n",
       "    <tr>\n",
       "      <th>ssid_type</th>\n",
       "      <th></th>\n",
       "      <td>0.287868</td>\n",
       "      <td>0.219857</td>\n",
       "      <td>0.611799</td>\n",
       "      <td>0.625988</td>\n",
       "      <td>1.000000</td>\n",
       "      <td>0.180930</td>\n",
       "      <td>0.094922</td>\n",
       "      <td>0.163955</td>\n",
       "      <td>0.211544</td>\n",
       "      <td>0.171096</td>\n",
       "      <td>0.119074</td>\n",
       "    </tr>\n",
       "    <tr>\n",
       "      <th>categories</th>\n",
       "      <th></th>\n",
       "      <td>0.593901</td>\n",
       "      <td>0.612625</td>\n",
       "      <td>0.524832</td>\n",
       "      <td>-0.012028</td>\n",
       "      <td>0.180930</td>\n",
       "      <td>1.000000</td>\n",
       "      <td>0.081940</td>\n",
       "      <td>0.572177</td>\n",
       "      <td>0.546043</td>\n",
       "      <td>0.851116</td>\n",
       "      <td>0.061417</td>\n",
       "    </tr>\n",
       "    <tr>\n",
       "      <th>event_type_nu</th>\n",
       "      <th></th>\n",
       "      <td>0.159799</td>\n",
       "      <td>0.029351</td>\n",
       "      <td>0.117250</td>\n",
       "      <td>-0.057741</td>\n",
       "      <td>0.094922</td>\n",
       "      <td>0.081940</td>\n",
       "      <td>1.000000</td>\n",
       "      <td>0.008137</td>\n",
       "      <td>0.054036</td>\n",
       "      <td>0.070130</td>\n",
       "      <td>0.555798</td>\n",
       "    </tr>\n",
       "    <tr>\n",
       "      <th>dist1_mean</th>\n",
       "      <th></th>\n",
       "      <td>0.201090</td>\n",
       "      <td>0.256638</td>\n",
       "      <td>0.213656</td>\n",
       "      <td>0.023297</td>\n",
       "      <td>0.163955</td>\n",
       "      <td>0.572177</td>\n",
       "      <td>0.008137</td>\n",
       "      <td>1.000000</td>\n",
       "      <td>0.928695</td>\n",
       "      <td>0.489877</td>\n",
       "      <td>0.004980</td>\n",
       "    </tr>\n",
       "    <tr>\n",
       "      <th>dist1_max</th>\n",
       "      <th></th>\n",
       "      <td>0.274547</td>\n",
       "      <td>0.314680</td>\n",
       "      <td>0.257400</td>\n",
       "      <td>0.011666</td>\n",
       "      <td>0.211544</td>\n",
       "      <td>0.546043</td>\n",
       "      <td>0.054036</td>\n",
       "      <td>0.928695</td>\n",
       "      <td>1.000000</td>\n",
       "      <td>0.458162</td>\n",
       "      <td>0.027206</td>\n",
       "    </tr>\n",
       "    <tr>\n",
       "      <th>dist1_sum</th>\n",
       "      <th></th>\n",
       "      <td>0.741726</td>\n",
       "      <td>0.755494</td>\n",
       "      <td>0.505773</td>\n",
       "      <td>-0.012467</td>\n",
       "      <td>0.171096</td>\n",
       "      <td>0.851116</td>\n",
       "      <td>0.070130</td>\n",
       "      <td>0.489877</td>\n",
       "      <td>0.458162</td>\n",
       "      <td>1.000000</td>\n",
       "      <td>0.052561</td>\n",
       "    </tr>\n",
       "    <tr>\n",
       "      <th>target</th>\n",
       "      <th></th>\n",
       "      <td>0.106776</td>\n",
       "      <td>0.009230</td>\n",
       "      <td>0.122836</td>\n",
       "      <td>-0.001522</td>\n",
       "      <td>0.119074</td>\n",
       "      <td>0.061417</td>\n",
       "      <td>0.555798</td>\n",
       "      <td>0.004980</td>\n",
       "      <td>0.027206</td>\n",
       "      <td>0.052561</td>\n",
       "      <td>1.000000</td>\n",
       "    </tr>\n",
       "  </tbody>\n",
       "</table>\n",
       "</div>"
      ],
      "text/plain": [
       "                   count items_unique sessions_len delta_mean ssid_type  \\\n",
       "                                                                          \n",
       "count           1.000000     0.921024     0.608265  -0.061773  0.287868   \n",
       "items_unique    0.921024     1.000000     0.512803  -0.067653  0.219857   \n",
       "sessions_len    0.608265     0.512803     1.000000   0.507260  0.611799   \n",
       "delta_mean     -0.061773    -0.067653     0.507260   1.000000  0.625988   \n",
       "ssid_type       0.287868     0.219857     0.611799   0.625988  1.000000   \n",
       "categories      0.593901     0.612625     0.524832  -0.012028  0.180930   \n",
       "event_type_nu   0.159799     0.029351     0.117250  -0.057741  0.094922   \n",
       "dist1_mean      0.201090     0.256638     0.213656   0.023297  0.163955   \n",
       "dist1_max       0.274547     0.314680     0.257400   0.011666  0.211544   \n",
       "dist1_sum       0.741726     0.755494     0.505773  -0.012467  0.171096   \n",
       "target          0.106776     0.009230     0.122836  -0.001522  0.119074   \n",
       "\n",
       "               categories event_type_nu dist1_mean dist1_max dist1_sum  \\\n",
       "                                                                         \n",
       "count            0.593901      0.159799   0.201090  0.274547  0.741726   \n",
       "items_unique     0.612625      0.029351   0.256638  0.314680  0.755494   \n",
       "sessions_len     0.524832      0.117250   0.213656  0.257400  0.505773   \n",
       "delta_mean      -0.012028     -0.057741   0.023297  0.011666 -0.012467   \n",
       "ssid_type        0.180930      0.094922   0.163955  0.211544  0.171096   \n",
       "categories       1.000000      0.081940   0.572177  0.546043  0.851116   \n",
       "event_type_nu    0.081940      1.000000   0.008137  0.054036  0.070130   \n",
       "dist1_mean       0.572177      0.008137   1.000000  0.928695  0.489877   \n",
       "dist1_max        0.546043      0.054036   0.928695  1.000000  0.458162   \n",
       "dist1_sum        0.851116      0.070130   0.489877  0.458162  1.000000   \n",
       "target           0.061417      0.555798   0.004980  0.027206  0.052561   \n",
       "\n",
       "                  target  \n",
       "                          \n",
       "count           0.106776  \n",
       "items_unique    0.009230  \n",
       "sessions_len    0.122836  \n",
       "delta_mean     -0.001522  \n",
       "ssid_type       0.119074  \n",
       "categories      0.061417  \n",
       "event_type_nu   0.555798  \n",
       "dist1_mean      0.004980  \n",
       "dist1_max       0.027206  \n",
       "dist1_sum       0.052561  \n",
       "target          1.000000  "
      ]
     },
     "execution_count": 84,
     "metadata": {},
     "output_type": "execute_result"
    }
   ],
   "source": [
    "#матрица корреляциЙ между признаками\n",
    "data.corr()"
   ]
  },
  {
   "cell_type": "code",
   "execution_count": null,
   "metadata": {
    "collapsed": true
   },
   "outputs": [],
   "source": []
  },
  {
   "cell_type": "code",
   "execution_count": 85,
   "metadata": {
    "collapsed": true
   },
   "outputs": [],
   "source": [
    "data = sessions_.drop(['ssid','target'], axis=1)\n",
    "target = sessions_.target"
   ]
  },
  {
   "cell_type": "code",
   "execution_count": null,
   "metadata": {
    "collapsed": true
   },
   "outputs": [],
   "source": []
  },
  {
   "cell_type": "code",
   "execution_count": null,
   "metadata": {
    "collapsed": true
   },
   "outputs": [],
   "source": []
  },
  {
   "cell_type": "code",
   "execution_count": 91,
   "metadata": {
    "collapsed": true
   },
   "outputs": [],
   "source": [
    "from sklearn.externals import joblib"
   ]
  },
  {
   "cell_type": "code",
   "execution_count": 92,
   "metadata": {
    "collapsed": true
   },
   "outputs": [],
   "source": [
    "filename = 'rf.joblib.pkl'"
   ]
  },
  {
   "cell_type": "code",
   "execution_count": 93,
   "metadata": {
    "collapsed": true
   },
   "outputs": [],
   "source": [
    "rf = joblib.load(filename)"
   ]
  },
  {
   "cell_type": "code",
   "execution_count": 94,
   "metadata": {},
   "outputs": [
    {
     "data": {
      "text/plain": [
       "RandomForestClassifier(bootstrap=True, class_weight=None, criterion='gini',\n",
       "            max_depth=None, max_features=3, max_leaf_nodes=None,\n",
       "            min_impurity_decrease=0.0, min_impurity_split=None,\n",
       "            min_samples_leaf=1, min_samples_split=2,\n",
       "            min_weight_fraction_leaf=0.0, n_estimators=150, n_jobs=-1,\n",
       "            oob_score=True, random_state=42, verbose=0, warm_start=False)"
      ]
     },
     "execution_count": 94,
     "metadata": {},
     "output_type": "execute_result"
    }
   ],
   "source": [
    "rf"
   ]
  },
  {
   "cell_type": "code",
   "execution_count": 95,
   "metadata": {},
   "outputs": [],
   "source": [
    "y_pred = rf.predict(data)"
   ]
  },
  {
   "cell_type": "code",
   "execution_count": 96,
   "metadata": {
    "collapsed": true
   },
   "outputs": [],
   "source": [
    "y_test = target"
   ]
  },
  {
   "cell_type": "code",
   "execution_count": 97,
   "metadata": {
    "collapsed": true
   },
   "outputs": [],
   "source": [
    "from sklearn.metrics import accuracy_score, confusion_matrix, classification_report"
   ]
  },
  {
   "cell_type": "code",
   "execution_count": 98,
   "metadata": {},
   "outputs": [
    {
     "data": {
      "text/plain": [
       "0.94539777497900923"
      ]
     },
     "execution_count": 98,
     "metadata": {},
     "output_type": "execute_result"
    }
   ],
   "source": [
    "accuracy_score(y_test, y_pred)"
   ]
  },
  {
   "cell_type": "code",
   "execution_count": 99,
   "metadata": {},
   "outputs": [
    {
     "data": {
      "text/plain": [
       "array([[69705,  3750],\n",
       "       [  412,  2357]])"
      ]
     },
     "execution_count": 99,
     "metadata": {},
     "output_type": "execute_result"
    }
   ],
   "source": [
    "confusion_matrix(y_test, y_pred)"
   ]
  },
  {
   "cell_type": "code",
   "execution_count": 100,
   "metadata": {},
   "outputs": [
    {
     "name": "stdout",
     "output_type": "stream",
     "text": [
      "             precision    recall  f1-score   support\n",
      "\n",
      "    class 0       0.99      0.95      0.97     73455\n",
      "    class 1       0.39      0.85      0.53      2769\n",
      "\n",
      "avg / total       0.97      0.95      0.96     76224\n",
      "\n"
     ]
    }
   ],
   "source": [
    "target_names = ['class 0', 'class 1']\n",
    "print(classification_report( y_test,y_pred, target_names=target_names))"
   ]
  },
  {
   "cell_type": "code",
   "execution_count": 103,
   "metadata": {
    "collapsed": true
   },
   "outputs": [],
   "source": [
    "# важность фич"
   ]
  },
  {
   "cell_type": "code",
   "execution_count": null,
   "metadata": {},
   "outputs": [],
   "source": []
  },
  {
   "cell_type": "code",
   "execution_count": 107,
   "metadata": {
    "collapsed": true
   },
   "outputs": [],
   "source": [
    "from sklearn.metrics import precision_recall_curve, roc_curve ,auc, roc_auc_score"
   ]
  },
  {
   "cell_type": "code",
   "execution_count": 108,
   "metadata": {
    "collapsed": true
   },
   "outputs": [],
   "source": [
    "predictions = rf.predict_proba(data)"
   ]
  },
  {
   "cell_type": "code",
   "execution_count": 113,
   "metadata": {},
   "outputs": [
    {
     "name": "stdout",
     "output_type": "stream",
     "text": [
      "Populating the interactive namespace from numpy and matplotlib\n"
     ]
    },
    {
     "name": "stderr",
     "output_type": "stream",
     "text": [
      "/Users/sattarov-a/Documents/DEV/Python/NETOLOGY_DS/anaconda/envs/DS1/lib/python3.6/site-packages/IPython/core/magics/pylab.py:161: UserWarning: pylab import has clobbered these variables: ['dist']\n",
      "`%matplotlib` prevents importing * from pylab and numpy\n",
      "  \"\\n`%matplotlib` prevents importing * from pylab and numpy\"\n"
     ]
    }
   ],
   "source": [
    "import matplotlib.pyplot as plt\n",
    "import seaborn as sn\n",
    "%pylab inline"
   ]
  },
  {
   "cell_type": "code",
   "execution_count": 114,
   "metadata": {},
   "outputs": [
    {
     "data": {
      "text/plain": [
       "[<matplotlib.lines.Line2D at 0x13951aef0>]"
      ]
     },
     "execution_count": 114,
     "metadata": {},
     "output_type": "execute_result"
    },
    {
     "data": {
      "image/png": "[encoded data removed]",
      "text/plain": [
       "<matplotlib.figure.Figure at 0x148438048>"
      ]
     },
     "metadata": {},
     "output_type": "display_data"
    }
   ],
   "source": [
    "pr, re, thres = precision_recall_curve(y_test, predictions[:, 1] )\n",
    "plt.plot( re, pr )\n",
    "# построим precision - recall кривую"
   ]
  },
  {
   "cell_type": "code",
   "execution_count": 115,
   "metadata": {},
   "outputs": [
    {
     "data": {
      "text/plain": [
       "[<matplotlib.lines.Line2D at 0x1395e1588>]"
      ]
     },
     "execution_count": 115,
     "metadata": {},
     "output_type": "execute_result"
    },
    {
     "data": {
      "image/png": "[encoded data removed]",
      "text/plain": [
       "<matplotlib.figure.Figure at 0x165a5b080>"
      ]
     },
     "metadata": {},
     "output_type": "display_data"
    }
   ],
   "source": [
    "fpr, tpr, thres = roc_curve(y_test, predictions[:, 1] )\n",
    "plt.plot( fpr, tpr )\n",
    "# построим ROC-кривую (Receiver Operating Characteristic)"
   ]
  },
  {
   "cell_type": "code",
   "execution_count": 116,
   "metadata": {},
   "outputs": [
    {
     "data": {
      "text/plain": [
       "0.97605491470260641"
      ]
     },
     "execution_count": 116,
     "metadata": {},
     "output_type": "execute_result"
    }
   ],
   "source": [
    "roc_auc_score( y_test, predictions[:, 1] )"
   ]
  },
  {
   "cell_type": "code",
   "execution_count": 117,
   "metadata": {},
   "outputs": [
    {
     "data": {
      "text/plain": [
       "0.97605491470260641"
      ]
     },
     "execution_count": 117,
     "metadata": {},
     "output_type": "execute_result"
    }
   ],
   "source": [
    "auc( fpr, tpr )"
   ]
  },
  {
   "cell_type": "code",
   "execution_count": 118,
   "metadata": {
    "scrolled": false
   },
   "outputs": [
    {
     "data": {
      "text/plain": [
       "<matplotlib.axes._subplots.AxesSubplot at 0x139594a20>"
      ]
     },
     "execution_count": 118,
     "metadata": {},
     "output_type": "execute_result"
    },
    {
     "data": {
      "image/png": "[encoded data removed]",
      "text/plain": [
       "<matplotlib.figure.Figure at 0x13ad47978>"
      ]
     },
     "metadata": {},
     "output_type": "display_data"
    }
   ],
   "source": [
    "plt.figure(figsize = (10,7))\n",
    "sn.set(font_scale=1)#for label size\n",
    "sn.heatmap(confusion_matrix(y_test, y_pred), annot=True,annot_kws={\"size\": 16} ,fmt=\"d\")# font size"
   ]
  },
  {
   "cell_type": "code",
   "execution_count": null,
   "metadata": {
    "collapsed": true
   },
   "outputs": [],
   "source": []
  },
  {
   "cell_type": "code",
   "execution_count": null,
   "metadata": {
    "collapsed": true
   },
   "outputs": [],
   "source": []
  },
  {
   "cell_type": "code",
   "execution_count": null,
   "metadata": {
    "collapsed": true
   },
   "outputs": [],
   "source": []
  },
  {
   "cell_type": "code",
   "execution_count": null,
   "metadata": {
    "collapsed": true
   },
   "outputs": [],
   "source": []
  },
  {
   "cell_type": "code",
   "execution_count": null,
   "metadata": {
    "collapsed": true
   },
   "outputs": [],
   "source": []
  },
  {
   "cell_type": "code",
   "execution_count": null,
   "metadata": {
    "collapsed": true
   },
   "outputs": [],
   "source": []
  },
  {
   "cell_type": "code",
   "execution_count": null,
   "metadata": {
    "collapsed": true
   },
   "outputs": [],
   "source": []
  },
  {
   "cell_type": "code",
   "execution_count": null,
   "metadata": {
    "collapsed": true
   },
   "outputs": [],
   "source": []
  },
  {
   "cell_type": "code",
   "execution_count": null,
   "metadata": {
    "collapsed": true
   },
   "outputs": [],
   "source": []
  }
 ],
 "metadata": {
  "kernelspec": {
   "display_name": "Python 3",
   "language": "python",
   "name": "python3"
  },
  "language_info": {
   "codemirror_mode": {
    "name": "ipython",
    "version": 3
   },
   "file_extension": ".py",
   "mimetype": "text/x-python",
   "name": "python",
   "nbconvert_exporter": "python",
   "pygments_lexer": "ipython3",
   "version": "3.6.1"
  }
 },
 "nbformat": 4,
 "nbformat_minor": 2
}
